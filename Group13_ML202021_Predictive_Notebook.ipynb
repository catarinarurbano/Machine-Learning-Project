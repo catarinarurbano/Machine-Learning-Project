{
 "cells": [
  {
   "cell_type": "markdown",
   "metadata": {},
   "source": [
    "# Group 13: ML Project\n",
    "### Newland: The City of the Future\n",
    "\n",
    "#### Made by:\n",
    "* Catarina Candeias (m20200656@novaims.unl.pt)\n",
    "* Catarina Urbano (m20200607@novaims.unl.pt)\n",
    "* Margarida Pereira (m20201038@novaims.unl.pt) \n",
    "* Rita Ferreira (m20200661@novaims.unl.pt)\n",
    "* Tiago Gonçalves (m20201053@novaims.unl.pt) "
   ]
  },
  {
   "cell_type": "markdown",
   "metadata": {},
   "source": [
    "## Table of Contents\n",
    "\n",
    "* [1. Imports](#1)\n",
    "* [2. Loading Data](#2)\n",
    "* [3. Train-Test Split](#3)\n",
    "* [4. Exploratory Data Analysis](#4)\n",
    "* [5. Feature Engineering](#5)\n",
    "    * [5.1. Gender](#5.1)\n",
    "    * [5.2. Birthday to Age](#5.2)\n",
    "    * [5.3. Marital Status](#5.3)\n",
    "    * [5.4. Native Continent](#5.4)    \n",
    "    * [5.5. Lives with](#5.5)\n",
    "    * [5.6. Base Area](#5.6)\n",
    "    * [5.7. Years of Education](#5.7)    \n",
    "    * [5.8. Employment Sector](#5.8)   \n",
    "    * [5.9. Role](#5.9)      \n",
    "    * [5.10. Working hours per week](#5.10)\n",
    "    * [5.11. Money Received](#5.11)\n",
    "    * [5.12. Ticket Price](#5.12)\n",
    "* [6. Missing Values Imputation](#6)\n",
    "* [7. One-Hot Encoding](#7)\n",
    "* [8. Getting a Balanced Train data](#8)\n",
    "* [9. Feature Selection](#9)\n",
    "    * [9.1. Feature Selection - Metric Features](#9.1)\n",
    "    * [9.2. Feature Selection - Categorical Features](#9.2)\n",
    "    * [9.3. Feature Selection - All features (one-hot encoded categorical features)](#9.3)\n",
    "* [10. Adjustment of the Validation and Test data sets](#10)\n",
    "* [11. Models](#11)\n",
    "    * [<font color='red'> 11.1. Final Model </font>](#11.1) \n",
    "    * [11.2. Testing other Models](#11.2)\n",
    "        * [11.2.1. Models using only the selected Features](#11.2.1)\n",
    "        * [11.2.2. Models using all the Features](#11.2.2)    \n",
    "        * [11.2.3. Model with Balanced Data ](#11.2.3)    \n",
    "        * [11.2.4. Classifiers Combination](#11.2.4)\n",
    "            * [11.2.4.1. Stacking Classifier Combinations](#11.2.4.1)\n",
    "            * [11.2.4.2. Voting Classifier Combinations](#11.2.4.2)\n",
    "        * [11.2.5. Testing the best Combinations](#11.2.5)\n",
    "            * [11.2.5.1. Model a)](#11.2.5.1)\n",
    "            * [11.2.5.2. Model b)](#11.2.5.2)\n",
    "            * [11.2.5.3. Model c)](#11.2.5.3)\n",
    "            * [11.2.5.4. Model d)](#11.2.5.4)\n",
    "            * [11.2.5.5. Model e)](#11.2.5.5)            \n",
    "    \n",
    "* [12. Submission](#12)        "
   ]
  },
  {
   "cell_type": "markdown",
   "metadata": {},
   "source": [
    "# 1. Imports <a class=\"anchor\" id=\"1\"></a>"
   ]
  },
  {
   "cell_type": "code",
   "execution_count": 77,
   "metadata": {},
   "outputs": [
    {
     "data": {
      "application/javascript": [
       "IPython.notebook.set_autosave_interval(60000)"
      ]
     },
     "metadata": {},
     "output_type": "display_data"
    },
    {
     "name": "stdout",
     "output_type": "stream",
     "text": [
      "Autosaving every 60 seconds\n"
     ]
    }
   ],
   "source": [
    "%autosave 60\n",
    "\n",
    "import numpy as np\n",
    "import pandas as pd\n",
    "import matplotlib.pyplot as plt\n",
    "import seaborn as sns\n",
    "import math\n",
    "from scipy.stats import chi2_contingency\n",
    "\n",
    "from sklearn.model_selection import train_test_split\n",
    "from sklearn.linear_model import LinearRegression, LogisticRegression, RidgeClassifierCV, LassoCV, RidgeCV\n",
    "from sklearn.feature_selection import RFE\n",
    "from sklearn.tree import DecisionTreeClassifier\n",
    "from sklearn.impute import KNNImputer\n",
    "from sklearn.decomposition import PCA\n",
    "from sklearn.preprocessing import MinMaxScaler, StandardScaler, OneHotEncoder\n",
    "import warnings\n",
    "from sklearn.feature_selection import SelectFromModel\n",
    "from sklearn.ensemble import RandomForestClassifier\n",
    "warnings.filterwarnings('ignore')\n",
    "\n",
    "from sklearn.metrics import classification_report, confusion_matrix\n",
    "from scipy.spatial.distance import squareform, pdist\n",
    "from sklearn.model_selection import KFold\n",
    "from sklearn.model_selection import cross_val_score\n",
    "from sklearn.model_selection import GridSearchCV\n",
    "from sklearn.metrics import f1_score\n",
    "from sklearn.neural_network import MLPClassifier\n",
    "from scipy.stats import randint as sp_randint\n",
    "from sklearn.model_selection import RandomizedSearchCV\n",
    "from sklearn.ensemble import GradientBoostingClassifier\n",
    "from sklearn.naive_bayes import GaussianNB\n",
    "from sklearn.ensemble import BaggingClassifier\n",
    "from sklearn import model_selection\n",
    "\n",
    "from sklearn.experimental import enable_hist_gradient_boosting\n",
    "from sklearn.ensemble import VotingClassifier\n",
    "from sklearn.ensemble import HistGradientBoostingClassifier\n",
    "from sklearn.ensemble import AdaBoostClassifier\n",
    "from sklearn.svm import SVC, LinearSVC\n",
    "from sklearn.ensemble import StackingClassifier\n",
    "\n",
    "from itertools import combinations"
   ]
  },
  {
   "cell_type": "markdown",
   "metadata": {},
   "source": [
    "# 2. Loading Data <a class=\"anchor\" id=\"2\"></a>"
   ]
  },
  {
   "cell_type": "code",
   "execution_count": 78,
   "metadata": {},
   "outputs": [
    {
     "data": {
      "text/html": [
       "<div>\n",
       "<style scoped>\n",
       "    .dataframe tbody tr th:only-of-type {\n",
       "        vertical-align: middle;\n",
       "    }\n",
       "\n",
       "    .dataframe tbody tr th {\n",
       "        vertical-align: top;\n",
       "    }\n",
       "\n",
       "    .dataframe thead th {\n",
       "        text-align: right;\n",
       "    }\n",
       "</style>\n",
       "<table border=\"1\" class=\"dataframe\">\n",
       "  <thead>\n",
       "    <tr style=\"text-align: right;\">\n",
       "      <th></th>\n",
       "      <th>Name</th>\n",
       "      <th>Birthday</th>\n",
       "      <th>Native Continent</th>\n",
       "      <th>Marital Status</th>\n",
       "      <th>Lives with</th>\n",
       "      <th>Base Area</th>\n",
       "      <th>Education Level</th>\n",
       "      <th>Years of Education</th>\n",
       "      <th>Employment Sector</th>\n",
       "      <th>Role</th>\n",
       "      <th>Working Hours per week</th>\n",
       "      <th>Money Received</th>\n",
       "      <th>Ticket Price</th>\n",
       "      <th>Income</th>\n",
       "    </tr>\n",
       "    <tr>\n",
       "      <th>CITIZEN_ID</th>\n",
       "      <th></th>\n",
       "      <th></th>\n",
       "      <th></th>\n",
       "      <th></th>\n",
       "      <th></th>\n",
       "      <th></th>\n",
       "      <th></th>\n",
       "      <th></th>\n",
       "      <th></th>\n",
       "      <th></th>\n",
       "      <th></th>\n",
       "      <th></th>\n",
       "      <th></th>\n",
       "      <th></th>\n",
       "    </tr>\n",
       "  </thead>\n",
       "  <tbody>\n",
       "    <tr>\n",
       "      <th>12486</th>\n",
       "      <td>Mr. Adam Glover</td>\n",
       "      <td>July 1,2003</td>\n",
       "      <td>Europe</td>\n",
       "      <td>Married</td>\n",
       "      <td>Wife</td>\n",
       "      <td>Northbury</td>\n",
       "      <td>High School + PostGraduation</td>\n",
       "      <td>13</td>\n",
       "      <td>Private Sector - Services</td>\n",
       "      <td>Repair &amp; constructions</td>\n",
       "      <td>40</td>\n",
       "      <td>0</td>\n",
       "      <td>2273</td>\n",
       "      <td>1</td>\n",
       "    </tr>\n",
       "    <tr>\n",
       "      <th>12487</th>\n",
       "      <td>Mr. Cameron McDonald</td>\n",
       "      <td>January 25,2006</td>\n",
       "      <td>Europe</td>\n",
       "      <td>Married</td>\n",
       "      <td>Wife</td>\n",
       "      <td>Northbury</td>\n",
       "      <td>Professional School</td>\n",
       "      <td>12</td>\n",
       "      <td>Public Sector - Others</td>\n",
       "      <td>Repair &amp; constructions</td>\n",
       "      <td>40</td>\n",
       "      <td>0</td>\n",
       "      <td>0</td>\n",
       "      <td>1</td>\n",
       "    </tr>\n",
       "    <tr>\n",
       "      <th>12488</th>\n",
       "      <td>Mr. Keith Davidson</td>\n",
       "      <td>May 10,2009</td>\n",
       "      <td>Europe</td>\n",
       "      <td>Married</td>\n",
       "      <td>Wife</td>\n",
       "      <td>Northbury</td>\n",
       "      <td>Professional School</td>\n",
       "      <td>12</td>\n",
       "      <td>Private Sector - Services</td>\n",
       "      <td>Sales</td>\n",
       "      <td>46</td>\n",
       "      <td>0</td>\n",
       "      <td>2321</td>\n",
       "      <td>1</td>\n",
       "    </tr>\n",
       "    <tr>\n",
       "      <th>12489</th>\n",
       "      <td>Mr. Alexander Gill</td>\n",
       "      <td>March 25,1985</td>\n",
       "      <td>Europe</td>\n",
       "      <td>Married</td>\n",
       "      <td>Wife</td>\n",
       "      <td>Northbury</td>\n",
       "      <td>High School - 2nd Cycle</td>\n",
       "      <td>11</td>\n",
       "      <td>Private Sector - Services</td>\n",
       "      <td>Security</td>\n",
       "      <td>37</td>\n",
       "      <td>5395</td>\n",
       "      <td>0</td>\n",
       "      <td>1</td>\n",
       "    </tr>\n",
       "    <tr>\n",
       "      <th>12490</th>\n",
       "      <td>Mr. Neil Piper</td>\n",
       "      <td>May 29,2015</td>\n",
       "      <td>Europe</td>\n",
       "      <td>Single</td>\n",
       "      <td>Other Family</td>\n",
       "      <td>Northbury</td>\n",
       "      <td>PhD</td>\n",
       "      <td>21</td>\n",
       "      <td>Self-Employed (Individual)</td>\n",
       "      <td>Professor</td>\n",
       "      <td>45</td>\n",
       "      <td>0</td>\n",
       "      <td>0</td>\n",
       "      <td>1</td>\n",
       "    </tr>\n",
       "  </tbody>\n",
       "</table>\n",
       "</div>"
      ],
      "text/plain": [
       "                            Name          Birthday Native Continent  \\\n",
       "CITIZEN_ID                                                            \n",
       "12486            Mr. Adam Glover       July 1,2003           Europe   \n",
       "12487       Mr. Cameron McDonald   January 25,2006           Europe   \n",
       "12488         Mr. Keith Davidson       May 10,2009           Europe   \n",
       "12489         Mr. Alexander Gill     March 25,1985           Europe   \n",
       "12490             Mr. Neil Piper       May 29,2015           Europe   \n",
       "\n",
       "           Marital Status    Lives with  Base Area  \\\n",
       "CITIZEN_ID                                           \n",
       "12486             Married          Wife  Northbury   \n",
       "12487             Married          Wife  Northbury   \n",
       "12488             Married          Wife  Northbury   \n",
       "12489             Married          Wife  Northbury   \n",
       "12490              Single  Other Family  Northbury   \n",
       "\n",
       "                         Education Level  Years of Education  \\\n",
       "CITIZEN_ID                                                     \n",
       "12486       High School + PostGraduation                  13   \n",
       "12487                Professional School                  12   \n",
       "12488                Professional School                  12   \n",
       "12489            High School - 2nd Cycle                  11   \n",
       "12490                                PhD                  21   \n",
       "\n",
       "                     Employment Sector                    Role  \\\n",
       "CITIZEN_ID                                                       \n",
       "12486       Private Sector - Services   Repair & constructions   \n",
       "12487           Public Sector - Others  Repair & constructions   \n",
       "12488       Private Sector - Services                    Sales   \n",
       "12489       Private Sector - Services                 Security   \n",
       "12490       Self-Employed (Individual)               Professor   \n",
       "\n",
       "            Working Hours per week  Money Received  Ticket Price  Income  \n",
       "CITIZEN_ID                                                                \n",
       "12486                           40               0          2273       1  \n",
       "12487                           40               0             0       1  \n",
       "12488                           46               0          2321       1  \n",
       "12489                           37            5395             0       1  \n",
       "12490                           45               0             0       1  "
      ]
     },
     "execution_count": 78,
     "metadata": {},
     "output_type": "execute_result"
    }
   ],
   "source": [
    "dfRAW = pd.read_excel(\"Train.xlsx\").set_index(\"CITIZEN_ID\")\n",
    "dfRAW.head()"
   ]
  },
  {
   "cell_type": "markdown",
   "metadata": {},
   "source": [
    "# 3.Train-Test Split <a class=\"anchor\" id=\"3\"></a>"
   ]
  },
  {
   "cell_type": "code",
   "execution_count": 79,
   "metadata": {},
   "outputs": [],
   "source": [
    "data = dfRAW.iloc[:,:-1]\n",
    "target = dfRAW.iloc[:,-1]"
   ]
  },
  {
   "cell_type": "markdown",
   "metadata": {},
   "source": [
    "Train/Validation and Test:"
   ]
  },
  {
   "cell_type": "code",
   "execution_count": 80,
   "metadata": {},
   "outputs": [],
   "source": [
    "X_train_val, X_test, y_train_val, y_test = train_test_split(data, \n",
    "                                                    target, \n",
    "                                                    test_size=0.2, \n",
    "                                                    random_state=15, \n",
    "                                                    shuffle=True, \n",
    "                                                    stratify=target\n",
    "                                                   )"
   ]
  },
  {
   "cell_type": "markdown",
   "metadata": {},
   "source": [
    "Train and Validation:"
   ]
  },
  {
   "cell_type": "code",
   "execution_count": 81,
   "metadata": {},
   "outputs": [],
   "source": [
    "X_train, X_val, y_train, y_val = train_test_split(X_train_val,\n",
    "                                                  y_train_val,\n",
    "                                                  test_size = 0.25,\n",
    "                                                  random_state = 15,\n",
    "                                                  shuffle=True,\n",
    "                                                  stratify=y_train_val\n",
    ")"
   ]
  },
  {
   "cell_type": "markdown",
   "metadata": {},
   "source": [
    "# 4. Exploratory Data Analysis <a class=\"anchor\" id=\"4\"></a>"
   ]
  },
  {
   "cell_type": "code",
   "execution_count": 82,
   "metadata": {},
   "outputs": [],
   "source": [
    "df = X_train.copy()\n",
    "df = pd.concat([df,y_train],axis=1)"
   ]
  },
  {
   "cell_type": "markdown",
   "metadata": {},
   "source": [
    "Are there duplicated observations?"
   ]
  },
  {
   "cell_type": "code",
   "execution_count": 83,
   "metadata": {},
   "outputs": [
    {
     "data": {
      "text/plain": [
       "0"
      ]
     },
     "execution_count": 83,
     "metadata": {},
     "output_type": "execute_result"
    }
   ],
   "source": [
    "df.duplicated().sum()"
   ]
  },
  {
   "cell_type": "markdown",
   "metadata": {},
   "source": [
    "Data types:"
   ]
  },
  {
   "cell_type": "code",
   "execution_count": 84,
   "metadata": {},
   "outputs": [
    {
     "name": "stdout",
     "output_type": "stream",
     "text": [
      "<class 'pandas.core.frame.DataFrame'>\n",
      "Int64Index: 13440 entries, 17935 to 23443\n",
      "Data columns (total 14 columns):\n",
      " #   Column                  Non-Null Count  Dtype \n",
      "---  ------                  --------------  ----- \n",
      " 0   Name                    13440 non-null  object\n",
      " 1   Birthday                13440 non-null  object\n",
      " 2   Native Continent        13440 non-null  object\n",
      " 3   Marital Status          13440 non-null  object\n",
      " 4   Lives with              13440 non-null  object\n",
      " 5   Base Area               13440 non-null  object\n",
      " 6   Education Level         13440 non-null  object\n",
      " 7   Years of Education      13440 non-null  int64 \n",
      " 8   Employment Sector       13440 non-null  object\n",
      " 9   Role                    13440 non-null  object\n",
      " 10  Working Hours per week  13440 non-null  int64 \n",
      " 11  Money Received          13440 non-null  int64 \n",
      " 12  Ticket Price            13440 non-null  int64 \n",
      " 13  Income                  13440 non-null  int64 \n",
      "dtypes: int64(5), object(9)\n",
      "memory usage: 1.5+ MB\n"
     ]
    }
   ],
   "source": [
    "df.info() "
   ]
  },
  {
   "cell_type": "markdown",
   "metadata": {},
   "source": [
    "Count of Missing Values:"
   ]
  },
  {
   "cell_type": "code",
   "execution_count": 85,
   "metadata": {},
   "outputs": [],
   "source": [
    "df.replace('?', np.nan, inplace=True)"
   ]
  },
  {
   "cell_type": "code",
   "execution_count": 86,
   "metadata": {},
   "outputs": [
    {
     "data": {
      "text/plain": [
       "Name                        0\n",
       "Birthday                    0\n",
       "Native Continent            0\n",
       "Marital Status              0\n",
       "Lives with                  0\n",
       "Base Area                 225\n",
       "Education Level             0\n",
       "Years of Education          0\n",
       "Employment Sector         757\n",
       "Role                      758\n",
       "Working Hours per week      0\n",
       "Money Received              0\n",
       "Ticket Price                0\n",
       "Income                      0\n",
       "dtype: int64"
      ]
     },
     "execution_count": 86,
     "metadata": {},
     "output_type": "execute_result"
    }
   ],
   "source": [
    "df.isna().sum()"
   ]
  },
  {
   "cell_type": "markdown",
   "metadata": {},
   "source": [
    "# 5. Feature Engineering <a class=\"anchor\" id=\"5\"></a>"
   ]
  },
  {
   "cell_type": "code",
   "execution_count": 87,
   "metadata": {},
   "outputs": [],
   "source": [
    "#Auxiliary Function\n",
    "def bar_charts_categorical(df, feature, target):\n",
    "    cont_tab = pd.crosstab(df[feature], df[target], margins = True)\n",
    "    categories = cont_tab.index[:-1]\n",
    "        \n",
    "    fig = plt.figure(figsize=(15, 5))\n",
    "    \n",
    "    plt.subplot(121)\n",
    "    p1 = plt.bar(categories, cont_tab.iloc[:-1, 0].values, 0.55, color=\"gray\")\n",
    "    p2 = plt.bar(categories, cont_tab.iloc[:-1, 1].values, 0.55, bottom=cont_tab.iloc[:-1, 0], color=\"yellowgreen\")\n",
    "    plt.legend((p2[0], p1[0]), ('$y_i=1$', '$y_i=0$'))\n",
    "    plt.title(\"Frequency bar chart\")\n",
    "    plt.xlabel(feature)\n",
    "    plt.xticks(rotation=90)\n",
    "    plt.ylabel(\"$Frequency$\")\n",
    "\n",
    "    # auxiliary data for 122\n",
    "    obs_pct = np.array([np.divide(cont_tab.iloc[:-1, 0].values, cont_tab.iloc[:-1, 2].values), \n",
    "                        np.divide(cont_tab.iloc[:-1, 1].values, cont_tab.iloc[:-1, 2].values)])\n",
    "      \n",
    "    plt.subplot(122)\n",
    "    p1 = plt.bar(categories, obs_pct[0], 0.55, color=\"gray\")\n",
    "    p2 = plt.bar(categories, obs_pct[1], 0.55, bottom=obs_pct[0], color=\"yellowgreen\")\n",
    "    plt.legend((p2[0], p1[0]), ('$y_i=1$', '$y_i=0$'))\n",
    "    plt.title(\"Proportion bar chart\")\n",
    "    plt.xlabel(feature)\n",
    "    plt.ylabel(\"$p$\")\n",
    "    plt.xticks(rotation=90)\n",
    "    plt.show()"
   ]
  },
  {
   "cell_type": "markdown",
   "metadata": {},
   "source": [
    "### 5.1. Gender <a class=\"anchor\" id=\"5.1\"></a>"
   ]
  },
  {
   "cell_type": "markdown",
   "metadata": {},
   "source": [
    "Getting the citizen's gender from his/her name:"
   ]
  },
  {
   "cell_type": "code",
   "execution_count": 88,
   "metadata": {},
   "outputs": [],
   "source": [
    "gender = df[\"Name\"].str.split(' ',expand=True, n=1)[0]\n",
    "gender = gender.map(lambda x: 1 if x=='Mr.' else 0) #1 for Male, 0 for Female\n",
    "df.insert(2, \"Gender\", gender)"
   ]
  },
  {
   "cell_type": "markdown",
   "metadata": {},
   "source": [
    "Does the gender of the citizen influence his/her income level?"
   ]
  },
  {
   "cell_type": "code",
   "execution_count": 89,
   "metadata": {},
   "outputs": [
    {
     "data": {
      "image/png": "[encoded data removed]",
      "text/plain": [
       "<Figure size 1080x360 with 2 Axes>"
      ]
     },
     "metadata": {
      "needs_background": "light"
     },
     "output_type": "display_data"
    }
   ],
   "source": [
    "bar_charts_categorical(df,\"Gender\", 'Income')"
   ]
  },
  {
   "cell_type": "markdown",
   "metadata": {},
   "source": [
    "### 5.2. Birthday to Age <a class=\"anchor\" id=\"5.2\"></a>"
   ]
  },
  {
   "cell_type": "code",
   "execution_count": 90,
   "metadata": {},
   "outputs": [],
   "source": [
    "Age = 2048 - df[\"Birthday\"].str.split(\",\",expand=True)[1].astype(int)\n",
    "df.insert(3, \"Age\", Age)"
   ]
  },
  {
   "cell_type": "code",
   "execution_count": 91,
   "metadata": {},
   "outputs": [
    {
     "data": {
      "text/plain": [
       "<AxesSubplot:xlabel='Age', ylabel='Density'>"
      ]
     },
     "execution_count": 91,
     "metadata": {},
     "output_type": "execute_result"
    },
    {
     "data": {
      "image/png": "[encoded data removed]",
      "text/plain": [
       "<Figure size 432x288 with 1 Axes>"
      ]
     },
     "metadata": {
      "needs_background": "light"
     },
     "output_type": "display_data"
    }
   ],
   "source": [
    "#Age distribution:\n",
    "sns.distplot(df['Age'], color='tab:grey',bins=90)"
   ]
  },
  {
   "cell_type": "code",
   "execution_count": 92,
   "metadata": {},
   "outputs": [
    {
     "data": {
      "text/plain": [
       "<AxesSubplot:xlabel='Age'>"
      ]
     },
     "execution_count": 92,
     "metadata": {},
     "output_type": "execute_result"
    },
    {
     "data": {
      "image/png": "[encoded data removed]",
      "text/plain": [
       "<Figure size 432x288 with 1 Axes>"
      ]
     },
     "metadata": {
      "needs_background": "light"
     },
     "output_type": "display_data"
    }
   ],
   "source": [
    "sns.boxplot(df[\"Age\"], color = \"yellowgreen\")"
   ]
  },
  {
   "cell_type": "code",
   "execution_count": 93,
   "metadata": {},
   "outputs": [
    {
     "data": {
      "image/png": "[encoded data removed]",
      "text/plain": [
       "<Figure size 1080x360 with 2 Axes>"
      ]
     },
     "metadata": {
      "needs_background": "light"
     },
     "output_type": "display_data"
    }
   ],
   "source": [
    "bar_charts_categorical(df,\"Age\",\"Income\")"
   ]
  },
  {
   "cell_type": "markdown",
   "metadata": {},
   "source": [
    "### 5.3. Marital Status <a class=\"anchor\" id=\"5.3\"></a>"
   ]
  },
  {
   "cell_type": "code",
   "execution_count": 94,
   "metadata": {},
   "outputs": [
    {
     "data": {
      "image/png": "[encoded data removed]",
      "text/plain": [
       "<Figure size 1080x360 with 2 Axes>"
      ]
     },
     "metadata": {
      "needs_background": "light"
     },
     "output_type": "display_data"
    }
   ],
   "source": [
    "bar_charts_categorical(df,\"Marital Status\", \"Income\")"
   ]
  },
  {
   "cell_type": "code",
   "execution_count": 95,
   "metadata": {},
   "outputs": [],
   "source": [
    "df[\"Marital Status\"] = df[\"Marital Status\"].map(lambda x: \"Married_A\" if (x=='Married') |(x=='Married - Spouse Missing') else \n",
    "                                               \"Married_B\" if (x=='Single') else 'Married_C')"
   ]
  },
  {
   "cell_type": "code",
   "execution_count": 96,
   "metadata": {},
   "outputs": [
    {
     "data": {
      "image/png": "[encoded data removed]",
      "text/plain": [
       "<Figure size 1080x360 with 2 Axes>"
      ]
     },
     "metadata": {
      "needs_background": "light"
     },
     "output_type": "display_data"
    }
   ],
   "source": [
    "bar_charts_categorical(df,\"Marital Status\", \"Income\")"
   ]
  },
  {
   "cell_type": "markdown",
   "metadata": {},
   "source": [
    "### 5.4. Native Continent <a class=\"anchor\" id=\"5.4\"></a>"
   ]
  },
  {
   "cell_type": "code",
   "execution_count": 97,
   "metadata": {},
   "outputs": [
    {
     "data": {
      "image/png": "[encoded data removed]",
      "text/plain": [
       "<Figure size 1080x360 with 2 Axes>"
      ]
     },
     "metadata": {
      "needs_background": "light"
     },
     "output_type": "display_data"
    }
   ],
   "source": [
    "bar_charts_categorical(df,\"Native Continent\", \"Income\")"
   ]
  },
  {
   "cell_type": "code",
   "execution_count": 98,
   "metadata": {},
   "outputs": [],
   "source": [
    "#Turning Native Continent into a binary variable: 1 if from Eurasia, 0 otherwise.\n",
    "df[\"Native Continent\"] = df[\"Native Continent\"].map(lambda x: \"1\" if x=='Europe' or x=='Asia' else \"0\")"
   ]
  },
  {
   "cell_type": "markdown",
   "metadata": {},
   "source": [
    "### 5.5. Lives with <a class=\"anchor\" id=\"5.5\"></a>"
   ]
  },
  {
   "cell_type": "code",
   "execution_count": 99,
   "metadata": {},
   "outputs": [
    {
     "data": {
      "image/png": "[encoded data removed]",
      "text/plain": [
       "<Figure size 1080x360 with 2 Axes>"
      ]
     },
     "metadata": {
      "needs_background": "light"
     },
     "output_type": "display_data"
    }
   ],
   "source": [
    "bar_charts_categorical(df,\"Lives with\", \"Income\")"
   ]
  },
  {
   "cell_type": "code",
   "execution_count": 100,
   "metadata": {},
   "outputs": [],
   "source": [
    "#Group in 3 categories:\n",
    "# A - Alone and Other Family\n",
    "# B - Children and Other Relatives\n",
    "# C - Husband and Wife\n",
    "\n",
    "# Lives_Category = pd.Series(df[\"Lives with\"].map(lambda x: 'A' if x=='Alone' or x=='Other Family' else \"B\" if x=='Children' or x== 'Other Relatives' \n",
    "#                                                           else \"C\"), name='Lives_category')"
   ]
  },
  {
   "cell_type": "code",
   "execution_count": 101,
   "metadata": {},
   "outputs": [],
   "source": [
    "# df = df.drop('Lives with', axis=1)\n",
    "# df.insert(8, 'Lives with', Lives_Category)"
   ]
  },
  {
   "cell_type": "markdown",
   "metadata": {},
   "source": [
    "### 5.6. Base Area <a class=\"anchor\" id=\"5.6\"></a>"
   ]
  },
  {
   "cell_type": "code",
   "execution_count": 102,
   "metadata": {},
   "outputs": [
    {
     "data": {
      "text/plain": [
       "Northbury        12068\n",
       "Fanfoss            270\n",
       "NaN                225\n",
       "Alverton            80\n",
       "Butterpond          65\n",
       "Auchenshuggle       50\n",
       "Watford             46\n",
       "Pran                43\n",
       "Laewaes             42\n",
       "Aroonshire          37\n",
       "Fool's March        35\n",
       "Eelry               33\n",
       "Sharpton            33\n",
       "Sharnwick           31\n",
       "Cherrytown          31\n",
       "Wigston             30\n",
       "King's Watch        30\n",
       "Bellmoral           26\n",
       "Kirkwall            26\n",
       "Lanercost           25\n",
       "Aerilon             25\n",
       "Knife's Edge        23\n",
       "Laenteglos          20\n",
       "Tranmere            15\n",
       "Drumchapel          14\n",
       "Lewes               12\n",
       "Kald                11\n",
       "MillerVille         11\n",
       "Aberuthven          10\n",
       "Orilon              10\n",
       "Carlisle            10\n",
       "Conriston            9\n",
       "Willesden            8\n",
       "Redwick Bush         8\n",
       "Mensfield            7\n",
       "Marnmouth            6\n",
       "Woodpine             6\n",
       "Middlesbrough        4\n",
       "Bellenau             4\n",
       "Ironforge            1\n",
       "Name: Base Area, dtype: int64"
      ]
     },
     "execution_count": 102,
     "metadata": {},
     "output_type": "execute_result"
    }
   ],
   "source": [
    "df['Base Area'].value_counts(dropna=False)"
   ]
  },
  {
   "cell_type": "code",
   "execution_count": 103,
   "metadata": {},
   "outputs": [],
   "source": [
    "# 90% of the train is 'Northbury' - we can delete this variable, since it does not add information:\n",
    "df = df.drop(\"Base Area\",axis=1)"
   ]
  },
  {
   "cell_type": "markdown",
   "metadata": {},
   "source": [
    "### 5.7. Years of Education <a class=\"anchor\" id=\"5.7\"></a>"
   ]
  },
  {
   "cell_type": "code",
   "execution_count": 104,
   "metadata": {},
   "outputs": [
    {
     "data": {
      "text/html": [
       "<div>\n",
       "<style scoped>\n",
       "    .dataframe tbody tr th:only-of-type {\n",
       "        vertical-align: middle;\n",
       "    }\n",
       "\n",
       "    .dataframe tbody tr th {\n",
       "        vertical-align: top;\n",
       "    }\n",
       "\n",
       "    .dataframe thead th {\n",
       "        text-align: right;\n",
       "    }\n",
       "</style>\n",
       "<table border=\"1\" class=\"dataframe\">\n",
       "  <thead>\n",
       "    <tr style=\"text-align: right;\">\n",
       "      <th></th>\n",
       "      <th></th>\n",
       "      <th>Count of Individuals</th>\n",
       "    </tr>\n",
       "    <tr>\n",
       "      <th>Years of Education</th>\n",
       "      <th>Education Level</th>\n",
       "      <th></th>\n",
       "    </tr>\n",
       "  </thead>\n",
       "  <tbody>\n",
       "    <tr>\n",
       "      <th>2</th>\n",
       "      <th>Preschool</th>\n",
       "      <td>20</td>\n",
       "    </tr>\n",
       "    <tr>\n",
       "      <th>4</th>\n",
       "      <th>Primary School</th>\n",
       "      <td>66</td>\n",
       "    </tr>\n",
       "    <tr>\n",
       "      <th>6</th>\n",
       "      <th>Middle School - 1st Cycle</th>\n",
       "      <td>143</td>\n",
       "    </tr>\n",
       "    <tr>\n",
       "      <th>8</th>\n",
       "      <th>Middle School - 2nd Cycle</th>\n",
       "      <td>267</td>\n",
       "    </tr>\n",
       "    <tr>\n",
       "      <th>9</th>\n",
       "      <th>Middle School Complete</th>\n",
       "      <td>196</td>\n",
       "    </tr>\n",
       "    <tr>\n",
       "      <th>10</th>\n",
       "      <th>High School - 1st Cycle</th>\n",
       "      <td>387</td>\n",
       "    </tr>\n",
       "    <tr>\n",
       "      <th>11</th>\n",
       "      <th>High School - 2nd Cycle</th>\n",
       "      <td>480</td>\n",
       "    </tr>\n",
       "    <tr>\n",
       "      <th rowspan=\"2\" valign=\"top\">12</th>\n",
       "      <th>High School Complete</th>\n",
       "      <td>164</td>\n",
       "    </tr>\n",
       "    <tr>\n",
       "      <th>Professional School</th>\n",
       "      <td>4357</td>\n",
       "    </tr>\n",
       "    <tr>\n",
       "      <th rowspan=\"2\" valign=\"top\">13</th>\n",
       "      <th>High School + PostGraduation</th>\n",
       "      <td>2977</td>\n",
       "    </tr>\n",
       "    <tr>\n",
       "      <th>Professional School + PostGraduation</th>\n",
       "      <td>575</td>\n",
       "    </tr>\n",
       "    <tr>\n",
       "      <th>15</th>\n",
       "      <th>Bachelors</th>\n",
       "      <td>460</td>\n",
       "    </tr>\n",
       "    <tr>\n",
       "      <th>16</th>\n",
       "      <th>Bachelors + PostGraduation</th>\n",
       "      <td>2210</td>\n",
       "    </tr>\n",
       "    <tr>\n",
       "      <th>17</th>\n",
       "      <th>Masters</th>\n",
       "      <td>719</td>\n",
       "    </tr>\n",
       "    <tr>\n",
       "      <th>18</th>\n",
       "      <th>Masters + PostGraduation</th>\n",
       "      <td>245</td>\n",
       "    </tr>\n",
       "    <tr>\n",
       "      <th>21</th>\n",
       "      <th>PhD</th>\n",
       "      <td>174</td>\n",
       "    </tr>\n",
       "  </tbody>\n",
       "</table>\n",
       "</div>"
      ],
      "text/plain": [
       "                                                         Count of Individuals\n",
       "Years of Education Education Level                                           \n",
       "2                  Preschool                                               20\n",
       "4                  Primary School                                          66\n",
       "6                  Middle School - 1st Cycle                              143\n",
       "8                  Middle School - 2nd Cycle                              267\n",
       "9                  Middle School Complete                                 196\n",
       "10                 High School - 1st Cycle                                387\n",
       "11                 High School - 2nd Cycle                                480\n",
       "12                 High School Complete                                   164\n",
       "                   Professional School                                   4357\n",
       "13                 High School + PostGraduation                          2977\n",
       "                   Professional School + PostGraduation                   575\n",
       "15                 Bachelors                                              460\n",
       "16                 Bachelors + PostGraduation                            2210\n",
       "17                 Masters                                                719\n",
       "18                 Masters + PostGraduation                               245\n",
       "21                 PhD                                                    174"
      ]
     },
     "execution_count": 104,
     "metadata": {},
     "output_type": "execute_result"
    }
   ],
   "source": [
    "df.loc[:,[\"Education Level\",\"Years of Education\"]].groupby(by=[\"Years of Education\", \"Education Level\"]).agg({\"Years of Education\":\"count\"}).rename(columns={\"Years of Education\":\"Count of Individuals\"})"
   ]
  },
  {
   "cell_type": "markdown",
   "metadata": {},
   "source": [
    "We can check that the categorical variable Education Level is almost fully explained by the numerical variable Years of Education, therefore we're dropping the categorical variable Education Level."
   ]
  },
  {
   "cell_type": "code",
   "execution_count": 105,
   "metadata": {},
   "outputs": [],
   "source": [
    "df = df.drop(\"Education Level\",axis=1)"
   ]
  },
  {
   "cell_type": "markdown",
   "metadata": {},
   "source": [
    "### 5.8. Employment Sector  <a class=\"anchor\" id=\"5.8\"></a>"
   ]
  },
  {
   "cell_type": "code",
   "execution_count": 106,
   "metadata": {},
   "outputs": [
    {
     "data": {
      "image/png": "[encoded data removed]",
      "text/plain": [
       "<Figure size 1080x360 with 2 Axes>"
      ]
     },
     "metadata": {
      "needs_background": "light"
     },
     "output_type": "display_data"
    }
   ],
   "source": [
    "bar_charts_categorical(df,\"Employment Sector\", \"Income\")"
   ]
  },
  {
   "cell_type": "code",
   "execution_count": 107,
   "metadata": {},
   "outputs": [],
   "source": [
    "#Changing the Role of people who Never worked from NaN to \"Never Worked\":\n",
    "df[\"Role\"] = df.apply(lambda x: \"Never Worked\" if x[\"Employment Sector\"]==\"Never Worked\" else x[\"Role\"], axis=1)"
   ]
  },
  {
   "cell_type": "code",
   "execution_count": 108,
   "metadata": {},
   "outputs": [],
   "source": [
    "#Joining \"Never Worked\" and \"Unemployed\" into a single category: \"No work\"\n",
    "#Joining \"Private Sector - Others\" and \"Private Sector - Services\" into a single category: \"Private Sector\""
   ]
  },
  {
   "cell_type": "code",
   "execution_count": 109,
   "metadata": {},
   "outputs": [],
   "source": [
    "df['Employment Sector'] = df['Employment Sector'].map(lambda x: \"No work\" if (x==\"Never Worked\") | (x==\"Unemployed\") else \"Private Sector\" if (x==\"Private Sector - Others\") | (x==\"Private Sector - Services \") else x).rename(\"Employment_Sector\")"
   ]
  },
  {
   "cell_type": "code",
   "execution_count": 110,
   "metadata": {},
   "outputs": [
    {
     "data": {
      "image/png": "[encoded data removed]",
      "text/plain": [
       "<Figure size 1080x360 with 2 Axes>"
      ]
     },
     "metadata": {
      "needs_background": "light"
     },
     "output_type": "display_data"
    }
   ],
   "source": [
    "bar_charts_categorical(df,\"Employment Sector\", \"Income\")"
   ]
  },
  {
   "cell_type": "markdown",
   "metadata": {},
   "source": [
    "### 5.9. Role <a class=\"anchor\" id=\"5.9\"></a>"
   ]
  },
  {
   "cell_type": "code",
   "execution_count": 111,
   "metadata": {},
   "outputs": [
    {
     "data": {
      "image/png": "[encoded data removed]",
      "text/plain": [
       "<Figure size 1080x360 with 2 Axes>"
      ]
     },
     "metadata": {
      "needs_background": "light"
     },
     "output_type": "display_data"
    }
   ],
   "source": [
    "bar_charts_categorical(df,\"Role\", \"Income\")"
   ]
  },
  {
   "cell_type": "code",
   "execution_count": 112,
   "metadata": {},
   "outputs": [],
   "source": [
    "#merging the Roles \"Household Services\" and \"Never Worked\" into \"HS&NW\"\n",
    "df[\"Role\"] = df[\"Role\"].map(lambda x: \"HS&NW\" if (x==\"Household Services\") | (x==\"Never Worked\") else x)"
   ]
  },
  {
   "cell_type": "code",
   "execution_count": 113,
   "metadata": {},
   "outputs": [
    {
     "data": {
      "image/png": "[encoded data removed]",
      "text/plain": [
       "<Figure size 1080x360 with 2 Axes>"
      ]
     },
     "metadata": {
      "needs_background": "light"
     },
     "output_type": "display_data"
    }
   ],
   "source": [
    "bar_charts_categorical(df,\"Role\", \"Income\")"
   ]
  },
  {
   "cell_type": "markdown",
   "metadata": {},
   "source": [
    "### 5.10. Working hours per week <a class=\"anchor\" id=\"5.10\"></a>"
   ]
  },
  {
   "cell_type": "code",
   "execution_count": 114,
   "metadata": {},
   "outputs": [
    {
     "data": {
      "text/plain": [
       "<AxesSubplot:xlabel='Working Hours per week'>"
      ]
     },
     "execution_count": 114,
     "metadata": {},
     "output_type": "execute_result"
    },
    {
     "data": {
      "image/png": "[encoded data removed]",
      "text/plain": [
       "<Figure size 432x288 with 1 Axes>"
      ]
     },
     "metadata": {
      "needs_background": "light"
     },
     "output_type": "display_data"
    }
   ],
   "source": [
    "sns.boxplot(df[\"Working Hours per week\"], color = \"yellowgreen\")"
   ]
  },
  {
   "cell_type": "code",
   "execution_count": 115,
   "metadata": {},
   "outputs": [],
   "source": [
    "#we can see that some values are out of the ordinary\n",
    "#So, we defined that an acceptable work limit would be 70 hours (10 hours daily, 7 days a week)\n",
    "#All values above that, we assume as 70\n",
    "#few hours we think it is acceptable, since they can work only in part-time\n",
    "\n",
    "df['Working Hours per week'] = df['Working Hours per week'].map(lambda x: 70 if x > 70 else x)\n",
    "\n"
   ]
  },
  {
   "cell_type": "markdown",
   "metadata": {},
   "source": [
    "### 5.11. Money Received <a class=\"anchor\" id=\"5.11\"></a>"
   ]
  },
  {
   "cell_type": "code",
   "execution_count": 116,
   "metadata": {},
   "outputs": [
    {
     "data": {
      "text/plain": [
       "<AxesSubplot:xlabel='Money Received'>"
      ]
     },
     "execution_count": 116,
     "metadata": {},
     "output_type": "execute_result"
    },
    {
     "data": {
      "image/png": "[encoded data removed]",
      "text/plain": [
       "<Figure size 432x288 with 1 Axes>"
      ]
     },
     "metadata": {
      "needs_background": "light"
     },
     "output_type": "display_data"
    }
   ],
   "source": [
    "sns.boxplot(df[df[\"Money Received\"]!=0][\"Money Received\"], color = \"yellowgreen\")"
   ]
  },
  {
   "cell_type": "markdown",
   "metadata": {},
   "source": [
    "We can group in 4 categories: <br>\n",
    "0 if didn't receive money<br>\n",
    "C if 0 < Money Received =< 4196<br>\n",
    "B if 4196 < Money Received <= 8977<br>\n",
    "A if 8977 < Money Received "
   ]
  },
  {
   "cell_type": "code",
   "execution_count": 117,
   "metadata": {},
   "outputs": [
    {
     "name": "stdout",
     "output_type": "stream",
     "text": [
      "4196.0 8977.0\n"
     ]
    }
   ],
   "source": [
    "Q1 = df[(df[\"Money Received\"]!=0)][\"Money Received\"].quantile(0.25)\n",
    "Median = df[(df[\"Money Received\"]!=0)][\"Money Received\"].quantile(0.5)\n",
    "\n",
    "money_category = pd.Series(df[\"Money Received\"].map(lambda x: '0' if x==0 else \"C\" if 0<x<=Q1 \n",
    "                                                          else \"B\" if Q1 < x <= Median else \"A\"), name='money_category')\n",
    "print(Q1,Median)"
   ]
  },
  {
   "cell_type": "code",
   "execution_count": 118,
   "metadata": {},
   "outputs": [],
   "source": [
    "df[\"Money_category\"]=money_category"
   ]
  },
  {
   "cell_type": "code",
   "execution_count": 119,
   "metadata": {},
   "outputs": [
    {
     "data": {
      "image/png": "[encoded data removed]",
      "text/plain": [
       "<Figure size 1080x360 with 2 Axes>"
      ]
     },
     "metadata": {
      "needs_background": "light"
     },
     "output_type": "display_data"
    }
   ],
   "source": [
    "bar_charts_categorical(df,\"Money_category\", \"Income\")"
   ]
  },
  {
   "cell_type": "markdown",
   "metadata": {},
   "source": [
    "### 5.12. Ticket Price <a class=\"anchor\" id=\"5.12\"></a>"
   ]
  },
  {
   "cell_type": "code",
   "execution_count": 120,
   "metadata": {},
   "outputs": [
    {
     "data": {
      "text/plain": [
       "<AxesSubplot:xlabel='Ticket Price'>"
      ]
     },
     "execution_count": 120,
     "metadata": {},
     "output_type": "execute_result"
    },
    {
     "data": {
      "image/png": "[encoded data removed]",
      "text/plain": [
       "<Figure size 432x288 with 1 Axes>"
      ]
     },
     "metadata": {
      "needs_background": "light"
     },
     "output_type": "display_data"
    }
   ],
   "source": [
    "sns.boxplot(df[df[\"Ticket Price\"]!=0][\"Ticket Price\"], color = \"yellowgreen\")"
   ]
  },
  {
   "cell_type": "code",
   "execution_count": 121,
   "metadata": {},
   "outputs": [
    {
     "name": "stdout",
     "output_type": "stream",
     "text": [
      "2057.0 2321.0 2432.0\n"
     ]
    }
   ],
   "source": [
    "Q1 = df[(df[\"Ticket Price\"]!=0)][\"Ticket Price\"].quantile(0.25)\n",
    "Median = df[(df[\"Ticket Price\"]!=0)][\"Ticket Price\"].quantile(0.5)\n",
    "Q3 = df[(df[\"Ticket Price\"]!=0)][\"Ticket Price\"].quantile(0.75)\n",
    "print (Q1, Median, Q3)"
   ]
  },
  {
   "cell_type": "code",
   "execution_count": 122,
   "metadata": {},
   "outputs": [],
   "source": [
    "#Ticket Price Categories:\n",
    "# 0 if didn't pay for a ticket\n",
    "# D if 0 < Ticket Price <= 2114\n",
    "# C if 2114 < Ticket Price <= 2321\n",
    "# B if 2321 < Ticket Price <= 2432\n",
    "# A if Ticket Price > 2432\n",
    "\n",
    "ticketprice_category = pd.Series(df[\"Ticket Price\"].map(lambda x: '0' if x==0 else \"D\" if 0<x<=2114 else \"C\" if 2114<x<=2321\n",
    "                                                            else \"B\" if 2321<x<=2432 else \"A\"), name = \"tp_category\" )"
   ]
  },
  {
   "cell_type": "code",
   "execution_count": 123,
   "metadata": {},
   "outputs": [],
   "source": [
    "df[\"Ticket_category\"] = ticketprice_category"
   ]
  },
  {
   "cell_type": "code",
   "execution_count": 124,
   "metadata": {},
   "outputs": [
    {
     "data": {
      "image/png": "[encoded data removed]",
      "text/plain": [
       "<Figure size 1080x360 with 2 Axes>"
      ]
     },
     "metadata": {
      "needs_background": "light"
     },
     "output_type": "display_data"
    }
   ],
   "source": [
    "bar_charts_categorical(df,\"Ticket_category\", \"Income\")"
   ]
  },
  {
   "cell_type": "code",
   "execution_count": 125,
   "metadata": {},
   "outputs": [],
   "source": [
    "df = df.drop([\"Name\",\"Birthday\"],axis=1)"
   ]
  },
  {
   "cell_type": "code",
   "execution_count": 126,
   "metadata": {},
   "outputs": [],
   "source": [
    "#Income as last column\n",
    "df = df[[c for c in df if c not in ['Income']] \n",
    "       + ['Income']]"
   ]
  },
  {
   "cell_type": "code",
   "execution_count": 127,
   "metadata": {
    "scrolled": true
   },
   "outputs": [
    {
     "data": {
      "text/html": [
       "<div>\n",
       "<style scoped>\n",
       "    .dataframe tbody tr th:only-of-type {\n",
       "        vertical-align: middle;\n",
       "    }\n",
       "\n",
       "    .dataframe tbody tr th {\n",
       "        vertical-align: top;\n",
       "    }\n",
       "\n",
       "    .dataframe thead th {\n",
       "        text-align: right;\n",
       "    }\n",
       "</style>\n",
       "<table border=\"1\" class=\"dataframe\">\n",
       "  <thead>\n",
       "    <tr style=\"text-align: right;\">\n",
       "      <th></th>\n",
       "      <th>Gender</th>\n",
       "      <th>Age</th>\n",
       "      <th>Native Continent</th>\n",
       "      <th>Marital Status</th>\n",
       "      <th>Lives with</th>\n",
       "      <th>Years of Education</th>\n",
       "      <th>Employment Sector</th>\n",
       "      <th>Role</th>\n",
       "      <th>Working Hours per week</th>\n",
       "      <th>Money Received</th>\n",
       "      <th>Ticket Price</th>\n",
       "      <th>Money_category</th>\n",
       "      <th>Ticket_category</th>\n",
       "      <th>Income</th>\n",
       "    </tr>\n",
       "    <tr>\n",
       "      <th>CITIZEN_ID</th>\n",
       "      <th></th>\n",
       "      <th></th>\n",
       "      <th></th>\n",
       "      <th></th>\n",
       "      <th></th>\n",
       "      <th></th>\n",
       "      <th></th>\n",
       "      <th></th>\n",
       "      <th></th>\n",
       "      <th></th>\n",
       "      <th></th>\n",
       "      <th></th>\n",
       "      <th></th>\n",
       "      <th></th>\n",
       "    </tr>\n",
       "  </thead>\n",
       "  <tbody>\n",
       "    <tr>\n",
       "      <th>17935</th>\n",
       "      <td>0</td>\n",
       "      <td>20</td>\n",
       "      <td>1</td>\n",
       "      <td>Married_B</td>\n",
       "      <td>Other Family</td>\n",
       "      <td>13</td>\n",
       "      <td>Private Sector</td>\n",
       "      <td>Sales</td>\n",
       "      <td>40</td>\n",
       "      <td>0</td>\n",
       "      <td>0</td>\n",
       "      <td>0</td>\n",
       "      <td>0</td>\n",
       "      <td>0</td>\n",
       "    </tr>\n",
       "    <tr>\n",
       "      <th>21522</th>\n",
       "      <td>1</td>\n",
       "      <td>44</td>\n",
       "      <td>1</td>\n",
       "      <td>Married_A</td>\n",
       "      <td>Wife</td>\n",
       "      <td>12</td>\n",
       "      <td>Private Sector</td>\n",
       "      <td>Repair &amp; constructions</td>\n",
       "      <td>41</td>\n",
       "      <td>0</td>\n",
       "      <td>0</td>\n",
       "      <td>0</td>\n",
       "      <td>0</td>\n",
       "      <td>0</td>\n",
       "    </tr>\n",
       "    <tr>\n",
       "      <th>21622</th>\n",
       "      <td>0</td>\n",
       "      <td>57</td>\n",
       "      <td>1</td>\n",
       "      <td>Married_C</td>\n",
       "      <td>Alone</td>\n",
       "      <td>13</td>\n",
       "      <td>Private Sector</td>\n",
       "      <td>Administratives</td>\n",
       "      <td>38</td>\n",
       "      <td>0</td>\n",
       "      <td>2777</td>\n",
       "      <td>0</td>\n",
       "      <td>A</td>\n",
       "      <td>1</td>\n",
       "    </tr>\n",
       "    <tr>\n",
       "      <th>26182</th>\n",
       "      <td>0</td>\n",
       "      <td>43</td>\n",
       "      <td>1</td>\n",
       "      <td>Married_B</td>\n",
       "      <td>Children</td>\n",
       "      <td>9</td>\n",
       "      <td>Self-Employed (Company)</td>\n",
       "      <td>Sales</td>\n",
       "      <td>44</td>\n",
       "      <td>0</td>\n",
       "      <td>0</td>\n",
       "      <td>0</td>\n",
       "      <td>0</td>\n",
       "      <td>0</td>\n",
       "    </tr>\n",
       "    <tr>\n",
       "      <th>18681</th>\n",
       "      <td>0</td>\n",
       "      <td>38</td>\n",
       "      <td>1</td>\n",
       "      <td>Married_A</td>\n",
       "      <td>Husband</td>\n",
       "      <td>12</td>\n",
       "      <td>Private Sector</td>\n",
       "      <td>Management</td>\n",
       "      <td>60</td>\n",
       "      <td>0</td>\n",
       "      <td>0</td>\n",
       "      <td>0</td>\n",
       "      <td>0</td>\n",
       "      <td>1</td>\n",
       "    </tr>\n",
       "  </tbody>\n",
       "</table>\n",
       "</div>"
      ],
      "text/plain": [
       "            Gender  Age Native Continent Marital Status    Lives with  \\\n",
       "CITIZEN_ID                                                              \n",
       "17935            0   20                1      Married_B  Other Family   \n",
       "21522            1   44                1      Married_A          Wife   \n",
       "21622            0   57                1      Married_C         Alone   \n",
       "26182            0   43                1      Married_B      Children   \n",
       "18681            0   38                1      Married_A       Husband   \n",
       "\n",
       "            Years of Education        Employment Sector  \\\n",
       "CITIZEN_ID                                                \n",
       "17935                       13           Private Sector   \n",
       "21522                       12           Private Sector   \n",
       "21622                       13           Private Sector   \n",
       "26182                        9  Self-Employed (Company)   \n",
       "18681                       12           Private Sector   \n",
       "\n",
       "                              Role  Working Hours per week  Money Received  \\\n",
       "CITIZEN_ID                                                                   \n",
       "17935                        Sales                      40               0   \n",
       "21522       Repair & constructions                      41               0   \n",
       "21622              Administratives                      38               0   \n",
       "26182                        Sales                      44               0   \n",
       "18681                   Management                      60               0   \n",
       "\n",
       "            Ticket Price Money_category Ticket_category  Income  \n",
       "CITIZEN_ID                                                       \n",
       "17935                  0              0               0       0  \n",
       "21522                  0              0               0       0  \n",
       "21622               2777              0               A       1  \n",
       "26182                  0              0               0       0  \n",
       "18681                  0              0               0       1  "
      ]
     },
     "execution_count": 127,
     "metadata": {},
     "output_type": "execute_result"
    }
   ],
   "source": [
    "df.head()"
   ]
  },
  {
   "cell_type": "markdown",
   "metadata": {},
   "source": [
    "# 6. Missing Values: Employment Sector and Role <a class=\"anchor\" id=\"6\"></a>"
   ]
  },
  {
   "cell_type": "markdown",
   "metadata": {},
   "source": [
    "#### Imputing missing values for categorical data with KNN-Imputer"
   ]
  },
  {
   "cell_type": "markdown",
   "metadata": {},
   "source": [
    "1) Normalizing Numerical Data:"
   ]
  },
  {
   "cell_type": "code",
   "execution_count": 128,
   "metadata": {},
   "outputs": [],
   "source": [
    "df_scaled = df.copy()"
   ]
  },
  {
   "cell_type": "code",
   "execution_count": 129,
   "metadata": {},
   "outputs": [],
   "source": [
    "metric_features = [\"Age\",\"Years of Education\", \"Working Hours per week\",\"Money Received\", \"Ticket Price\"]"
   ]
  },
  {
   "cell_type": "code",
   "execution_count": 130,
   "metadata": {},
   "outputs": [],
   "source": [
    "scaler = StandardScaler()\n",
    "scaled_feat = scaler.fit_transform(df_scaled[metric_features])"
   ]
  },
  {
   "cell_type": "code",
   "execution_count": 131,
   "metadata": {},
   "outputs": [],
   "source": [
    "df_scaled[metric_features] = scaled_feat"
   ]
  },
  {
   "cell_type": "markdown",
   "metadata": {},
   "source": [
    "2) Getting our distance matrix:"
   ]
  },
  {
   "cell_type": "code",
   "execution_count": 132,
   "metadata": {},
   "outputs": [
    {
     "data": {
      "text/html": [
       "<div>\n",
       "<style scoped>\n",
       "    .dataframe tbody tr th:only-of-type {\n",
       "        vertical-align: middle;\n",
       "    }\n",
       "\n",
       "    .dataframe tbody tr th {\n",
       "        vertical-align: top;\n",
       "    }\n",
       "\n",
       "    .dataframe thead th {\n",
       "        text-align: right;\n",
       "    }\n",
       "</style>\n",
       "<table border=\"1\" class=\"dataframe\">\n",
       "  <thead>\n",
       "    <tr style=\"text-align: right;\">\n",
       "      <th></th>\n",
       "      <th>Gender</th>\n",
       "      <th>Age</th>\n",
       "      <th>Native Continent</th>\n",
       "      <th>Marital Status</th>\n",
       "      <th>Lives with</th>\n",
       "      <th>Years of Education</th>\n",
       "      <th>Employment Sector</th>\n",
       "      <th>Role</th>\n",
       "      <th>Working Hours per week</th>\n",
       "      <th>Money Received</th>\n",
       "      <th>Ticket Price</th>\n",
       "      <th>Money_category</th>\n",
       "      <th>Ticket_category</th>\n",
       "      <th>Income</th>\n",
       "    </tr>\n",
       "    <tr>\n",
       "      <th>CITIZEN_ID</th>\n",
       "      <th></th>\n",
       "      <th></th>\n",
       "      <th></th>\n",
       "      <th></th>\n",
       "      <th></th>\n",
       "      <th></th>\n",
       "      <th></th>\n",
       "      <th></th>\n",
       "      <th></th>\n",
       "      <th></th>\n",
       "      <th></th>\n",
       "      <th></th>\n",
       "      <th></th>\n",
       "      <th></th>\n",
       "    </tr>\n",
       "  </thead>\n",
       "  <tbody>\n",
       "    <tr>\n",
       "      <th>17935</th>\n",
       "      <td>0</td>\n",
       "      <td>-1.364025</td>\n",
       "      <td>1</td>\n",
       "      <td>Married_B</td>\n",
       "      <td>Other Family</td>\n",
       "      <td>-0.073183</td>\n",
       "      <td>Private Sector</td>\n",
       "      <td>Sales</td>\n",
       "      <td>-0.019771</td>\n",
       "      <td>-0.144598</td>\n",
       "      <td>-0.216172</td>\n",
       "      <td>0</td>\n",
       "      <td>0</td>\n",
       "      <td>0</td>\n",
       "    </tr>\n",
       "    <tr>\n",
       "      <th>21522</th>\n",
       "      <td>1</td>\n",
       "      <td>0.388025</td>\n",
       "      <td>1</td>\n",
       "      <td>Married_A</td>\n",
       "      <td>Wife</td>\n",
       "      <td>-0.471880</td>\n",
       "      <td>Private Sector</td>\n",
       "      <td>Repair &amp; constructions</td>\n",
       "      <td>0.066030</td>\n",
       "      <td>-0.144598</td>\n",
       "      <td>-0.216172</td>\n",
       "      <td>0</td>\n",
       "      <td>0</td>\n",
       "      <td>0</td>\n",
       "    </tr>\n",
       "    <tr>\n",
       "      <th>21622</th>\n",
       "      <td>0</td>\n",
       "      <td>1.337052</td>\n",
       "      <td>1</td>\n",
       "      <td>Married_C</td>\n",
       "      <td>Alone</td>\n",
       "      <td>-0.073183</td>\n",
       "      <td>Private Sector</td>\n",
       "      <td>Administratives</td>\n",
       "      <td>-0.191373</td>\n",
       "      <td>-0.144598</td>\n",
       "      <td>5.414650</td>\n",
       "      <td>0</td>\n",
       "      <td>A</td>\n",
       "      <td>1</td>\n",
       "    </tr>\n",
       "    <tr>\n",
       "      <th>26182</th>\n",
       "      <td>0</td>\n",
       "      <td>0.315022</td>\n",
       "      <td>1</td>\n",
       "      <td>Married_B</td>\n",
       "      <td>Children</td>\n",
       "      <td>-1.667969</td>\n",
       "      <td>Self-Employed (Company)</td>\n",
       "      <td>Sales</td>\n",
       "      <td>0.323433</td>\n",
       "      <td>-0.144598</td>\n",
       "      <td>-0.216172</td>\n",
       "      <td>0</td>\n",
       "      <td>0</td>\n",
       "      <td>0</td>\n",
       "    </tr>\n",
       "    <tr>\n",
       "      <th>18681</th>\n",
       "      <td>0</td>\n",
       "      <td>-0.049988</td>\n",
       "      <td>1</td>\n",
       "      <td>Married_A</td>\n",
       "      <td>Husband</td>\n",
       "      <td>-0.471880</td>\n",
       "      <td>Private Sector</td>\n",
       "      <td>Management</td>\n",
       "      <td>1.696249</td>\n",
       "      <td>-0.144598</td>\n",
       "      <td>-0.216172</td>\n",
       "      <td>0</td>\n",
       "      <td>0</td>\n",
       "      <td>1</td>\n",
       "    </tr>\n",
       "    <tr>\n",
       "      <th>...</th>\n",
       "      <td>...</td>\n",
       "      <td>...</td>\n",
       "      <td>...</td>\n",
       "      <td>...</td>\n",
       "      <td>...</td>\n",
       "      <td>...</td>\n",
       "      <td>...</td>\n",
       "      <td>...</td>\n",
       "      <td>...</td>\n",
       "      <td>...</td>\n",
       "      <td>...</td>\n",
       "      <td>...</td>\n",
       "      <td>...</td>\n",
       "      <td>...</td>\n",
       "    </tr>\n",
       "    <tr>\n",
       "      <th>31774</th>\n",
       "      <td>1</td>\n",
       "      <td>0.242020</td>\n",
       "      <td>1</td>\n",
       "      <td>Married_A</td>\n",
       "      <td>Wife</td>\n",
       "      <td>1.920299</td>\n",
       "      <td>Self-Employed (Individual)</td>\n",
       "      <td>Professor</td>\n",
       "      <td>-0.191373</td>\n",
       "      <td>-0.144598</td>\n",
       "      <td>-0.216172</td>\n",
       "      <td>0</td>\n",
       "      <td>0</td>\n",
       "      <td>1</td>\n",
       "    </tr>\n",
       "    <tr>\n",
       "      <th>32458</th>\n",
       "      <td>1</td>\n",
       "      <td>0.607031</td>\n",
       "      <td>1</td>\n",
       "      <td>Married_C</td>\n",
       "      <td>Other Family</td>\n",
       "      <td>-0.870576</td>\n",
       "      <td>Private Sector</td>\n",
       "      <td>Cleaners &amp; Handlers</td>\n",
       "      <td>-0.019771</td>\n",
       "      <td>-0.144598</td>\n",
       "      <td>-0.216172</td>\n",
       "      <td>0</td>\n",
       "      <td>0</td>\n",
       "      <td>0</td>\n",
       "    </tr>\n",
       "    <tr>\n",
       "      <th>30525</th>\n",
       "      <td>1</td>\n",
       "      <td>0.534029</td>\n",
       "      <td>1</td>\n",
       "      <td>Married_A</td>\n",
       "      <td>Wife</td>\n",
       "      <td>-0.870576</td>\n",
       "      <td>Private Sector</td>\n",
       "      <td>Cleaners &amp; Handlers</td>\n",
       "      <td>0.409234</td>\n",
       "      <td>-0.144598</td>\n",
       "      <td>-0.216172</td>\n",
       "      <td>0</td>\n",
       "      <td>0</td>\n",
       "      <td>1</td>\n",
       "    </tr>\n",
       "    <tr>\n",
       "      <th>21388</th>\n",
       "      <td>1</td>\n",
       "      <td>1.045043</td>\n",
       "      <td>0</td>\n",
       "      <td>Married_A</td>\n",
       "      <td>Wife</td>\n",
       "      <td>-3.661452</td>\n",
       "      <td>Private Sector</td>\n",
       "      <td>Other services</td>\n",
       "      <td>-0.448776</td>\n",
       "      <td>-0.144598</td>\n",
       "      <td>-0.216172</td>\n",
       "      <td>0</td>\n",
       "      <td>0</td>\n",
       "      <td>0</td>\n",
       "    </tr>\n",
       "    <tr>\n",
       "      <th>23443</th>\n",
       "      <td>1</td>\n",
       "      <td>-1.437028</td>\n",
       "      <td>1</td>\n",
       "      <td>Married_B</td>\n",
       "      <td>Other relatives</td>\n",
       "      <td>-3.661452</td>\n",
       "      <td>Private Sector</td>\n",
       "      <td>Machine Operators &amp; Inspectors</td>\n",
       "      <td>-0.019771</td>\n",
       "      <td>-0.144598</td>\n",
       "      <td>-0.216172</td>\n",
       "      <td>0</td>\n",
       "      <td>0</td>\n",
       "      <td>0</td>\n",
       "    </tr>\n",
       "  </tbody>\n",
       "</table>\n",
       "<p>13440 rows × 14 columns</p>\n",
       "</div>"
      ],
      "text/plain": [
       "            Gender       Age Native Continent Marital Status       Lives with  \\\n",
       "CITIZEN_ID                                                                      \n",
       "17935            0 -1.364025                1      Married_B     Other Family   \n",
       "21522            1  0.388025                1      Married_A             Wife   \n",
       "21622            0  1.337052                1      Married_C            Alone   \n",
       "26182            0  0.315022                1      Married_B         Children   \n",
       "18681            0 -0.049988                1      Married_A          Husband   \n",
       "...            ...       ...              ...            ...              ...   \n",
       "31774            1  0.242020                1      Married_A             Wife   \n",
       "32458            1  0.607031                1      Married_C     Other Family   \n",
       "30525            1  0.534029                1      Married_A             Wife   \n",
       "21388            1  1.045043                0      Married_A             Wife   \n",
       "23443            1 -1.437028                1      Married_B  Other relatives   \n",
       "\n",
       "            Years of Education           Employment Sector  \\\n",
       "CITIZEN_ID                                                   \n",
       "17935                -0.073183              Private Sector   \n",
       "21522                -0.471880              Private Sector   \n",
       "21622                -0.073183              Private Sector   \n",
       "26182                -1.667969     Self-Employed (Company)   \n",
       "18681                -0.471880              Private Sector   \n",
       "...                        ...                         ...   \n",
       "31774                 1.920299  Self-Employed (Individual)   \n",
       "32458                -0.870576              Private Sector   \n",
       "30525                -0.870576              Private Sector   \n",
       "21388                -3.661452              Private Sector   \n",
       "23443                -3.661452              Private Sector   \n",
       "\n",
       "                                      Role  Working Hours per week  \\\n",
       "CITIZEN_ID                                                           \n",
       "17935                                Sales               -0.019771   \n",
       "21522               Repair & constructions                0.066030   \n",
       "21622                      Administratives               -0.191373   \n",
       "26182                                Sales                0.323433   \n",
       "18681                           Management                1.696249   \n",
       "...                                    ...                     ...   \n",
       "31774                            Professor               -0.191373   \n",
       "32458                  Cleaners & Handlers               -0.019771   \n",
       "30525                  Cleaners & Handlers                0.409234   \n",
       "21388                       Other services               -0.448776   \n",
       "23443       Machine Operators & Inspectors               -0.019771   \n",
       "\n",
       "            Money Received  Ticket Price Money_category Ticket_category  \\\n",
       "CITIZEN_ID                                                                \n",
       "17935            -0.144598     -0.216172              0               0   \n",
       "21522            -0.144598     -0.216172              0               0   \n",
       "21622            -0.144598      5.414650              0               A   \n",
       "26182            -0.144598     -0.216172              0               0   \n",
       "18681            -0.144598     -0.216172              0               0   \n",
       "...                    ...           ...            ...             ...   \n",
       "31774            -0.144598     -0.216172              0               0   \n",
       "32458            -0.144598     -0.216172              0               0   \n",
       "30525            -0.144598     -0.216172              0               0   \n",
       "21388            -0.144598     -0.216172              0               0   \n",
       "23443            -0.144598     -0.216172              0               0   \n",
       "\n",
       "            Income  \n",
       "CITIZEN_ID          \n",
       "17935            0  \n",
       "21522            0  \n",
       "21622            1  \n",
       "26182            0  \n",
       "18681            1  \n",
       "...            ...  \n",
       "31774            1  \n",
       "32458            0  \n",
       "30525            1  \n",
       "21388            0  \n",
       "23443            0  \n",
       "\n",
       "[13440 rows x 14 columns]"
      ]
     },
     "execution_count": 132,
     "metadata": {},
     "output_type": "execute_result"
    }
   ],
   "source": [
    "df_scaled"
   ]
  },
  {
   "cell_type": "code",
   "execution_count": 133,
   "metadata": {},
   "outputs": [],
   "source": [
    "distance_matrix = pd.DataFrame(squareform(pdist(df_scaled[metric_features])), columns=df_scaled.index, index=df_scaled.index)"
   ]
  },
  {
   "cell_type": "code",
   "execution_count": 134,
   "metadata": {},
   "outputs": [
    {
     "data": {
      "text/html": [
       "<div>\n",
       "<style scoped>\n",
       "    .dataframe tbody tr th:only-of-type {\n",
       "        vertical-align: middle;\n",
       "    }\n",
       "\n",
       "    .dataframe tbody tr th {\n",
       "        vertical-align: top;\n",
       "    }\n",
       "\n",
       "    .dataframe thead th {\n",
       "        text-align: right;\n",
       "    }\n",
       "</style>\n",
       "<table border=\"1\" class=\"dataframe\">\n",
       "  <thead>\n",
       "    <tr style=\"text-align: right;\">\n",
       "      <th>CITIZEN_ID</th>\n",
       "      <th>17935</th>\n",
       "      <th>21522</th>\n",
       "      <th>21622</th>\n",
       "      <th>26182</th>\n",
       "      <th>18681</th>\n",
       "      <th>12796</th>\n",
       "      <th>28302</th>\n",
       "      <th>21293</th>\n",
       "      <th>25164</th>\n",
       "      <th>19907</th>\n",
       "      <th>...</th>\n",
       "      <th>19093</th>\n",
       "      <th>17090</th>\n",
       "      <th>24944</th>\n",
       "      <th>15262</th>\n",
       "      <th>31100</th>\n",
       "      <th>31774</th>\n",
       "      <th>32458</th>\n",
       "      <th>30525</th>\n",
       "      <th>21388</th>\n",
       "      <th>23443</th>\n",
       "    </tr>\n",
       "    <tr>\n",
       "      <th>CITIZEN_ID</th>\n",
       "      <th></th>\n",
       "      <th></th>\n",
       "      <th></th>\n",
       "      <th></th>\n",
       "      <th></th>\n",
       "      <th></th>\n",
       "      <th></th>\n",
       "      <th></th>\n",
       "      <th></th>\n",
       "      <th></th>\n",
       "      <th></th>\n",
       "      <th></th>\n",
       "      <th></th>\n",
       "      <th></th>\n",
       "      <th></th>\n",
       "      <th></th>\n",
       "      <th></th>\n",
       "      <th></th>\n",
       "      <th></th>\n",
       "      <th></th>\n",
       "      <th></th>\n",
       "    </tr>\n",
       "  </thead>\n",
       "  <tbody>\n",
       "    <tr>\n",
       "      <th>17935</th>\n",
       "      <td>0.000000</td>\n",
       "      <td>1.798888</td>\n",
       "      <td>6.247513</td>\n",
       "      <td>2.341011</td>\n",
       "      <td>2.197812</td>\n",
       "      <td>0.000000</td>\n",
       "      <td>5.316265</td>\n",
       "      <td>1.177942</td>\n",
       "      <td>1.654794</td>\n",
       "      <td>1.584040</td>\n",
       "      <td>...</td>\n",
       "      <td>2.016680</td>\n",
       "      <td>2.327655</td>\n",
       "      <td>1.521764</td>\n",
       "      <td>0.957318</td>\n",
       "      <td>1.998038</td>\n",
       "      <td>2.565697</td>\n",
       "      <td>2.126240</td>\n",
       "      <td>2.102972</td>\n",
       "      <td>4.343193</td>\n",
       "      <td>3.589011</td>\n",
       "    </tr>\n",
       "    <tr>\n",
       "      <th>21522</th>\n",
       "      <td>1.798888</td>\n",
       "      <td>0.000000</td>\n",
       "      <td>5.729924</td>\n",
       "      <td>1.225649</td>\n",
       "      <td>1.688037</td>\n",
       "      <td>1.798888</td>\n",
       "      <td>5.065000</td>\n",
       "      <td>0.806672</td>\n",
       "      <td>0.169349</td>\n",
       "      <td>0.235214</td>\n",
       "      <td>...</td>\n",
       "      <td>0.872121</td>\n",
       "      <td>1.380558</td>\n",
       "      <td>0.601678</td>\n",
       "      <td>1.782047</td>\n",
       "      <td>0.904068</td>\n",
       "      <td>2.410414</td>\n",
       "      <td>0.462909</td>\n",
       "      <td>0.545953</td>\n",
       "      <td>3.296979</td>\n",
       "      <td>3.675805</td>\n",
       "    </tr>\n",
       "    <tr>\n",
       "      <th>21622</th>\n",
       "      <td>6.247513</td>\n",
       "      <td>5.729924</td>\n",
       "      <td>0.000000</td>\n",
       "      <td>5.963143</td>\n",
       "      <td>6.111638</td>\n",
       "      <td>6.247513</td>\n",
       "      <td>1.980992</td>\n",
       "      <td>5.919886</td>\n",
       "      <td>5.752709</td>\n",
       "      <td>5.767050</td>\n",
       "      <td>...</td>\n",
       "      <td>5.790827</td>\n",
       "      <td>5.809829</td>\n",
       "      <td>5.797159</td>\n",
       "      <td>6.281211</td>\n",
       "      <td>5.885741</td>\n",
       "      <td>6.072827</td>\n",
       "      <td>5.736233</td>\n",
       "      <td>5.774735</td>\n",
       "      <td>6.688300</td>\n",
       "      <td>7.232343</td>\n",
       "    </tr>\n",
       "    <tr>\n",
       "      <th>26182</th>\n",
       "      <td>2.341011</td>\n",
       "      <td>1.225649</td>\n",
       "      <td>5.963143</td>\n",
       "      <td>0.000000</td>\n",
       "      <td>1.857010</td>\n",
       "      <td>2.341011</td>\n",
       "      <td>5.531295</td>\n",
       "      <td>1.367357</td>\n",
       "      <td>1.246494</td>\n",
       "      <td>1.252891</td>\n",
       "      <td>...</td>\n",
       "      <td>1.682167</td>\n",
       "      <td>2.033767</td>\n",
       "      <td>1.612038</td>\n",
       "      <td>2.011437</td>\n",
       "      <td>0.973111</td>\n",
       "      <td>3.625745</td>\n",
       "      <td>0.915911</td>\n",
       "      <td>0.831361</td>\n",
       "      <td>2.259028</td>\n",
       "      <td>2.676087</td>\n",
       "    </tr>\n",
       "    <tr>\n",
       "      <th>18681</th>\n",
       "      <td>2.197812</td>\n",
       "      <td>1.688037</td>\n",
       "      <td>6.111638</td>\n",
       "      <td>1.857010</td>\n",
       "      <td>0.000000</td>\n",
       "      <td>2.197812</td>\n",
       "      <td>5.110172</td>\n",
       "      <td>1.319726</td>\n",
       "      <td>1.740688</td>\n",
       "      <td>1.729939</td>\n",
       "      <td>...</td>\n",
       "      <td>1.075303</td>\n",
       "      <td>3.059297</td>\n",
       "      <td>1.355243</td>\n",
       "      <td>1.449304</td>\n",
       "      <td>1.010527</td>\n",
       "      <td>3.061194</td>\n",
       "      <td>1.880255</td>\n",
       "      <td>1.468483</td>\n",
       "      <td>3.996698</td>\n",
       "      <td>3.878398</td>\n",
       "    </tr>\n",
       "    <tr>\n",
       "      <th>...</th>\n",
       "      <td>...</td>\n",
       "      <td>...</td>\n",
       "      <td>...</td>\n",
       "      <td>...</td>\n",
       "      <td>...</td>\n",
       "      <td>...</td>\n",
       "      <td>...</td>\n",
       "      <td>...</td>\n",
       "      <td>...</td>\n",
       "      <td>...</td>\n",
       "      <td>...</td>\n",
       "      <td>...</td>\n",
       "      <td>...</td>\n",
       "      <td>...</td>\n",
       "      <td>...</td>\n",
       "      <td>...</td>\n",
       "      <td>...</td>\n",
       "      <td>...</td>\n",
       "      <td>...</td>\n",
       "      <td>...</td>\n",
       "      <td>...</td>\n",
       "    </tr>\n",
       "    <tr>\n",
       "      <th>31774</th>\n",
       "      <td>2.565697</td>\n",
       "      <td>2.410414</td>\n",
       "      <td>6.072827</td>\n",
       "      <td>3.625745</td>\n",
       "      <td>3.061194</td>\n",
       "      <td>2.565697</td>\n",
       "      <td>4.926912</td>\n",
       "      <td>2.534625</td>\n",
       "      <td>2.398326</td>\n",
       "      <td>2.399437</td>\n",
       "      <td>...</td>\n",
       "      <td>2.254337</td>\n",
       "      <td>2.655548</td>\n",
       "      <td>2.087108</td>\n",
       "      <td>2.985690</td>\n",
       "      <td>2.981584</td>\n",
       "      <td>0.000000</td>\n",
       "      <td>2.819870</td>\n",
       "      <td>2.869666</td>\n",
       "      <td>5.645090</td>\n",
       "      <td>5.831345</td>\n",
       "    </tr>\n",
       "    <tr>\n",
       "      <th>32458</th>\n",
       "      <td>2.126240</td>\n",
       "      <td>0.462909</td>\n",
       "      <td>5.736233</td>\n",
       "      <td>0.915911</td>\n",
       "      <td>1.880255</td>\n",
       "      <td>2.126240</td>\n",
       "      <td>5.216200</td>\n",
       "      <td>1.115194</td>\n",
       "      <td>0.540547</td>\n",
       "      <td>0.592295</td>\n",
       "      <td>...</td>\n",
       "      <td>1.180396</td>\n",
       "      <td>1.349332</td>\n",
       "      <td>1.039720</td>\n",
       "      <td>2.055713</td>\n",
       "      <td>0.954028</td>\n",
       "      <td>2.819870</td>\n",
       "      <td>0.000000</td>\n",
       "      <td>0.435172</td>\n",
       "      <td>2.857426</td>\n",
       "      <td>3.459358</td>\n",
       "    </tr>\n",
       "    <tr>\n",
       "      <th>30525</th>\n",
       "      <td>2.102972</td>\n",
       "      <td>0.545953</td>\n",
       "      <td>5.774735</td>\n",
       "      <td>0.831361</td>\n",
       "      <td>1.468483</td>\n",
       "      <td>2.102972</td>\n",
       "      <td>5.162487</td>\n",
       "      <td>0.962486</td>\n",
       "      <td>0.654426</td>\n",
       "      <td>0.690099</td>\n",
       "      <td>...</td>\n",
       "      <td>0.908411</td>\n",
       "      <td>1.761728</td>\n",
       "      <td>0.909775</td>\n",
       "      <td>1.847345</td>\n",
       "      <td>0.556839</td>\n",
       "      <td>2.869666</td>\n",
       "      <td>0.435172</td>\n",
       "      <td>0.000000</td>\n",
       "      <td>2.964170</td>\n",
       "      <td>3.443558</td>\n",
       "    </tr>\n",
       "    <tr>\n",
       "      <th>21388</th>\n",
       "      <td>4.343193</td>\n",
       "      <td>3.296979</td>\n",
       "      <td>6.688300</td>\n",
       "      <td>2.259028</td>\n",
       "      <td>3.996698</td>\n",
       "      <td>4.343193</td>\n",
       "      <td>6.877563</td>\n",
       "      <td>3.582378</td>\n",
       "      <td>3.316965</td>\n",
       "      <td>3.335391</td>\n",
       "      <td>...</td>\n",
       "      <td>3.856573</td>\n",
       "      <td>3.342258</td>\n",
       "      <td>3.809528</td>\n",
       "      <td>4.117188</td>\n",
       "      <td>3.182922</td>\n",
       "      <td>5.645090</td>\n",
       "      <td>2.857426</td>\n",
       "      <td>2.964170</td>\n",
       "      <td>0.000000</td>\n",
       "      <td>2.518873</td>\n",
       "    </tr>\n",
       "    <tr>\n",
       "      <th>23443</th>\n",
       "      <td>3.589011</td>\n",
       "      <td>3.675805</td>\n",
       "      <td>7.232343</td>\n",
       "      <td>2.676087</td>\n",
       "      <td>3.878398</td>\n",
       "      <td>3.589011</td>\n",
       "      <td>7.071392</td>\n",
       "      <td>3.399486</td>\n",
       "      <td>3.604521</td>\n",
       "      <td>3.571100</td>\n",
       "      <td>...</td>\n",
       "      <td>4.149031</td>\n",
       "      <td>3.964195</td>\n",
       "      <td>3.925549</td>\n",
       "      <td>3.310214</td>\n",
       "      <td>3.374185</td>\n",
       "      <td>5.831345</td>\n",
       "      <td>3.459358</td>\n",
       "      <td>3.443558</td>\n",
       "      <td>2.518873</td>\n",
       "      <td>0.000000</td>\n",
       "    </tr>\n",
       "  </tbody>\n",
       "</table>\n",
       "<p>13440 rows × 13440 columns</p>\n",
       "</div>"
      ],
      "text/plain": [
       "CITIZEN_ID     17935     21522     21622     26182     18681     12796  \\\n",
       "CITIZEN_ID                                                               \n",
       "17935       0.000000  1.798888  6.247513  2.341011  2.197812  0.000000   \n",
       "21522       1.798888  0.000000  5.729924  1.225649  1.688037  1.798888   \n",
       "21622       6.247513  5.729924  0.000000  5.963143  6.111638  6.247513   \n",
       "26182       2.341011  1.225649  5.963143  0.000000  1.857010  2.341011   \n",
       "18681       2.197812  1.688037  6.111638  1.857010  0.000000  2.197812   \n",
       "...              ...       ...       ...       ...       ...       ...   \n",
       "31774       2.565697  2.410414  6.072827  3.625745  3.061194  2.565697   \n",
       "32458       2.126240  0.462909  5.736233  0.915911  1.880255  2.126240   \n",
       "30525       2.102972  0.545953  5.774735  0.831361  1.468483  2.102972   \n",
       "21388       4.343193  3.296979  6.688300  2.259028  3.996698  4.343193   \n",
       "23443       3.589011  3.675805  7.232343  2.676087  3.878398  3.589011   \n",
       "\n",
       "CITIZEN_ID     28302     21293     25164     19907  ...     19093     17090  \\\n",
       "CITIZEN_ID                                          ...                       \n",
       "17935       5.316265  1.177942  1.654794  1.584040  ...  2.016680  2.327655   \n",
       "21522       5.065000  0.806672  0.169349  0.235214  ...  0.872121  1.380558   \n",
       "21622       1.980992  5.919886  5.752709  5.767050  ...  5.790827  5.809829   \n",
       "26182       5.531295  1.367357  1.246494  1.252891  ...  1.682167  2.033767   \n",
       "18681       5.110172  1.319726  1.740688  1.729939  ...  1.075303  3.059297   \n",
       "...              ...       ...       ...       ...  ...       ...       ...   \n",
       "31774       4.926912  2.534625  2.398326  2.399437  ...  2.254337  2.655548   \n",
       "32458       5.216200  1.115194  0.540547  0.592295  ...  1.180396  1.349332   \n",
       "30525       5.162487  0.962486  0.654426  0.690099  ...  0.908411  1.761728   \n",
       "21388       6.877563  3.582378  3.316965  3.335391  ...  3.856573  3.342258   \n",
       "23443       7.071392  3.399486  3.604521  3.571100  ...  4.149031  3.964195   \n",
       "\n",
       "CITIZEN_ID     24944     15262     31100     31774     32458     30525  \\\n",
       "CITIZEN_ID                                                               \n",
       "17935       1.521764  0.957318  1.998038  2.565697  2.126240  2.102972   \n",
       "21522       0.601678  1.782047  0.904068  2.410414  0.462909  0.545953   \n",
       "21622       5.797159  6.281211  5.885741  6.072827  5.736233  5.774735   \n",
       "26182       1.612038  2.011437  0.973111  3.625745  0.915911  0.831361   \n",
       "18681       1.355243  1.449304  1.010527  3.061194  1.880255  1.468483   \n",
       "...              ...       ...       ...       ...       ...       ...   \n",
       "31774       2.087108  2.985690  2.981584  0.000000  2.819870  2.869666   \n",
       "32458       1.039720  2.055713  0.954028  2.819870  0.000000  0.435172   \n",
       "30525       0.909775  1.847345  0.556839  2.869666  0.435172  0.000000   \n",
       "21388       3.809528  4.117188  3.182922  5.645090  2.857426  2.964170   \n",
       "23443       3.925549  3.310214  3.374185  5.831345  3.459358  3.443558   \n",
       "\n",
       "CITIZEN_ID     21388     23443  \n",
       "CITIZEN_ID                      \n",
       "17935       4.343193  3.589011  \n",
       "21522       3.296979  3.675805  \n",
       "21622       6.688300  7.232343  \n",
       "26182       2.259028  2.676087  \n",
       "18681       3.996698  3.878398  \n",
       "...              ...       ...  \n",
       "31774       5.645090  5.831345  \n",
       "32458       2.857426  3.459358  \n",
       "30525       2.964170  3.443558  \n",
       "21388       0.000000  2.518873  \n",
       "23443       2.518873  0.000000  \n",
       "\n",
       "[13440 rows x 13440 columns]"
      ]
     },
     "execution_count": 134,
     "metadata": {},
     "output_type": "execute_result"
    }
   ],
   "source": [
    "distance_matrix"
   ]
  },
  {
   "cell_type": "code",
   "execution_count": 135,
   "metadata": {},
   "outputs": [],
   "source": [
    "#Getting the IDs of the observations with missing values on \"Employment Sector\" and \"Role\":\n",
    "idxnan = df_scaled[df_scaled[[\"Role\",\"Employment Sector\"]].isna().any(axis=1)].index"
   ]
  },
  {
   "cell_type": "code",
   "execution_count": 136,
   "metadata": {},
   "outputs": [],
   "source": [
    "#Getting the distance matrix where the rows are the observations with missing values on \"Employment Sector\" and \"Role\"\n",
    "dmatrix_mvalues = distance_matrix[idxnan].T"
   ]
  },
  {
   "cell_type": "code",
   "execution_count": 137,
   "metadata": {},
   "outputs": [
    {
     "data": {
      "text/html": [
       "<div>\n",
       "<style scoped>\n",
       "    .dataframe tbody tr th:only-of-type {\n",
       "        vertical-align: middle;\n",
       "    }\n",
       "\n",
       "    .dataframe tbody tr th {\n",
       "        vertical-align: top;\n",
       "    }\n",
       "\n",
       "    .dataframe thead th {\n",
       "        text-align: right;\n",
       "    }\n",
       "</style>\n",
       "<table border=\"1\" class=\"dataframe\">\n",
       "  <thead>\n",
       "    <tr style=\"text-align: right;\">\n",
       "      <th>CITIZEN_ID</th>\n",
       "      <th>17935</th>\n",
       "      <th>21522</th>\n",
       "      <th>21622</th>\n",
       "      <th>26182</th>\n",
       "      <th>18681</th>\n",
       "      <th>12796</th>\n",
       "      <th>28302</th>\n",
       "      <th>21293</th>\n",
       "      <th>25164</th>\n",
       "      <th>19907</th>\n",
       "      <th>...</th>\n",
       "      <th>19093</th>\n",
       "      <th>17090</th>\n",
       "      <th>24944</th>\n",
       "      <th>15262</th>\n",
       "      <th>31100</th>\n",
       "      <th>31774</th>\n",
       "      <th>32458</th>\n",
       "      <th>30525</th>\n",
       "      <th>21388</th>\n",
       "      <th>23443</th>\n",
       "    </tr>\n",
       "    <tr>\n",
       "      <th>CITIZEN_ID</th>\n",
       "      <th></th>\n",
       "      <th></th>\n",
       "      <th></th>\n",
       "      <th></th>\n",
       "      <th></th>\n",
       "      <th></th>\n",
       "      <th></th>\n",
       "      <th></th>\n",
       "      <th></th>\n",
       "      <th></th>\n",
       "      <th></th>\n",
       "      <th></th>\n",
       "      <th></th>\n",
       "      <th></th>\n",
       "      <th></th>\n",
       "      <th></th>\n",
       "      <th></th>\n",
       "      <th></th>\n",
       "      <th></th>\n",
       "      <th></th>\n",
       "      <th></th>\n",
       "    </tr>\n",
       "  </thead>\n",
       "  <tbody>\n",
       "    <tr>\n",
       "      <th>31520</th>\n",
       "      <td>1.215974</td>\n",
       "      <td>2.127971</td>\n",
       "      <td>6.457021</td>\n",
       "      <td>1.969608</td>\n",
       "      <td>2.435320</td>\n",
       "      <td>1.215974</td>\n",
       "      <td>5.782206</td>\n",
       "      <td>1.536245</td>\n",
       "      <td>1.991645</td>\n",
       "      <td>1.924971</td>\n",
       "      <td>...</td>\n",
       "      <td>2.518925</td>\n",
       "      <td>2.602727</td>\n",
       "      <td>2.105677</td>\n",
       "      <td>1.226886</td>\n",
       "      <td>2.065602</td>\n",
       "      <td>3.678808</td>\n",
       "      <td>2.226058</td>\n",
       "      <td>2.196577</td>\n",
       "      <td>3.579573</td>\n",
       "      <td>2.396630</td>\n",
       "    </tr>\n",
       "    <tr>\n",
       "      <th>13880</th>\n",
       "      <td>2.177255</td>\n",
       "      <td>2.442424</td>\n",
       "      <td>6.317450</td>\n",
       "      <td>2.898514</td>\n",
       "      <td>3.845179</td>\n",
       "      <td>2.177255</td>\n",
       "      <td>5.939154</td>\n",
       "      <td>2.526488</td>\n",
       "      <td>2.298901</td>\n",
       "      <td>2.267390</td>\n",
       "      <td>...</td>\n",
       "      <td>3.195213</td>\n",
       "      <td>1.524140</td>\n",
       "      <td>2.667895</td>\n",
       "      <td>2.949934</td>\n",
       "      <td>3.123222</td>\n",
       "      <td>3.214060</td>\n",
       "      <td>2.514606</td>\n",
       "      <td>2.841995</td>\n",
       "      <td>4.020174</td>\n",
       "      <td>3.852979</td>\n",
       "    </tr>\n",
       "    <tr>\n",
       "      <th>27431</th>\n",
       "      <td>5.596171</td>\n",
       "      <td>4.381537</td>\n",
       "      <td>6.866216</td>\n",
       "      <td>4.353023</td>\n",
       "      <td>5.916417</td>\n",
       "      <td>5.596171</td>\n",
       "      <td>7.377304</td>\n",
       "      <td>5.055317</td>\n",
       "      <td>4.397098</td>\n",
       "      <td>4.438716</td>\n",
       "      <td>...</td>\n",
       "      <td>5.104611</td>\n",
       "      <td>3.351733</td>\n",
       "      <td>4.949014</td>\n",
       "      <td>5.919899</td>\n",
       "      <td>4.959201</td>\n",
       "      <td>5.621163</td>\n",
       "      <td>4.067313</td>\n",
       "      <td>4.454099</td>\n",
       "      <td>3.657808</td>\n",
       "      <td>5.521658</td>\n",
       "    </tr>\n",
       "    <tr>\n",
       "      <th>25090</th>\n",
       "      <td>2.488652</td>\n",
       "      <td>1.047063</td>\n",
       "      <td>5.735808</td>\n",
       "      <td>1.800011</td>\n",
       "      <td>1.392725</td>\n",
       "      <td>2.488652</td>\n",
       "      <td>4.910778</td>\n",
       "      <td>1.438645</td>\n",
       "      <td>1.195019</td>\n",
       "      <td>1.240962</td>\n",
       "      <td>...</td>\n",
       "      <td>0.511015</td>\n",
       "      <td>2.225297</td>\n",
       "      <td>0.975431</td>\n",
       "      <td>2.226058</td>\n",
       "      <td>1.099782</td>\n",
       "      <td>2.359450</td>\n",
       "      <td>1.226886</td>\n",
       "      <td>1.005851</td>\n",
       "      <td>3.812795</td>\n",
       "      <td>4.406298</td>\n",
       "    </tr>\n",
       "    <tr>\n",
       "      <th>15607</th>\n",
       "      <td>5.105098</td>\n",
       "      <td>4.084486</td>\n",
       "      <td>6.511680</td>\n",
       "      <td>4.886374</td>\n",
       "      <td>5.595195</td>\n",
       "      <td>5.105098</td>\n",
       "      <td>6.420878</td>\n",
       "      <td>4.764370</td>\n",
       "      <td>4.105753</td>\n",
       "      <td>4.149009</td>\n",
       "      <td>...</td>\n",
       "      <td>4.525425</td>\n",
       "      <td>3.111736</td>\n",
       "      <td>4.376796</td>\n",
       "      <td>5.636118</td>\n",
       "      <td>4.906201</td>\n",
       "      <td>3.738709</td>\n",
       "      <td>4.081961</td>\n",
       "      <td>4.433197</td>\n",
       "      <td>5.626788</td>\n",
       "      <td>6.936356</td>\n",
       "    </tr>\n",
       "    <tr>\n",
       "      <th>...</th>\n",
       "      <td>...</td>\n",
       "      <td>...</td>\n",
       "      <td>...</td>\n",
       "      <td>...</td>\n",
       "      <td>...</td>\n",
       "      <td>...</td>\n",
       "      <td>...</td>\n",
       "      <td>...</td>\n",
       "      <td>...</td>\n",
       "      <td>...</td>\n",
       "      <td>...</td>\n",
       "      <td>...</td>\n",
       "      <td>...</td>\n",
       "      <td>...</td>\n",
       "      <td>...</td>\n",
       "      <td>...</td>\n",
       "      <td>...</td>\n",
       "      <td>...</td>\n",
       "      <td>...</td>\n",
       "      <td>...</td>\n",
       "      <td>...</td>\n",
       "    </tr>\n",
       "    <tr>\n",
       "      <th>27124</th>\n",
       "      <td>5.009020</td>\n",
       "      <td>5.291205</td>\n",
       "      <td>2.770931</td>\n",
       "      <td>5.480054</td>\n",
       "      <td>5.315679</td>\n",
       "      <td>5.009020</td>\n",
       "      <td>2.237562</td>\n",
       "      <td>5.095146</td>\n",
       "      <td>5.253012</td>\n",
       "      <td>5.232173</td>\n",
       "      <td>...</td>\n",
       "      <td>5.306093</td>\n",
       "      <td>5.597803</td>\n",
       "      <td>5.179265</td>\n",
       "      <td>5.024862</td>\n",
       "      <td>5.302053</td>\n",
       "      <td>5.620127</td>\n",
       "      <td>5.415108</td>\n",
       "      <td>5.372853</td>\n",
       "      <td>6.630985</td>\n",
       "      <td>6.162949</td>\n",
       "    </tr>\n",
       "    <tr>\n",
       "      <th>21832</th>\n",
       "      <td>2.725192</td>\n",
       "      <td>1.881157</td>\n",
       "      <td>5.867918</td>\n",
       "      <td>2.641136</td>\n",
       "      <td>3.547211</td>\n",
       "      <td>2.725192</td>\n",
       "      <td>5.531499</td>\n",
       "      <td>2.441144</td>\n",
       "      <td>1.834345</td>\n",
       "      <td>1.856006</td>\n",
       "      <td>...</td>\n",
       "      <td>2.590541</td>\n",
       "      <td>0.625274</td>\n",
       "      <td>2.243392</td>\n",
       "      <td>3.266443</td>\n",
       "      <td>2.750156</td>\n",
       "      <td>2.573001</td>\n",
       "      <td>1.897861</td>\n",
       "      <td>2.298898</td>\n",
       "      <td>3.823264</td>\n",
       "      <td>4.540569</td>\n",
       "    </tr>\n",
       "    <tr>\n",
       "      <th>18699</th>\n",
       "      <td>1.674658</td>\n",
       "      <td>2.349788</td>\n",
       "      <td>6.251026</td>\n",
       "      <td>3.414009</td>\n",
       "      <td>2.750190</td>\n",
       "      <td>1.674658</td>\n",
       "      <td>5.031131</td>\n",
       "      <td>2.102178</td>\n",
       "      <td>2.274437</td>\n",
       "      <td>2.240204</td>\n",
       "      <td>...</td>\n",
       "      <td>2.237458</td>\n",
       "      <td>2.748501</td>\n",
       "      <td>1.904741</td>\n",
       "      <td>2.200769</td>\n",
       "      <td>2.774626</td>\n",
       "      <td>1.177922</td>\n",
       "      <td>2.802542</td>\n",
       "      <td>2.798293</td>\n",
       "      <td>5.536308</td>\n",
       "      <td>5.215853</td>\n",
       "    </tr>\n",
       "    <tr>\n",
       "      <th>29724</th>\n",
       "      <td>2.571330</td>\n",
       "      <td>1.278581</td>\n",
       "      <td>5.852676</td>\n",
       "      <td>1.607030</td>\n",
       "      <td>0.975431</td>\n",
       "      <td>2.571330</td>\n",
       "      <td>5.030498</td>\n",
       "      <td>1.449304</td>\n",
       "      <td>1.413323</td>\n",
       "      <td>1.445020</td>\n",
       "      <td>...</td>\n",
       "      <td>0.690099</td>\n",
       "      <td>2.590541</td>\n",
       "      <td>1.195019</td>\n",
       "      <td>2.088593</td>\n",
       "      <td>0.851372</td>\n",
       "      <td>2.862020</td>\n",
       "      <td>1.365039</td>\n",
       "      <td>0.990156</td>\n",
       "      <td>3.628506</td>\n",
       "      <td>4.117188</td>\n",
       "    </tr>\n",
       "    <tr>\n",
       "      <th>24657</th>\n",
       "      <td>1.939476</td>\n",
       "      <td>0.169349</td>\n",
       "      <td>5.704333</td>\n",
       "      <td>1.263480</td>\n",
       "      <td>1.812678</td>\n",
       "      <td>1.939476</td>\n",
       "      <td>5.076690</td>\n",
       "      <td>0.975431</td>\n",
       "      <td>0.292008</td>\n",
       "      <td>0.365010</td>\n",
       "      <td>...</td>\n",
       "      <td>0.948931</td>\n",
       "      <td>1.287015</td>\n",
       "      <td>0.731341</td>\n",
       "      <td>1.950861</td>\n",
       "      <td>1.010527</td>\n",
       "      <td>2.416037</td>\n",
       "      <td>0.405325</td>\n",
       "      <td>0.585666</td>\n",
       "      <td>3.258612</td>\n",
       "      <td>3.749457</td>\n",
       "    </tr>\n",
       "  </tbody>\n",
       "</table>\n",
       "<p>757 rows × 13440 columns</p>\n",
       "</div>"
      ],
      "text/plain": [
       "CITIZEN_ID     17935     21522     21622     26182     18681     12796  \\\n",
       "CITIZEN_ID                                                               \n",
       "31520       1.215974  2.127971  6.457021  1.969608  2.435320  1.215974   \n",
       "13880       2.177255  2.442424  6.317450  2.898514  3.845179  2.177255   \n",
       "27431       5.596171  4.381537  6.866216  4.353023  5.916417  5.596171   \n",
       "25090       2.488652  1.047063  5.735808  1.800011  1.392725  2.488652   \n",
       "15607       5.105098  4.084486  6.511680  4.886374  5.595195  5.105098   \n",
       "...              ...       ...       ...       ...       ...       ...   \n",
       "27124       5.009020  5.291205  2.770931  5.480054  5.315679  5.009020   \n",
       "21832       2.725192  1.881157  5.867918  2.641136  3.547211  2.725192   \n",
       "18699       1.674658  2.349788  6.251026  3.414009  2.750190  1.674658   \n",
       "29724       2.571330  1.278581  5.852676  1.607030  0.975431  2.571330   \n",
       "24657       1.939476  0.169349  5.704333  1.263480  1.812678  1.939476   \n",
       "\n",
       "CITIZEN_ID     28302     21293     25164     19907  ...     19093     17090  \\\n",
       "CITIZEN_ID                                          ...                       \n",
       "31520       5.782206  1.536245  1.991645  1.924971  ...  2.518925  2.602727   \n",
       "13880       5.939154  2.526488  2.298901  2.267390  ...  3.195213  1.524140   \n",
       "27431       7.377304  5.055317  4.397098  4.438716  ...  5.104611  3.351733   \n",
       "25090       4.910778  1.438645  1.195019  1.240962  ...  0.511015  2.225297   \n",
       "15607       6.420878  4.764370  4.105753  4.149009  ...  4.525425  3.111736   \n",
       "...              ...       ...       ...       ...  ...       ...       ...   \n",
       "27124       2.237562  5.095146  5.253012  5.232173  ...  5.306093  5.597803   \n",
       "21832       5.531499  2.441144  1.834345  1.856006  ...  2.590541  0.625274   \n",
       "18699       5.031131  2.102178  2.274437  2.240204  ...  2.237458  2.748501   \n",
       "29724       5.030498  1.449304  1.413323  1.445020  ...  0.690099  2.590541   \n",
       "24657       5.076690  0.975431  0.292008  0.365010  ...  0.948931  1.287015   \n",
       "\n",
       "CITIZEN_ID     24944     15262     31100     31774     32458     30525  \\\n",
       "CITIZEN_ID                                                               \n",
       "31520       2.105677  1.226886  2.065602  3.678808  2.226058  2.196577   \n",
       "13880       2.667895  2.949934  3.123222  3.214060  2.514606  2.841995   \n",
       "27431       4.949014  5.919899  4.959201  5.621163  4.067313  4.454099   \n",
       "25090       0.975431  2.226058  1.099782  2.359450  1.226886  1.005851   \n",
       "15607       4.376796  5.636118  4.906201  3.738709  4.081961  4.433197   \n",
       "...              ...       ...       ...       ...       ...       ...   \n",
       "27124       5.179265  5.024862  5.302053  5.620127  5.415108  5.372853   \n",
       "21832       2.243392  3.266443  2.750156  2.573001  1.897861  2.298898   \n",
       "18699       1.904741  2.200769  2.774626  1.177922  2.802542  2.798293   \n",
       "29724       1.195019  2.088593  0.851372  2.862020  1.365039  0.990156   \n",
       "24657       0.731341  1.950861  1.010527  2.416037  0.405325  0.585666   \n",
       "\n",
       "CITIZEN_ID     21388     23443  \n",
       "CITIZEN_ID                      \n",
       "31520       3.579573  2.396630  \n",
       "13880       4.020174  3.852979  \n",
       "27431       3.657808  5.521658  \n",
       "25090       3.812795  4.406298  \n",
       "15607       5.626788  6.936356  \n",
       "...              ...       ...  \n",
       "27124       6.630985  6.162949  \n",
       "21832       3.823264  4.540569  \n",
       "18699       5.536308  5.215853  \n",
       "29724       3.628506  4.117188  \n",
       "24657       3.258612  3.749457  \n",
       "\n",
       "[757 rows x 13440 columns]"
      ]
     },
     "execution_count": 137,
     "metadata": {},
     "output_type": "execute_result"
    }
   ],
   "source": [
    "dmatrix_mvalues"
   ]
  },
  {
   "cell_type": "code",
   "execution_count": 138,
   "metadata": {},
   "outputs": [
    {
     "data": {
      "text/html": [
       "<div>\n",
       "<style scoped>\n",
       "    .dataframe tbody tr th:only-of-type {\n",
       "        vertical-align: middle;\n",
       "    }\n",
       "\n",
       "    .dataframe tbody tr th {\n",
       "        vertical-align: top;\n",
       "    }\n",
       "\n",
       "    .dataframe thead th {\n",
       "        text-align: right;\n",
       "    }\n",
       "</style>\n",
       "<table border=\"1\" class=\"dataframe\">\n",
       "  <thead>\n",
       "    <tr style=\"text-align: right;\">\n",
       "      <th>CITIZEN_ID</th>\n",
       "      <th>17935</th>\n",
       "      <th>21522</th>\n",
       "      <th>21622</th>\n",
       "      <th>26182</th>\n",
       "      <th>18681</th>\n",
       "      <th>12796</th>\n",
       "      <th>28302</th>\n",
       "      <th>21293</th>\n",
       "      <th>25164</th>\n",
       "      <th>19907</th>\n",
       "      <th>...</th>\n",
       "      <th>19093</th>\n",
       "      <th>17090</th>\n",
       "      <th>24944</th>\n",
       "      <th>15262</th>\n",
       "      <th>31100</th>\n",
       "      <th>31774</th>\n",
       "      <th>32458</th>\n",
       "      <th>30525</th>\n",
       "      <th>21388</th>\n",
       "      <th>23443</th>\n",
       "    </tr>\n",
       "    <tr>\n",
       "      <th>CITIZEN_ID</th>\n",
       "      <th></th>\n",
       "      <th></th>\n",
       "      <th></th>\n",
       "      <th></th>\n",
       "      <th></th>\n",
       "      <th></th>\n",
       "      <th></th>\n",
       "      <th></th>\n",
       "      <th></th>\n",
       "      <th></th>\n",
       "      <th></th>\n",
       "      <th></th>\n",
       "      <th></th>\n",
       "      <th></th>\n",
       "      <th></th>\n",
       "      <th></th>\n",
       "      <th></th>\n",
       "      <th></th>\n",
       "      <th></th>\n",
       "      <th></th>\n",
       "      <th></th>\n",
       "    </tr>\n",
       "  </thead>\n",
       "  <tbody>\n",
       "    <tr>\n",
       "      <th>31520</th>\n",
       "      <td>1.215974</td>\n",
       "      <td>2.127971</td>\n",
       "      <td>6.457021</td>\n",
       "      <td>1.969608</td>\n",
       "      <td>2.435320</td>\n",
       "      <td>1.215974</td>\n",
       "      <td>5.782206</td>\n",
       "      <td>1.536245</td>\n",
       "      <td>1.991645</td>\n",
       "      <td>1.924971</td>\n",
       "      <td>...</td>\n",
       "      <td>2.518925</td>\n",
       "      <td>2.602727</td>\n",
       "      <td>2.105677</td>\n",
       "      <td>1.226886</td>\n",
       "      <td>2.065602</td>\n",
       "      <td>3.678808</td>\n",
       "      <td>2.226058</td>\n",
       "      <td>2.196577</td>\n",
       "      <td>3.579573</td>\n",
       "      <td>2.396630</td>\n",
       "    </tr>\n",
       "    <tr>\n",
       "      <th>13880</th>\n",
       "      <td>2.177255</td>\n",
       "      <td>2.442424</td>\n",
       "      <td>6.317450</td>\n",
       "      <td>2.898514</td>\n",
       "      <td>3.845179</td>\n",
       "      <td>2.177255</td>\n",
       "      <td>5.939154</td>\n",
       "      <td>2.526488</td>\n",
       "      <td>2.298901</td>\n",
       "      <td>2.267390</td>\n",
       "      <td>...</td>\n",
       "      <td>3.195213</td>\n",
       "      <td>1.524140</td>\n",
       "      <td>2.667895</td>\n",
       "      <td>2.949934</td>\n",
       "      <td>3.123222</td>\n",
       "      <td>3.214060</td>\n",
       "      <td>2.514606</td>\n",
       "      <td>2.841995</td>\n",
       "      <td>4.020174</td>\n",
       "      <td>3.852979</td>\n",
       "    </tr>\n",
       "    <tr>\n",
       "      <th>27431</th>\n",
       "      <td>5.596171</td>\n",
       "      <td>4.381537</td>\n",
       "      <td>6.866216</td>\n",
       "      <td>4.353023</td>\n",
       "      <td>5.916417</td>\n",
       "      <td>5.596171</td>\n",
       "      <td>7.377304</td>\n",
       "      <td>5.055317</td>\n",
       "      <td>4.397098</td>\n",
       "      <td>4.438716</td>\n",
       "      <td>...</td>\n",
       "      <td>5.104611</td>\n",
       "      <td>3.351733</td>\n",
       "      <td>4.949014</td>\n",
       "      <td>5.919899</td>\n",
       "      <td>4.959201</td>\n",
       "      <td>5.621163</td>\n",
       "      <td>4.067313</td>\n",
       "      <td>4.454099</td>\n",
       "      <td>3.657808</td>\n",
       "      <td>5.521658</td>\n",
       "    </tr>\n",
       "    <tr>\n",
       "      <th>25090</th>\n",
       "      <td>2.488652</td>\n",
       "      <td>1.047063</td>\n",
       "      <td>5.735808</td>\n",
       "      <td>1.800011</td>\n",
       "      <td>1.392725</td>\n",
       "      <td>2.488652</td>\n",
       "      <td>4.910778</td>\n",
       "      <td>1.438645</td>\n",
       "      <td>1.195019</td>\n",
       "      <td>1.240962</td>\n",
       "      <td>...</td>\n",
       "      <td>0.511015</td>\n",
       "      <td>2.225297</td>\n",
       "      <td>0.975431</td>\n",
       "      <td>2.226058</td>\n",
       "      <td>1.099782</td>\n",
       "      <td>2.359450</td>\n",
       "      <td>1.226886</td>\n",
       "      <td>1.005851</td>\n",
       "      <td>3.812795</td>\n",
       "      <td>4.406298</td>\n",
       "    </tr>\n",
       "    <tr>\n",
       "      <th>15607</th>\n",
       "      <td>5.105098</td>\n",
       "      <td>4.084486</td>\n",
       "      <td>6.511680</td>\n",
       "      <td>4.886374</td>\n",
       "      <td>5.595195</td>\n",
       "      <td>5.105098</td>\n",
       "      <td>6.420878</td>\n",
       "      <td>4.764370</td>\n",
       "      <td>4.105753</td>\n",
       "      <td>4.149009</td>\n",
       "      <td>...</td>\n",
       "      <td>4.525425</td>\n",
       "      <td>3.111736</td>\n",
       "      <td>4.376796</td>\n",
       "      <td>5.636118</td>\n",
       "      <td>4.906201</td>\n",
       "      <td>3.738709</td>\n",
       "      <td>4.081961</td>\n",
       "      <td>4.433197</td>\n",
       "      <td>5.626788</td>\n",
       "      <td>6.936356</td>\n",
       "    </tr>\n",
       "    <tr>\n",
       "      <th>...</th>\n",
       "      <td>...</td>\n",
       "      <td>...</td>\n",
       "      <td>...</td>\n",
       "      <td>...</td>\n",
       "      <td>...</td>\n",
       "      <td>...</td>\n",
       "      <td>...</td>\n",
       "      <td>...</td>\n",
       "      <td>...</td>\n",
       "      <td>...</td>\n",
       "      <td>...</td>\n",
       "      <td>...</td>\n",
       "      <td>...</td>\n",
       "      <td>...</td>\n",
       "      <td>...</td>\n",
       "      <td>...</td>\n",
       "      <td>...</td>\n",
       "      <td>...</td>\n",
       "      <td>...</td>\n",
       "      <td>...</td>\n",
       "      <td>...</td>\n",
       "    </tr>\n",
       "    <tr>\n",
       "      <th>27124</th>\n",
       "      <td>5.009020</td>\n",
       "      <td>5.291205</td>\n",
       "      <td>2.770931</td>\n",
       "      <td>5.480054</td>\n",
       "      <td>5.315679</td>\n",
       "      <td>5.009020</td>\n",
       "      <td>2.237562</td>\n",
       "      <td>5.095146</td>\n",
       "      <td>5.253012</td>\n",
       "      <td>5.232173</td>\n",
       "      <td>...</td>\n",
       "      <td>5.306093</td>\n",
       "      <td>5.597803</td>\n",
       "      <td>5.179265</td>\n",
       "      <td>5.024862</td>\n",
       "      <td>5.302053</td>\n",
       "      <td>5.620127</td>\n",
       "      <td>5.415108</td>\n",
       "      <td>5.372853</td>\n",
       "      <td>6.630985</td>\n",
       "      <td>6.162949</td>\n",
       "    </tr>\n",
       "    <tr>\n",
       "      <th>21832</th>\n",
       "      <td>2.725192</td>\n",
       "      <td>1.881157</td>\n",
       "      <td>5.867918</td>\n",
       "      <td>2.641136</td>\n",
       "      <td>3.547211</td>\n",
       "      <td>2.725192</td>\n",
       "      <td>5.531499</td>\n",
       "      <td>2.441144</td>\n",
       "      <td>1.834345</td>\n",
       "      <td>1.856006</td>\n",
       "      <td>...</td>\n",
       "      <td>2.590541</td>\n",
       "      <td>0.625274</td>\n",
       "      <td>2.243392</td>\n",
       "      <td>3.266443</td>\n",
       "      <td>2.750156</td>\n",
       "      <td>2.573001</td>\n",
       "      <td>1.897861</td>\n",
       "      <td>2.298898</td>\n",
       "      <td>3.823264</td>\n",
       "      <td>4.540569</td>\n",
       "    </tr>\n",
       "    <tr>\n",
       "      <th>18699</th>\n",
       "      <td>1.674658</td>\n",
       "      <td>2.349788</td>\n",
       "      <td>6.251026</td>\n",
       "      <td>3.414009</td>\n",
       "      <td>2.750190</td>\n",
       "      <td>1.674658</td>\n",
       "      <td>5.031131</td>\n",
       "      <td>2.102178</td>\n",
       "      <td>2.274437</td>\n",
       "      <td>2.240204</td>\n",
       "      <td>...</td>\n",
       "      <td>2.237458</td>\n",
       "      <td>2.748501</td>\n",
       "      <td>1.904741</td>\n",
       "      <td>2.200769</td>\n",
       "      <td>2.774626</td>\n",
       "      <td>1.177922</td>\n",
       "      <td>2.802542</td>\n",
       "      <td>2.798293</td>\n",
       "      <td>5.536308</td>\n",
       "      <td>5.215853</td>\n",
       "    </tr>\n",
       "    <tr>\n",
       "      <th>29724</th>\n",
       "      <td>2.571330</td>\n",
       "      <td>1.278581</td>\n",
       "      <td>5.852676</td>\n",
       "      <td>1.607030</td>\n",
       "      <td>0.975431</td>\n",
       "      <td>2.571330</td>\n",
       "      <td>5.030498</td>\n",
       "      <td>1.449304</td>\n",
       "      <td>1.413323</td>\n",
       "      <td>1.445020</td>\n",
       "      <td>...</td>\n",
       "      <td>0.690099</td>\n",
       "      <td>2.590541</td>\n",
       "      <td>1.195019</td>\n",
       "      <td>2.088593</td>\n",
       "      <td>0.851372</td>\n",
       "      <td>2.862020</td>\n",
       "      <td>1.365039</td>\n",
       "      <td>0.990156</td>\n",
       "      <td>3.628506</td>\n",
       "      <td>4.117188</td>\n",
       "    </tr>\n",
       "    <tr>\n",
       "      <th>24657</th>\n",
       "      <td>1.939476</td>\n",
       "      <td>0.169349</td>\n",
       "      <td>5.704333</td>\n",
       "      <td>1.263480</td>\n",
       "      <td>1.812678</td>\n",
       "      <td>1.939476</td>\n",
       "      <td>5.076690</td>\n",
       "      <td>0.975431</td>\n",
       "      <td>0.292008</td>\n",
       "      <td>0.365010</td>\n",
       "      <td>...</td>\n",
       "      <td>0.948931</td>\n",
       "      <td>1.287015</td>\n",
       "      <td>0.731341</td>\n",
       "      <td>1.950861</td>\n",
       "      <td>1.010527</td>\n",
       "      <td>2.416037</td>\n",
       "      <td>0.405325</td>\n",
       "      <td>0.585666</td>\n",
       "      <td>3.258612</td>\n",
       "      <td>3.749457</td>\n",
       "    </tr>\n",
       "  </tbody>\n",
       "</table>\n",
       "<p>757 rows × 12683 columns</p>\n",
       "</div>"
      ],
      "text/plain": [
       "CITIZEN_ID     17935     21522     21622     26182     18681     12796  \\\n",
       "CITIZEN_ID                                                               \n",
       "31520       1.215974  2.127971  6.457021  1.969608  2.435320  1.215974   \n",
       "13880       2.177255  2.442424  6.317450  2.898514  3.845179  2.177255   \n",
       "27431       5.596171  4.381537  6.866216  4.353023  5.916417  5.596171   \n",
       "25090       2.488652  1.047063  5.735808  1.800011  1.392725  2.488652   \n",
       "15607       5.105098  4.084486  6.511680  4.886374  5.595195  5.105098   \n",
       "...              ...       ...       ...       ...       ...       ...   \n",
       "27124       5.009020  5.291205  2.770931  5.480054  5.315679  5.009020   \n",
       "21832       2.725192  1.881157  5.867918  2.641136  3.547211  2.725192   \n",
       "18699       1.674658  2.349788  6.251026  3.414009  2.750190  1.674658   \n",
       "29724       2.571330  1.278581  5.852676  1.607030  0.975431  2.571330   \n",
       "24657       1.939476  0.169349  5.704333  1.263480  1.812678  1.939476   \n",
       "\n",
       "CITIZEN_ID     28302     21293     25164     19907  ...     19093     17090  \\\n",
       "CITIZEN_ID                                          ...                       \n",
       "31520       5.782206  1.536245  1.991645  1.924971  ...  2.518925  2.602727   \n",
       "13880       5.939154  2.526488  2.298901  2.267390  ...  3.195213  1.524140   \n",
       "27431       7.377304  5.055317  4.397098  4.438716  ...  5.104611  3.351733   \n",
       "25090       4.910778  1.438645  1.195019  1.240962  ...  0.511015  2.225297   \n",
       "15607       6.420878  4.764370  4.105753  4.149009  ...  4.525425  3.111736   \n",
       "...              ...       ...       ...       ...  ...       ...       ...   \n",
       "27124       2.237562  5.095146  5.253012  5.232173  ...  5.306093  5.597803   \n",
       "21832       5.531499  2.441144  1.834345  1.856006  ...  2.590541  0.625274   \n",
       "18699       5.031131  2.102178  2.274437  2.240204  ...  2.237458  2.748501   \n",
       "29724       5.030498  1.449304  1.413323  1.445020  ...  0.690099  2.590541   \n",
       "24657       5.076690  0.975431  0.292008  0.365010  ...  0.948931  1.287015   \n",
       "\n",
       "CITIZEN_ID     24944     15262     31100     31774     32458     30525  \\\n",
       "CITIZEN_ID                                                               \n",
       "31520       2.105677  1.226886  2.065602  3.678808  2.226058  2.196577   \n",
       "13880       2.667895  2.949934  3.123222  3.214060  2.514606  2.841995   \n",
       "27431       4.949014  5.919899  4.959201  5.621163  4.067313  4.454099   \n",
       "25090       0.975431  2.226058  1.099782  2.359450  1.226886  1.005851   \n",
       "15607       4.376796  5.636118  4.906201  3.738709  4.081961  4.433197   \n",
       "...              ...       ...       ...       ...       ...       ...   \n",
       "27124       5.179265  5.024862  5.302053  5.620127  5.415108  5.372853   \n",
       "21832       2.243392  3.266443  2.750156  2.573001  1.897861  2.298898   \n",
       "18699       1.904741  2.200769  2.774626  1.177922  2.802542  2.798293   \n",
       "29724       1.195019  2.088593  0.851372  2.862020  1.365039  0.990156   \n",
       "24657       0.731341  1.950861  1.010527  2.416037  0.405325  0.585666   \n",
       "\n",
       "CITIZEN_ID     21388     23443  \n",
       "CITIZEN_ID                      \n",
       "31520       3.579573  2.396630  \n",
       "13880       4.020174  3.852979  \n",
       "27431       3.657808  5.521658  \n",
       "25090       3.812795  4.406298  \n",
       "15607       5.626788  6.936356  \n",
       "...              ...       ...  \n",
       "27124       6.630985  6.162949  \n",
       "21832       3.823264  4.540569  \n",
       "18699       5.536308  5.215853  \n",
       "29724       3.628506  4.117188  \n",
       "24657       3.258612  3.749457  \n",
       "\n",
       "[757 rows x 12683 columns]"
      ]
     },
     "execution_count": 138,
     "metadata": {},
     "output_type": "execute_result"
    }
   ],
   "source": [
    "#Excluding from columns observations with missing values:\n",
    "notnanid = [i for i in dmatrix_mvalues.columns.to_list() if i not in dmatrix_mvalues.index.to_list()]\n",
    "dmatrix_mvalues = dmatrix_mvalues[notnanid]\n",
    "dmatrix_mvalues"
   ]
  },
  {
   "cell_type": "markdown",
   "metadata": {},
   "source": [
    "Replacing the missing values with the most frequent category of the 5-NN:"
   ]
  },
  {
   "cell_type": "code",
   "execution_count": 139,
   "metadata": {},
   "outputs": [
    {
     "data": {
      "text/plain": [
       "CITIZEN_ID\n",
       "31520    [28599, 21196, 30313, 24229, 25384]\n",
       "13880    [25512, 16067, 23802, 22659, 20477]\n",
       "27431    [17158, 23194, 28659, 16446, 12950]\n",
       "25090    [18235, 27784, 20995, 33394, 34742]\n",
       "15607    [26504, 30639, 16291, 26022, 16121]\n",
       "                        ...                 \n",
       "27124    [22761, 25269, 32106, 26468, 23977]\n",
       "21832    [14524, 25442, 23225, 24422, 19984]\n",
       "18699    [29964, 20491, 21983, 12847, 27315]\n",
       "29724    [33647, 31724, 32438, 17477, 24670]\n",
       "24657    [20848, 16373, 34603, 18808, 28326]\n",
       "Length: 757, dtype: object"
      ]
     },
     "execution_count": 139,
     "metadata": {},
     "output_type": "execute_result"
    }
   ],
   "source": [
    "#Getting the 5 Nearest Neighbours of the observations with missing values:\n",
    "NN = pd.Series( data = [dmatrix_mvalues.iloc[i,:].sort_values().head(5).index.to_list() for i in range(len(dmatrix_mvalues))], index=dmatrix_mvalues.index)\n",
    "NN"
   ]
  },
  {
   "cell_type": "code",
   "execution_count": 140,
   "metadata": {},
   "outputs": [],
   "source": [
    "#Getting the most frequent \"Employment Sector\" and \"Role\" of the 5 Nearest Neighbours of each point with missing values:\n",
    "df_scaled_T = df_scaled.T.copy()\n",
    "imputed_employment = pd.Series([df_scaled_T[NN[i]].T[\"Employment Sector\"].mode()[0] for i in NN.index], index=NN.index)\n",
    "imputed_role = pd.Series([df_scaled_T[NN[i]].T[\"Role\"].mode()[0] for i in NN.index], index=NN.index)"
   ]
  },
  {
   "cell_type": "code",
   "execution_count": 141,
   "metadata": {},
   "outputs": [],
   "source": [
    "#Just to make things easier:\n",
    "df_scaled.replace(np.nan, '?', inplace=True)"
   ]
  },
  {
   "cell_type": "code",
   "execution_count": 142,
   "metadata": {},
   "outputs": [],
   "source": [
    "#Replacing NaNs with the imputed categories\n",
    "df_scaled[\"Employment Sector\"] = df_scaled.apply(lambda x: imputed_employment[x.name] if x[\"Employment Sector\"]==\"?\" else x[\"Employment Sector\"], axis=1)\n",
    "df_scaled[\"Role\"] = df_scaled.apply(lambda x: imputed_role[x.name] if x[\"Role\"]==\"?\" else x[\"Role\"], axis=1)"
   ]
  },
  {
   "cell_type": "code",
   "execution_count": 143,
   "metadata": {},
   "outputs": [
    {
     "data": {
      "text/html": [
       "<div>\n",
       "<style scoped>\n",
       "    .dataframe tbody tr th:only-of-type {\n",
       "        vertical-align: middle;\n",
       "    }\n",
       "\n",
       "    .dataframe tbody tr th {\n",
       "        vertical-align: top;\n",
       "    }\n",
       "\n",
       "    .dataframe thead th {\n",
       "        text-align: right;\n",
       "    }\n",
       "</style>\n",
       "<table border=\"1\" class=\"dataframe\">\n",
       "  <thead>\n",
       "    <tr style=\"text-align: right;\">\n",
       "      <th></th>\n",
       "      <th>Gender</th>\n",
       "      <th>Age</th>\n",
       "      <th>Native Continent</th>\n",
       "      <th>Marital Status</th>\n",
       "      <th>Lives with</th>\n",
       "      <th>Years of Education</th>\n",
       "      <th>Employment Sector</th>\n",
       "      <th>Role</th>\n",
       "      <th>Working Hours per week</th>\n",
       "      <th>Money Received</th>\n",
       "      <th>Ticket Price</th>\n",
       "      <th>Money_category</th>\n",
       "      <th>Ticket_category</th>\n",
       "      <th>Income</th>\n",
       "    </tr>\n",
       "    <tr>\n",
       "      <th>CITIZEN_ID</th>\n",
       "      <th></th>\n",
       "      <th></th>\n",
       "      <th></th>\n",
       "      <th></th>\n",
       "      <th></th>\n",
       "      <th></th>\n",
       "      <th></th>\n",
       "      <th></th>\n",
       "      <th></th>\n",
       "      <th></th>\n",
       "      <th></th>\n",
       "      <th></th>\n",
       "      <th></th>\n",
       "      <th></th>\n",
       "    </tr>\n",
       "  </thead>\n",
       "  <tbody>\n",
       "    <tr>\n",
       "      <th>17935</th>\n",
       "      <td>0</td>\n",
       "      <td>-1.364025</td>\n",
       "      <td>1</td>\n",
       "      <td>Married_B</td>\n",
       "      <td>Other Family</td>\n",
       "      <td>-0.073183</td>\n",
       "      <td>Private Sector</td>\n",
       "      <td>Sales</td>\n",
       "      <td>-0.019771</td>\n",
       "      <td>-0.144598</td>\n",
       "      <td>-0.216172</td>\n",
       "      <td>0</td>\n",
       "      <td>0</td>\n",
       "      <td>0</td>\n",
       "    </tr>\n",
       "    <tr>\n",
       "      <th>21522</th>\n",
       "      <td>1</td>\n",
       "      <td>0.388025</td>\n",
       "      <td>1</td>\n",
       "      <td>Married_A</td>\n",
       "      <td>Wife</td>\n",
       "      <td>-0.471880</td>\n",
       "      <td>Private Sector</td>\n",
       "      <td>Repair &amp; constructions</td>\n",
       "      <td>0.066030</td>\n",
       "      <td>-0.144598</td>\n",
       "      <td>-0.216172</td>\n",
       "      <td>0</td>\n",
       "      <td>0</td>\n",
       "      <td>0</td>\n",
       "    </tr>\n",
       "    <tr>\n",
       "      <th>21622</th>\n",
       "      <td>0</td>\n",
       "      <td>1.337052</td>\n",
       "      <td>1</td>\n",
       "      <td>Married_C</td>\n",
       "      <td>Alone</td>\n",
       "      <td>-0.073183</td>\n",
       "      <td>Private Sector</td>\n",
       "      <td>Administratives</td>\n",
       "      <td>-0.191373</td>\n",
       "      <td>-0.144598</td>\n",
       "      <td>5.414650</td>\n",
       "      <td>0</td>\n",
       "      <td>A</td>\n",
       "      <td>1</td>\n",
       "    </tr>\n",
       "    <tr>\n",
       "      <th>26182</th>\n",
       "      <td>0</td>\n",
       "      <td>0.315022</td>\n",
       "      <td>1</td>\n",
       "      <td>Married_B</td>\n",
       "      <td>Children</td>\n",
       "      <td>-1.667969</td>\n",
       "      <td>Self-Employed (Company)</td>\n",
       "      <td>Sales</td>\n",
       "      <td>0.323433</td>\n",
       "      <td>-0.144598</td>\n",
       "      <td>-0.216172</td>\n",
       "      <td>0</td>\n",
       "      <td>0</td>\n",
       "      <td>0</td>\n",
       "    </tr>\n",
       "    <tr>\n",
       "      <th>18681</th>\n",
       "      <td>0</td>\n",
       "      <td>-0.049988</td>\n",
       "      <td>1</td>\n",
       "      <td>Married_A</td>\n",
       "      <td>Husband</td>\n",
       "      <td>-0.471880</td>\n",
       "      <td>Private Sector</td>\n",
       "      <td>Management</td>\n",
       "      <td>1.696249</td>\n",
       "      <td>-0.144598</td>\n",
       "      <td>-0.216172</td>\n",
       "      <td>0</td>\n",
       "      <td>0</td>\n",
       "      <td>1</td>\n",
       "    </tr>\n",
       "    <tr>\n",
       "      <th>...</th>\n",
       "      <td>...</td>\n",
       "      <td>...</td>\n",
       "      <td>...</td>\n",
       "      <td>...</td>\n",
       "      <td>...</td>\n",
       "      <td>...</td>\n",
       "      <td>...</td>\n",
       "      <td>...</td>\n",
       "      <td>...</td>\n",
       "      <td>...</td>\n",
       "      <td>...</td>\n",
       "      <td>...</td>\n",
       "      <td>...</td>\n",
       "      <td>...</td>\n",
       "    </tr>\n",
       "    <tr>\n",
       "      <th>31774</th>\n",
       "      <td>1</td>\n",
       "      <td>0.242020</td>\n",
       "      <td>1</td>\n",
       "      <td>Married_A</td>\n",
       "      <td>Wife</td>\n",
       "      <td>1.920299</td>\n",
       "      <td>Self-Employed (Individual)</td>\n",
       "      <td>Professor</td>\n",
       "      <td>-0.191373</td>\n",
       "      <td>-0.144598</td>\n",
       "      <td>-0.216172</td>\n",
       "      <td>0</td>\n",
       "      <td>0</td>\n",
       "      <td>1</td>\n",
       "    </tr>\n",
       "    <tr>\n",
       "      <th>32458</th>\n",
       "      <td>1</td>\n",
       "      <td>0.607031</td>\n",
       "      <td>1</td>\n",
       "      <td>Married_C</td>\n",
       "      <td>Other Family</td>\n",
       "      <td>-0.870576</td>\n",
       "      <td>Private Sector</td>\n",
       "      <td>Cleaners &amp; Handlers</td>\n",
       "      <td>-0.019771</td>\n",
       "      <td>-0.144598</td>\n",
       "      <td>-0.216172</td>\n",
       "      <td>0</td>\n",
       "      <td>0</td>\n",
       "      <td>0</td>\n",
       "    </tr>\n",
       "    <tr>\n",
       "      <th>30525</th>\n",
       "      <td>1</td>\n",
       "      <td>0.534029</td>\n",
       "      <td>1</td>\n",
       "      <td>Married_A</td>\n",
       "      <td>Wife</td>\n",
       "      <td>-0.870576</td>\n",
       "      <td>Private Sector</td>\n",
       "      <td>Cleaners &amp; Handlers</td>\n",
       "      <td>0.409234</td>\n",
       "      <td>-0.144598</td>\n",
       "      <td>-0.216172</td>\n",
       "      <td>0</td>\n",
       "      <td>0</td>\n",
       "      <td>1</td>\n",
       "    </tr>\n",
       "    <tr>\n",
       "      <th>21388</th>\n",
       "      <td>1</td>\n",
       "      <td>1.045043</td>\n",
       "      <td>0</td>\n",
       "      <td>Married_A</td>\n",
       "      <td>Wife</td>\n",
       "      <td>-3.661452</td>\n",
       "      <td>Private Sector</td>\n",
       "      <td>Other services</td>\n",
       "      <td>-0.448776</td>\n",
       "      <td>-0.144598</td>\n",
       "      <td>-0.216172</td>\n",
       "      <td>0</td>\n",
       "      <td>0</td>\n",
       "      <td>0</td>\n",
       "    </tr>\n",
       "    <tr>\n",
       "      <th>23443</th>\n",
       "      <td>1</td>\n",
       "      <td>-1.437028</td>\n",
       "      <td>1</td>\n",
       "      <td>Married_B</td>\n",
       "      <td>Other relatives</td>\n",
       "      <td>-3.661452</td>\n",
       "      <td>Private Sector</td>\n",
       "      <td>Machine Operators &amp; Inspectors</td>\n",
       "      <td>-0.019771</td>\n",
       "      <td>-0.144598</td>\n",
       "      <td>-0.216172</td>\n",
       "      <td>0</td>\n",
       "      <td>0</td>\n",
       "      <td>0</td>\n",
       "    </tr>\n",
       "  </tbody>\n",
       "</table>\n",
       "<p>13440 rows × 14 columns</p>\n",
       "</div>"
      ],
      "text/plain": [
       "            Gender       Age Native Continent Marital Status       Lives with  \\\n",
       "CITIZEN_ID                                                                      \n",
       "17935            0 -1.364025                1      Married_B     Other Family   \n",
       "21522            1  0.388025                1      Married_A             Wife   \n",
       "21622            0  1.337052                1      Married_C            Alone   \n",
       "26182            0  0.315022                1      Married_B         Children   \n",
       "18681            0 -0.049988                1      Married_A          Husband   \n",
       "...            ...       ...              ...            ...              ...   \n",
       "31774            1  0.242020                1      Married_A             Wife   \n",
       "32458            1  0.607031                1      Married_C     Other Family   \n",
       "30525            1  0.534029                1      Married_A             Wife   \n",
       "21388            1  1.045043                0      Married_A             Wife   \n",
       "23443            1 -1.437028                1      Married_B  Other relatives   \n",
       "\n",
       "            Years of Education           Employment Sector  \\\n",
       "CITIZEN_ID                                                   \n",
       "17935                -0.073183              Private Sector   \n",
       "21522                -0.471880              Private Sector   \n",
       "21622                -0.073183              Private Sector   \n",
       "26182                -1.667969     Self-Employed (Company)   \n",
       "18681                -0.471880              Private Sector   \n",
       "...                        ...                         ...   \n",
       "31774                 1.920299  Self-Employed (Individual)   \n",
       "32458                -0.870576              Private Sector   \n",
       "30525                -0.870576              Private Sector   \n",
       "21388                -3.661452              Private Sector   \n",
       "23443                -3.661452              Private Sector   \n",
       "\n",
       "                                      Role  Working Hours per week  \\\n",
       "CITIZEN_ID                                                           \n",
       "17935                                Sales               -0.019771   \n",
       "21522               Repair & constructions                0.066030   \n",
       "21622                      Administratives               -0.191373   \n",
       "26182                                Sales                0.323433   \n",
       "18681                           Management                1.696249   \n",
       "...                                    ...                     ...   \n",
       "31774                            Professor               -0.191373   \n",
       "32458                  Cleaners & Handlers               -0.019771   \n",
       "30525                  Cleaners & Handlers                0.409234   \n",
       "21388                       Other services               -0.448776   \n",
       "23443       Machine Operators & Inspectors               -0.019771   \n",
       "\n",
       "            Money Received  Ticket Price Money_category Ticket_category  \\\n",
       "CITIZEN_ID                                                                \n",
       "17935            -0.144598     -0.216172              0               0   \n",
       "21522            -0.144598     -0.216172              0               0   \n",
       "21622            -0.144598      5.414650              0               A   \n",
       "26182            -0.144598     -0.216172              0               0   \n",
       "18681            -0.144598     -0.216172              0               0   \n",
       "...                    ...           ...            ...             ...   \n",
       "31774            -0.144598     -0.216172              0               0   \n",
       "32458            -0.144598     -0.216172              0               0   \n",
       "30525            -0.144598     -0.216172              0               0   \n",
       "21388            -0.144598     -0.216172              0               0   \n",
       "23443            -0.144598     -0.216172              0               0   \n",
       "\n",
       "            Income  \n",
       "CITIZEN_ID          \n",
       "17935            0  \n",
       "21522            0  \n",
       "21622            1  \n",
       "26182            0  \n",
       "18681            1  \n",
       "...            ...  \n",
       "31774            1  \n",
       "32458            0  \n",
       "30525            1  \n",
       "21388            0  \n",
       "23443            0  \n",
       "\n",
       "[13440 rows x 14 columns]"
      ]
     },
     "execution_count": 143,
     "metadata": {},
     "output_type": "execute_result"
    }
   ],
   "source": [
    "df_scaled"
   ]
  },
  {
   "cell_type": "markdown",
   "metadata": {},
   "source": [
    "# 7. One-Hot Encoding <a class=\"anchor\" id=\"7\"></a>"
   ]
  },
  {
   "cell_type": "code",
   "execution_count": 144,
   "metadata": {},
   "outputs": [],
   "source": [
    "df_ohc = df_scaled.copy()"
   ]
  },
  {
   "cell_type": "code",
   "execution_count": 145,
   "metadata": {},
   "outputs": [
    {
     "data": {
      "text/html": [
       "<div>\n",
       "<style scoped>\n",
       "    .dataframe tbody tr th:only-of-type {\n",
       "        vertical-align: middle;\n",
       "    }\n",
       "\n",
       "    .dataframe tbody tr th {\n",
       "        vertical-align: top;\n",
       "    }\n",
       "\n",
       "    .dataframe thead th {\n",
       "        text-align: right;\n",
       "    }\n",
       "</style>\n",
       "<table border=\"1\" class=\"dataframe\">\n",
       "  <thead>\n",
       "    <tr style=\"text-align: right;\">\n",
       "      <th></th>\n",
       "      <th>Gender</th>\n",
       "      <th>Age</th>\n",
       "      <th>Native Continent</th>\n",
       "      <th>Marital Status</th>\n",
       "      <th>Lives with</th>\n",
       "      <th>Years of Education</th>\n",
       "      <th>Employment Sector</th>\n",
       "      <th>Role</th>\n",
       "      <th>Working Hours per week</th>\n",
       "      <th>Money Received</th>\n",
       "      <th>Ticket Price</th>\n",
       "      <th>Money_category</th>\n",
       "      <th>Ticket_category</th>\n",
       "      <th>Income</th>\n",
       "    </tr>\n",
       "    <tr>\n",
       "      <th>CITIZEN_ID</th>\n",
       "      <th></th>\n",
       "      <th></th>\n",
       "      <th></th>\n",
       "      <th></th>\n",
       "      <th></th>\n",
       "      <th></th>\n",
       "      <th></th>\n",
       "      <th></th>\n",
       "      <th></th>\n",
       "      <th></th>\n",
       "      <th></th>\n",
       "      <th></th>\n",
       "      <th></th>\n",
       "      <th></th>\n",
       "    </tr>\n",
       "  </thead>\n",
       "  <tbody>\n",
       "    <tr>\n",
       "      <th>17935</th>\n",
       "      <td>0</td>\n",
       "      <td>-1.364025</td>\n",
       "      <td>1</td>\n",
       "      <td>Married_B</td>\n",
       "      <td>Other Family</td>\n",
       "      <td>-0.073183</td>\n",
       "      <td>Private Sector</td>\n",
       "      <td>Sales</td>\n",
       "      <td>-0.019771</td>\n",
       "      <td>-0.144598</td>\n",
       "      <td>-0.216172</td>\n",
       "      <td>0</td>\n",
       "      <td>0</td>\n",
       "      <td>0</td>\n",
       "    </tr>\n",
       "    <tr>\n",
       "      <th>21522</th>\n",
       "      <td>1</td>\n",
       "      <td>0.388025</td>\n",
       "      <td>1</td>\n",
       "      <td>Married_A</td>\n",
       "      <td>Wife</td>\n",
       "      <td>-0.471880</td>\n",
       "      <td>Private Sector</td>\n",
       "      <td>Repair &amp; constructions</td>\n",
       "      <td>0.066030</td>\n",
       "      <td>-0.144598</td>\n",
       "      <td>-0.216172</td>\n",
       "      <td>0</td>\n",
       "      <td>0</td>\n",
       "      <td>0</td>\n",
       "    </tr>\n",
       "    <tr>\n",
       "      <th>21622</th>\n",
       "      <td>0</td>\n",
       "      <td>1.337052</td>\n",
       "      <td>1</td>\n",
       "      <td>Married_C</td>\n",
       "      <td>Alone</td>\n",
       "      <td>-0.073183</td>\n",
       "      <td>Private Sector</td>\n",
       "      <td>Administratives</td>\n",
       "      <td>-0.191373</td>\n",
       "      <td>-0.144598</td>\n",
       "      <td>5.414650</td>\n",
       "      <td>0</td>\n",
       "      <td>A</td>\n",
       "      <td>1</td>\n",
       "    </tr>\n",
       "    <tr>\n",
       "      <th>26182</th>\n",
       "      <td>0</td>\n",
       "      <td>0.315022</td>\n",
       "      <td>1</td>\n",
       "      <td>Married_B</td>\n",
       "      <td>Children</td>\n",
       "      <td>-1.667969</td>\n",
       "      <td>Self-Employed (Company)</td>\n",
       "      <td>Sales</td>\n",
       "      <td>0.323433</td>\n",
       "      <td>-0.144598</td>\n",
       "      <td>-0.216172</td>\n",
       "      <td>0</td>\n",
       "      <td>0</td>\n",
       "      <td>0</td>\n",
       "    </tr>\n",
       "    <tr>\n",
       "      <th>18681</th>\n",
       "      <td>0</td>\n",
       "      <td>-0.049988</td>\n",
       "      <td>1</td>\n",
       "      <td>Married_A</td>\n",
       "      <td>Husband</td>\n",
       "      <td>-0.471880</td>\n",
       "      <td>Private Sector</td>\n",
       "      <td>Management</td>\n",
       "      <td>1.696249</td>\n",
       "      <td>-0.144598</td>\n",
       "      <td>-0.216172</td>\n",
       "      <td>0</td>\n",
       "      <td>0</td>\n",
       "      <td>1</td>\n",
       "    </tr>\n",
       "  </tbody>\n",
       "</table>\n",
       "</div>"
      ],
      "text/plain": [
       "            Gender       Age Native Continent Marital Status    Lives with  \\\n",
       "CITIZEN_ID                                                                   \n",
       "17935            0 -1.364025                1      Married_B  Other Family   \n",
       "21522            1  0.388025                1      Married_A          Wife   \n",
       "21622            0  1.337052                1      Married_C         Alone   \n",
       "26182            0  0.315022                1      Married_B      Children   \n",
       "18681            0 -0.049988                1      Married_A       Husband   \n",
       "\n",
       "            Years of Education        Employment Sector  \\\n",
       "CITIZEN_ID                                                \n",
       "17935                -0.073183           Private Sector   \n",
       "21522                -0.471880           Private Sector   \n",
       "21622                -0.073183           Private Sector   \n",
       "26182                -1.667969  Self-Employed (Company)   \n",
       "18681                -0.471880           Private Sector   \n",
       "\n",
       "                              Role  Working Hours per week  Money Received  \\\n",
       "CITIZEN_ID                                                                   \n",
       "17935                        Sales               -0.019771       -0.144598   \n",
       "21522       Repair & constructions                0.066030       -0.144598   \n",
       "21622              Administratives               -0.191373       -0.144598   \n",
       "26182                        Sales                0.323433       -0.144598   \n",
       "18681                   Management                1.696249       -0.144598   \n",
       "\n",
       "            Ticket Price Money_category Ticket_category  Income  \n",
       "CITIZEN_ID                                                       \n",
       "17935          -0.216172              0               0       0  \n",
       "21522          -0.216172              0               0       0  \n",
       "21622           5.414650              0               A       1  \n",
       "26182          -0.216172              0               0       0  \n",
       "18681          -0.216172              0               0       1  "
      ]
     },
     "execution_count": 145,
     "metadata": {},
     "output_type": "execute_result"
    }
   ],
   "source": [
    "df_ohc.head()"
   ]
  },
  {
   "cell_type": "code",
   "execution_count": 146,
   "metadata": {},
   "outputs": [],
   "source": [
    "#Excluded Gender, Native Continent and Married_binary because they're already binary\n",
    "non_metric_features = [\"Marital Status\",\"Lives with\", \"Employment Sector\", \"Role\", \"Money_category\",\"Ticket_category\"]"
   ]
  },
  {
   "cell_type": "code",
   "execution_count": 147,
   "metadata": {},
   "outputs": [
    {
     "data": {
      "text/html": [
       "<div>\n",
       "<style scoped>\n",
       "    .dataframe tbody tr th:only-of-type {\n",
       "        vertical-align: middle;\n",
       "    }\n",
       "\n",
       "    .dataframe tbody tr th {\n",
       "        vertical-align: top;\n",
       "    }\n",
       "\n",
       "    .dataframe thead th {\n",
       "        text-align: right;\n",
       "    }\n",
       "</style>\n",
       "<table border=\"1\" class=\"dataframe\">\n",
       "  <thead>\n",
       "    <tr style=\"text-align: right;\">\n",
       "      <th></th>\n",
       "      <th>x0_Married_B</th>\n",
       "      <th>x0_Married_C</th>\n",
       "      <th>x1_Children</th>\n",
       "      <th>x1_Husband</th>\n",
       "      <th>x1_Other Family</th>\n",
       "      <th>x1_Other relatives</th>\n",
       "      <th>x1_Wife</th>\n",
       "      <th>x2_Private Sector</th>\n",
       "      <th>x2_Public Sector - Government</th>\n",
       "      <th>x2_Public Sector - Others</th>\n",
       "      <th>...</th>\n",
       "      <th>x3_Sales</th>\n",
       "      <th>x3_Security</th>\n",
       "      <th>x3_Transports</th>\n",
       "      <th>x4_A</th>\n",
       "      <th>x4_B</th>\n",
       "      <th>x4_C</th>\n",
       "      <th>x5_A</th>\n",
       "      <th>x5_B</th>\n",
       "      <th>x5_C</th>\n",
       "      <th>x5_D</th>\n",
       "    </tr>\n",
       "    <tr>\n",
       "      <th>CITIZEN_ID</th>\n",
       "      <th></th>\n",
       "      <th></th>\n",
       "      <th></th>\n",
       "      <th></th>\n",
       "      <th></th>\n",
       "      <th></th>\n",
       "      <th></th>\n",
       "      <th></th>\n",
       "      <th></th>\n",
       "      <th></th>\n",
       "      <th></th>\n",
       "      <th></th>\n",
       "      <th></th>\n",
       "      <th></th>\n",
       "      <th></th>\n",
       "      <th></th>\n",
       "      <th></th>\n",
       "      <th></th>\n",
       "      <th></th>\n",
       "      <th></th>\n",
       "      <th></th>\n",
       "    </tr>\n",
       "  </thead>\n",
       "  <tbody>\n",
       "    <tr>\n",
       "      <th>17935</th>\n",
       "      <td>1.0</td>\n",
       "      <td>0.0</td>\n",
       "      <td>0.0</td>\n",
       "      <td>0.0</td>\n",
       "      <td>1.0</td>\n",
       "      <td>0.0</td>\n",
       "      <td>0.0</td>\n",
       "      <td>1.0</td>\n",
       "      <td>0.0</td>\n",
       "      <td>0.0</td>\n",
       "      <td>...</td>\n",
       "      <td>1.0</td>\n",
       "      <td>0.0</td>\n",
       "      <td>0.0</td>\n",
       "      <td>0.0</td>\n",
       "      <td>0.0</td>\n",
       "      <td>0.0</td>\n",
       "      <td>0.0</td>\n",
       "      <td>0.0</td>\n",
       "      <td>0.0</td>\n",
       "      <td>0.0</td>\n",
       "    </tr>\n",
       "    <tr>\n",
       "      <th>21522</th>\n",
       "      <td>0.0</td>\n",
       "      <td>0.0</td>\n",
       "      <td>0.0</td>\n",
       "      <td>0.0</td>\n",
       "      <td>0.0</td>\n",
       "      <td>0.0</td>\n",
       "      <td>1.0</td>\n",
       "      <td>1.0</td>\n",
       "      <td>0.0</td>\n",
       "      <td>0.0</td>\n",
       "      <td>...</td>\n",
       "      <td>0.0</td>\n",
       "      <td>0.0</td>\n",
       "      <td>0.0</td>\n",
       "      <td>0.0</td>\n",
       "      <td>0.0</td>\n",
       "      <td>0.0</td>\n",
       "      <td>0.0</td>\n",
       "      <td>0.0</td>\n",
       "      <td>0.0</td>\n",
       "      <td>0.0</td>\n",
       "    </tr>\n",
       "    <tr>\n",
       "      <th>21622</th>\n",
       "      <td>0.0</td>\n",
       "      <td>1.0</td>\n",
       "      <td>0.0</td>\n",
       "      <td>0.0</td>\n",
       "      <td>0.0</td>\n",
       "      <td>0.0</td>\n",
       "      <td>0.0</td>\n",
       "      <td>1.0</td>\n",
       "      <td>0.0</td>\n",
       "      <td>0.0</td>\n",
       "      <td>...</td>\n",
       "      <td>0.0</td>\n",
       "      <td>0.0</td>\n",
       "      <td>0.0</td>\n",
       "      <td>0.0</td>\n",
       "      <td>0.0</td>\n",
       "      <td>0.0</td>\n",
       "      <td>1.0</td>\n",
       "      <td>0.0</td>\n",
       "      <td>0.0</td>\n",
       "      <td>0.0</td>\n",
       "    </tr>\n",
       "    <tr>\n",
       "      <th>26182</th>\n",
       "      <td>1.0</td>\n",
       "      <td>0.0</td>\n",
       "      <td>1.0</td>\n",
       "      <td>0.0</td>\n",
       "      <td>0.0</td>\n",
       "      <td>0.0</td>\n",
       "      <td>0.0</td>\n",
       "      <td>0.0</td>\n",
       "      <td>0.0</td>\n",
       "      <td>0.0</td>\n",
       "      <td>...</td>\n",
       "      <td>1.0</td>\n",
       "      <td>0.0</td>\n",
       "      <td>0.0</td>\n",
       "      <td>0.0</td>\n",
       "      <td>0.0</td>\n",
       "      <td>0.0</td>\n",
       "      <td>0.0</td>\n",
       "      <td>0.0</td>\n",
       "      <td>0.0</td>\n",
       "      <td>0.0</td>\n",
       "    </tr>\n",
       "    <tr>\n",
       "      <th>18681</th>\n",
       "      <td>0.0</td>\n",
       "      <td>0.0</td>\n",
       "      <td>0.0</td>\n",
       "      <td>1.0</td>\n",
       "      <td>0.0</td>\n",
       "      <td>0.0</td>\n",
       "      <td>0.0</td>\n",
       "      <td>1.0</td>\n",
       "      <td>0.0</td>\n",
       "      <td>0.0</td>\n",
       "      <td>...</td>\n",
       "      <td>0.0</td>\n",
       "      <td>0.0</td>\n",
       "      <td>0.0</td>\n",
       "      <td>0.0</td>\n",
       "      <td>0.0</td>\n",
       "      <td>0.0</td>\n",
       "      <td>0.0</td>\n",
       "      <td>0.0</td>\n",
       "      <td>0.0</td>\n",
       "      <td>0.0</td>\n",
       "    </tr>\n",
       "    <tr>\n",
       "      <th>...</th>\n",
       "      <td>...</td>\n",
       "      <td>...</td>\n",
       "      <td>...</td>\n",
       "      <td>...</td>\n",
       "      <td>...</td>\n",
       "      <td>...</td>\n",
       "      <td>...</td>\n",
       "      <td>...</td>\n",
       "      <td>...</td>\n",
       "      <td>...</td>\n",
       "      <td>...</td>\n",
       "      <td>...</td>\n",
       "      <td>...</td>\n",
       "      <td>...</td>\n",
       "      <td>...</td>\n",
       "      <td>...</td>\n",
       "      <td>...</td>\n",
       "      <td>...</td>\n",
       "      <td>...</td>\n",
       "      <td>...</td>\n",
       "      <td>...</td>\n",
       "    </tr>\n",
       "    <tr>\n",
       "      <th>31774</th>\n",
       "      <td>0.0</td>\n",
       "      <td>0.0</td>\n",
       "      <td>0.0</td>\n",
       "      <td>0.0</td>\n",
       "      <td>0.0</td>\n",
       "      <td>0.0</td>\n",
       "      <td>1.0</td>\n",
       "      <td>0.0</td>\n",
       "      <td>0.0</td>\n",
       "      <td>0.0</td>\n",
       "      <td>...</td>\n",
       "      <td>0.0</td>\n",
       "      <td>0.0</td>\n",
       "      <td>0.0</td>\n",
       "      <td>0.0</td>\n",
       "      <td>0.0</td>\n",
       "      <td>0.0</td>\n",
       "      <td>0.0</td>\n",
       "      <td>0.0</td>\n",
       "      <td>0.0</td>\n",
       "      <td>0.0</td>\n",
       "    </tr>\n",
       "    <tr>\n",
       "      <th>32458</th>\n",
       "      <td>0.0</td>\n",
       "      <td>1.0</td>\n",
       "      <td>0.0</td>\n",
       "      <td>0.0</td>\n",
       "      <td>1.0</td>\n",
       "      <td>0.0</td>\n",
       "      <td>0.0</td>\n",
       "      <td>1.0</td>\n",
       "      <td>0.0</td>\n",
       "      <td>0.0</td>\n",
       "      <td>...</td>\n",
       "      <td>0.0</td>\n",
       "      <td>0.0</td>\n",
       "      <td>0.0</td>\n",
       "      <td>0.0</td>\n",
       "      <td>0.0</td>\n",
       "      <td>0.0</td>\n",
       "      <td>0.0</td>\n",
       "      <td>0.0</td>\n",
       "      <td>0.0</td>\n",
       "      <td>0.0</td>\n",
       "    </tr>\n",
       "    <tr>\n",
       "      <th>30525</th>\n",
       "      <td>0.0</td>\n",
       "      <td>0.0</td>\n",
       "      <td>0.0</td>\n",
       "      <td>0.0</td>\n",
       "      <td>0.0</td>\n",
       "      <td>0.0</td>\n",
       "      <td>1.0</td>\n",
       "      <td>1.0</td>\n",
       "      <td>0.0</td>\n",
       "      <td>0.0</td>\n",
       "      <td>...</td>\n",
       "      <td>0.0</td>\n",
       "      <td>0.0</td>\n",
       "      <td>0.0</td>\n",
       "      <td>0.0</td>\n",
       "      <td>0.0</td>\n",
       "      <td>0.0</td>\n",
       "      <td>0.0</td>\n",
       "      <td>0.0</td>\n",
       "      <td>0.0</td>\n",
       "      <td>0.0</td>\n",
       "    </tr>\n",
       "    <tr>\n",
       "      <th>21388</th>\n",
       "      <td>0.0</td>\n",
       "      <td>0.0</td>\n",
       "      <td>0.0</td>\n",
       "      <td>0.0</td>\n",
       "      <td>0.0</td>\n",
       "      <td>0.0</td>\n",
       "      <td>1.0</td>\n",
       "      <td>1.0</td>\n",
       "      <td>0.0</td>\n",
       "      <td>0.0</td>\n",
       "      <td>...</td>\n",
       "      <td>0.0</td>\n",
       "      <td>0.0</td>\n",
       "      <td>0.0</td>\n",
       "      <td>0.0</td>\n",
       "      <td>0.0</td>\n",
       "      <td>0.0</td>\n",
       "      <td>0.0</td>\n",
       "      <td>0.0</td>\n",
       "      <td>0.0</td>\n",
       "      <td>0.0</td>\n",
       "    </tr>\n",
       "    <tr>\n",
       "      <th>23443</th>\n",
       "      <td>1.0</td>\n",
       "      <td>0.0</td>\n",
       "      <td>0.0</td>\n",
       "      <td>0.0</td>\n",
       "      <td>0.0</td>\n",
       "      <td>1.0</td>\n",
       "      <td>0.0</td>\n",
       "      <td>1.0</td>\n",
       "      <td>0.0</td>\n",
       "      <td>0.0</td>\n",
       "      <td>...</td>\n",
       "      <td>0.0</td>\n",
       "      <td>0.0</td>\n",
       "      <td>0.0</td>\n",
       "      <td>0.0</td>\n",
       "      <td>0.0</td>\n",
       "      <td>0.0</td>\n",
       "      <td>0.0</td>\n",
       "      <td>0.0</td>\n",
       "      <td>0.0</td>\n",
       "      <td>0.0</td>\n",
       "    </tr>\n",
       "  </tbody>\n",
       "</table>\n",
       "<p>13440 rows × 31 columns</p>\n",
       "</div>"
      ],
      "text/plain": [
       "            x0_Married_B  x0_Married_C  x1_Children  x1_Husband  \\\n",
       "CITIZEN_ID                                                        \n",
       "17935                1.0           0.0          0.0         0.0   \n",
       "21522                0.0           0.0          0.0         0.0   \n",
       "21622                0.0           1.0          0.0         0.0   \n",
       "26182                1.0           0.0          1.0         0.0   \n",
       "18681                0.0           0.0          0.0         1.0   \n",
       "...                  ...           ...          ...         ...   \n",
       "31774                0.0           0.0          0.0         0.0   \n",
       "32458                0.0           1.0          0.0         0.0   \n",
       "30525                0.0           0.0          0.0         0.0   \n",
       "21388                0.0           0.0          0.0         0.0   \n",
       "23443                1.0           0.0          0.0         0.0   \n",
       "\n",
       "            x1_Other Family  x1_Other relatives  x1_Wife  x2_Private Sector  \\\n",
       "CITIZEN_ID                                                                    \n",
       "17935                   1.0                 0.0      0.0                1.0   \n",
       "21522                   0.0                 0.0      1.0                1.0   \n",
       "21622                   0.0                 0.0      0.0                1.0   \n",
       "26182                   0.0                 0.0      0.0                0.0   \n",
       "18681                   0.0                 0.0      0.0                1.0   \n",
       "...                     ...                 ...      ...                ...   \n",
       "31774                   0.0                 0.0      1.0                0.0   \n",
       "32458                   1.0                 0.0      0.0                1.0   \n",
       "30525                   0.0                 0.0      1.0                1.0   \n",
       "21388                   0.0                 0.0      1.0                1.0   \n",
       "23443                   0.0                 1.0      0.0                1.0   \n",
       "\n",
       "            x2_Public Sector - Government  x2_Public Sector - Others  ...  \\\n",
       "CITIZEN_ID                                                            ...   \n",
       "17935                                 0.0                        0.0  ...   \n",
       "21522                                 0.0                        0.0  ...   \n",
       "21622                                 0.0                        0.0  ...   \n",
       "26182                                 0.0                        0.0  ...   \n",
       "18681                                 0.0                        0.0  ...   \n",
       "...                                   ...                        ...  ...   \n",
       "31774                                 0.0                        0.0  ...   \n",
       "32458                                 0.0                        0.0  ...   \n",
       "30525                                 0.0                        0.0  ...   \n",
       "21388                                 0.0                        0.0  ...   \n",
       "23443                                 0.0                        0.0  ...   \n",
       "\n",
       "            x3_Sales  x3_Security  x3_Transports  x4_A  x4_B  x4_C  x5_A  \\\n",
       "CITIZEN_ID                                                                 \n",
       "17935            1.0          0.0            0.0   0.0   0.0   0.0   0.0   \n",
       "21522            0.0          0.0            0.0   0.0   0.0   0.0   0.0   \n",
       "21622            0.0          0.0            0.0   0.0   0.0   0.0   1.0   \n",
       "26182            1.0          0.0            0.0   0.0   0.0   0.0   0.0   \n",
       "18681            0.0          0.0            0.0   0.0   0.0   0.0   0.0   \n",
       "...              ...          ...            ...   ...   ...   ...   ...   \n",
       "31774            0.0          0.0            0.0   0.0   0.0   0.0   0.0   \n",
       "32458            0.0          0.0            0.0   0.0   0.0   0.0   0.0   \n",
       "30525            0.0          0.0            0.0   0.0   0.0   0.0   0.0   \n",
       "21388            0.0          0.0            0.0   0.0   0.0   0.0   0.0   \n",
       "23443            0.0          0.0            0.0   0.0   0.0   0.0   0.0   \n",
       "\n",
       "            x5_B  x5_C  x5_D  \n",
       "CITIZEN_ID                    \n",
       "17935        0.0   0.0   0.0  \n",
       "21522        0.0   0.0   0.0  \n",
       "21622        0.0   0.0   0.0  \n",
       "26182        0.0   0.0   0.0  \n",
       "18681        0.0   0.0   0.0  \n",
       "...          ...   ...   ...  \n",
       "31774        0.0   0.0   0.0  \n",
       "32458        0.0   0.0   0.0  \n",
       "30525        0.0   0.0   0.0  \n",
       "21388        0.0   0.0   0.0  \n",
       "23443        0.0   0.0   0.0  \n",
       "\n",
       "[13440 rows x 31 columns]"
      ]
     },
     "execution_count": 147,
     "metadata": {},
     "output_type": "execute_result"
    }
   ],
   "source": [
    "ohc = OneHotEncoder(sparse=False, drop=\"first\")\n",
    "ohc_feat = ohc.fit_transform(df_ohc[non_metric_features])\n",
    "ohc_feat_names = ohc.get_feature_names()\n",
    "ohc_df = pd.DataFrame(ohc_feat, index=df_ohc.index, columns=ohc_feat_names)  \n",
    "ohc_df"
   ]
  },
  {
   "cell_type": "code",
   "execution_count": 148,
   "metadata": {},
   "outputs": [
    {
     "data": {
      "text/html": [
       "<div>\n",
       "<style scoped>\n",
       "    .dataframe tbody tr th:only-of-type {\n",
       "        vertical-align: middle;\n",
       "    }\n",
       "\n",
       "    .dataframe tbody tr th {\n",
       "        vertical-align: top;\n",
       "    }\n",
       "\n",
       "    .dataframe thead th {\n",
       "        text-align: right;\n",
       "    }\n",
       "</style>\n",
       "<table border=\"1\" class=\"dataframe\">\n",
       "  <thead>\n",
       "    <tr style=\"text-align: right;\">\n",
       "      <th></th>\n",
       "      <th>Gender</th>\n",
       "      <th>Age</th>\n",
       "      <th>Native Continent</th>\n",
       "      <th>Years of Education</th>\n",
       "      <th>Working Hours per week</th>\n",
       "      <th>Money Received</th>\n",
       "      <th>Ticket Price</th>\n",
       "      <th>x0_Married_B</th>\n",
       "      <th>x0_Married_C</th>\n",
       "      <th>x1_Children</th>\n",
       "      <th>...</th>\n",
       "      <th>x3_Security</th>\n",
       "      <th>x3_Transports</th>\n",
       "      <th>x4_A</th>\n",
       "      <th>x4_B</th>\n",
       "      <th>x4_C</th>\n",
       "      <th>x5_A</th>\n",
       "      <th>x5_B</th>\n",
       "      <th>x5_C</th>\n",
       "      <th>x5_D</th>\n",
       "      <th>Income</th>\n",
       "    </tr>\n",
       "    <tr>\n",
       "      <th>CITIZEN_ID</th>\n",
       "      <th></th>\n",
       "      <th></th>\n",
       "      <th></th>\n",
       "      <th></th>\n",
       "      <th></th>\n",
       "      <th></th>\n",
       "      <th></th>\n",
       "      <th></th>\n",
       "      <th></th>\n",
       "      <th></th>\n",
       "      <th></th>\n",
       "      <th></th>\n",
       "      <th></th>\n",
       "      <th></th>\n",
       "      <th></th>\n",
       "      <th></th>\n",
       "      <th></th>\n",
       "      <th></th>\n",
       "      <th></th>\n",
       "      <th></th>\n",
       "      <th></th>\n",
       "    </tr>\n",
       "  </thead>\n",
       "  <tbody>\n",
       "    <tr>\n",
       "      <th>17935</th>\n",
       "      <td>0</td>\n",
       "      <td>-1.364025</td>\n",
       "      <td>1</td>\n",
       "      <td>-0.073183</td>\n",
       "      <td>-0.019771</td>\n",
       "      <td>-0.144598</td>\n",
       "      <td>-0.216172</td>\n",
       "      <td>1.0</td>\n",
       "      <td>0.0</td>\n",
       "      <td>0.0</td>\n",
       "      <td>...</td>\n",
       "      <td>0.0</td>\n",
       "      <td>0.0</td>\n",
       "      <td>0.0</td>\n",
       "      <td>0.0</td>\n",
       "      <td>0.0</td>\n",
       "      <td>0.0</td>\n",
       "      <td>0.0</td>\n",
       "      <td>0.0</td>\n",
       "      <td>0.0</td>\n",
       "      <td>0</td>\n",
       "    </tr>\n",
       "    <tr>\n",
       "      <th>21522</th>\n",
       "      <td>1</td>\n",
       "      <td>0.388025</td>\n",
       "      <td>1</td>\n",
       "      <td>-0.471880</td>\n",
       "      <td>0.066030</td>\n",
       "      <td>-0.144598</td>\n",
       "      <td>-0.216172</td>\n",
       "      <td>0.0</td>\n",
       "      <td>0.0</td>\n",
       "      <td>0.0</td>\n",
       "      <td>...</td>\n",
       "      <td>0.0</td>\n",
       "      <td>0.0</td>\n",
       "      <td>0.0</td>\n",
       "      <td>0.0</td>\n",
       "      <td>0.0</td>\n",
       "      <td>0.0</td>\n",
       "      <td>0.0</td>\n",
       "      <td>0.0</td>\n",
       "      <td>0.0</td>\n",
       "      <td>0</td>\n",
       "    </tr>\n",
       "    <tr>\n",
       "      <th>21622</th>\n",
       "      <td>0</td>\n",
       "      <td>1.337052</td>\n",
       "      <td>1</td>\n",
       "      <td>-0.073183</td>\n",
       "      <td>-0.191373</td>\n",
       "      <td>-0.144598</td>\n",
       "      <td>5.414650</td>\n",
       "      <td>0.0</td>\n",
       "      <td>1.0</td>\n",
       "      <td>0.0</td>\n",
       "      <td>...</td>\n",
       "      <td>0.0</td>\n",
       "      <td>0.0</td>\n",
       "      <td>0.0</td>\n",
       "      <td>0.0</td>\n",
       "      <td>0.0</td>\n",
       "      <td>1.0</td>\n",
       "      <td>0.0</td>\n",
       "      <td>0.0</td>\n",
       "      <td>0.0</td>\n",
       "      <td>1</td>\n",
       "    </tr>\n",
       "    <tr>\n",
       "      <th>26182</th>\n",
       "      <td>0</td>\n",
       "      <td>0.315022</td>\n",
       "      <td>1</td>\n",
       "      <td>-1.667969</td>\n",
       "      <td>0.323433</td>\n",
       "      <td>-0.144598</td>\n",
       "      <td>-0.216172</td>\n",
       "      <td>1.0</td>\n",
       "      <td>0.0</td>\n",
       "      <td>1.0</td>\n",
       "      <td>...</td>\n",
       "      <td>0.0</td>\n",
       "      <td>0.0</td>\n",
       "      <td>0.0</td>\n",
       "      <td>0.0</td>\n",
       "      <td>0.0</td>\n",
       "      <td>0.0</td>\n",
       "      <td>0.0</td>\n",
       "      <td>0.0</td>\n",
       "      <td>0.0</td>\n",
       "      <td>0</td>\n",
       "    </tr>\n",
       "    <tr>\n",
       "      <th>18681</th>\n",
       "      <td>0</td>\n",
       "      <td>-0.049988</td>\n",
       "      <td>1</td>\n",
       "      <td>-0.471880</td>\n",
       "      <td>1.696249</td>\n",
       "      <td>-0.144598</td>\n",
       "      <td>-0.216172</td>\n",
       "      <td>0.0</td>\n",
       "      <td>0.0</td>\n",
       "      <td>0.0</td>\n",
       "      <td>...</td>\n",
       "      <td>0.0</td>\n",
       "      <td>0.0</td>\n",
       "      <td>0.0</td>\n",
       "      <td>0.0</td>\n",
       "      <td>0.0</td>\n",
       "      <td>0.0</td>\n",
       "      <td>0.0</td>\n",
       "      <td>0.0</td>\n",
       "      <td>0.0</td>\n",
       "      <td>1</td>\n",
       "    </tr>\n",
       "  </tbody>\n",
       "</table>\n",
       "<p>5 rows × 39 columns</p>\n",
       "</div>"
      ],
      "text/plain": [
       "            Gender       Age Native Continent  Years of Education  \\\n",
       "CITIZEN_ID                                                          \n",
       "17935            0 -1.364025                1           -0.073183   \n",
       "21522            1  0.388025                1           -0.471880   \n",
       "21622            0  1.337052                1           -0.073183   \n",
       "26182            0  0.315022                1           -1.667969   \n",
       "18681            0 -0.049988                1           -0.471880   \n",
       "\n",
       "            Working Hours per week  Money Received  Ticket Price  \\\n",
       "CITIZEN_ID                                                         \n",
       "17935                    -0.019771       -0.144598     -0.216172   \n",
       "21522                     0.066030       -0.144598     -0.216172   \n",
       "21622                    -0.191373       -0.144598      5.414650   \n",
       "26182                     0.323433       -0.144598     -0.216172   \n",
       "18681                     1.696249       -0.144598     -0.216172   \n",
       "\n",
       "            x0_Married_B  x0_Married_C  x1_Children  ...  x3_Security  \\\n",
       "CITIZEN_ID                                           ...                \n",
       "17935                1.0           0.0          0.0  ...          0.0   \n",
       "21522                0.0           0.0          0.0  ...          0.0   \n",
       "21622                0.0           1.0          0.0  ...          0.0   \n",
       "26182                1.0           0.0          1.0  ...          0.0   \n",
       "18681                0.0           0.0          0.0  ...          0.0   \n",
       "\n",
       "            x3_Transports  x4_A  x4_B  x4_C  x5_A  x5_B  x5_C  x5_D  Income  \n",
       "CITIZEN_ID                                                                   \n",
       "17935                 0.0   0.0   0.0   0.0   0.0   0.0   0.0   0.0       0  \n",
       "21522                 0.0   0.0   0.0   0.0   0.0   0.0   0.0   0.0       0  \n",
       "21622                 0.0   0.0   0.0   0.0   1.0   0.0   0.0   0.0       1  \n",
       "26182                 0.0   0.0   0.0   0.0   0.0   0.0   0.0   0.0       0  \n",
       "18681                 0.0   0.0   0.0   0.0   0.0   0.0   0.0   0.0       1  \n",
       "\n",
       "[5 rows x 39 columns]"
      ]
     },
     "execution_count": 148,
     "metadata": {},
     "output_type": "execute_result"
    }
   ],
   "source": [
    "# Reassigning df to contain ohc variables\n",
    "df_ohc = pd.concat([df_ohc.drop(columns=non_metric_features), ohc_df], axis=1)\n",
    "df_ohc = pd.concat([df_ohc.drop(\"Income\",axis=1), df_ohc[\"Income\"]],axis=1) #Income in last position\n",
    "df_ohc.head()"
   ]
  },
  {
   "cell_type": "code",
   "execution_count": 149,
   "metadata": {},
   "outputs": [],
   "source": [
    "X_train = df_ohc.iloc[:,:-1].copy()\n",
    "y_train = df_ohc.iloc[:,-1].copy()"
   ]
  },
  {
   "cell_type": "code",
   "execution_count": 152,
   "metadata": {},
   "outputs": [
    {
     "data": {
      "text/plain": [
       "0    10253\n",
       "1     3187\n",
       "Name: Income, dtype: int64"
      ]
     },
     "execution_count": 152,
     "metadata": {},
     "output_type": "execute_result"
    }
   ],
   "source": [
    "y_train.value_counts()"
   ]
  },
  {
   "cell_type": "markdown",
   "metadata": {},
   "source": [
    "# 8. Getting a Balanced Train data <a class=\"anchor\" id=\"8\"></a>\n",
    "\n",
    "* #### Although in our final model we decided to train our model in the originally unbalanced data set because of its better performance, we will use this X_train_balanced and y_train_balanced to compare the results"
   ]
  },
  {
   "cell_type": "code",
   "execution_count": null,
   "metadata": {},
   "outputs": [],
   "source": [
    "import imblearn\n",
    "print(imblearn.__version__)\n",
    "from numpy import mean\n",
    "from numpy import std\n",
    "from pandas import read_csv\n",
    "from matplotlib import pyplot\n",
    "from sklearn.model_selection import cross_val_score\n",
    "from sklearn.model_selection import RepeatedStratifiedKFold\n",
    "from imblearn.metrics import geometric_mean_score\n",
    "from sklearn.metrics import make_scorer\n",
    "from imblearn.over_sampling import RandomOverSampler\n",
    "from imblearn.over_sampling import SMOTE\n",
    "from imblearn.over_sampling import BorderlineSMOTE\n",
    "from imblearn.over_sampling import SVMSMOTE\n",
    "from imblearn.over_sampling import ADASYN\n",
    "from imblearn.pipeline import Pipeline\n",
    "from sklearn.ensemble import GradientBoostingClassifier\n",
    "\n",
    "from collections import Counter"
   ]
  },
  {
   "cell_type": "code",
   "execution_count": null,
   "metadata": {},
   "outputs": [],
   "source": [
    "sm = SVMSMOTE(sampling_strategy='auto')\n",
    "X_train_balanced, y_train_balanced = sm.fit_resample(X_train, y_train)\n",
    "print('Resampled dataset shape %s' % Counter(y_train_balanced))"
   ]
  },
  {
   "cell_type": "markdown",
   "metadata": {},
   "source": [
    "# 9. Feature Selection <a class=\"anchor\" id=\"9\"></a>"
   ]
  },
  {
   "cell_type": "markdown",
   "metadata": {},
   "source": [
    "### 9.1. Feature Selection - Metric Features <a class=\"anchor\" id=\"9.1\"></a>"
   ]
  },
  {
   "cell_type": "code",
   "execution_count": null,
   "metadata": {
    "scrolled": true
   },
   "outputs": [],
   "source": [
    "metric_features = [\"Age\",\"Years of Education\",\"Working Hours per week\",\"Money Received\", \"Ticket Price\"]"
   ]
  },
  {
   "cell_type": "code",
   "execution_count": null,
   "metadata": {},
   "outputs": [],
   "source": [
    "data = df_scaled[metric_features]\n",
    "target = df_scaled[\"Income\"]"
   ]
  },
  {
   "cell_type": "code",
   "execution_count": null,
   "metadata": {},
   "outputs": [],
   "source": [
    "#no of features\n",
    "nof_list=np.arange(1,6)            \n",
    "high_score=0\n",
    "#Variable to store the optimum features\n",
    "nof=0           \n",
    "score_list =[]\n",
    "for n in range(len(nof_list)):\n",
    "    \n",
    "    X_train1, X_test1, y_train1, y_test1 = train_test_split(data,target, test_size = 0.3, random_state = 0, stratify = target)\n",
    "    \n",
    "    model = LogisticRegression()\n",
    "    rfe = RFE(model,nof_list[n])\n",
    "    X_train_rfe = rfe.fit_transform(X_train1,y_train1)\n",
    "    X_test_rfe = rfe.transform(X_test1)\n",
    "    model.fit(X_train_rfe,y_train1)\n",
    "    y_pred = model.predict(X_test_rfe)\n",
    "    \n",
    "    score = f1_score(y_test1, y_pred, average='micro')\n",
    "    score_list.append(score)\n",
    "    \n",
    "    if(score>high_score):\n",
    "        high_score = score\n",
    "        nof = nof_list[n]\n",
    "print(\"Optimum number of features: %d\" %nof)\n",
    "print(\"Score with %d features: %f\" % (nof, high_score))"
   ]
  },
  {
   "cell_type": "markdown",
   "metadata": {},
   "source": [
    "### 9.2. Feature Selection - Categorical Features <a class=\"anchor\" id=\"9.2\"></a>"
   ]
  },
  {
   "cell_type": "code",
   "execution_count": null,
   "metadata": {},
   "outputs": [],
   "source": [
    "categorical_features_income = [\"Gender\",\"Native Continent\",\"Marital Status\",\"Lives with\", \"Employment Sector\", \"Role\", \"Money_category\",\"Ticket_category\",\"Income\"]\n",
    "categorical_features = [\"Gender\",\"Native Continent\",\"Marital Status\",\"Lives with\", \"Employment Sector\", \"Role\", \"Money_category\",\"Ticket_category\"]"
   ]
  },
  {
   "cell_type": "code",
   "execution_count": null,
   "metadata": {},
   "outputs": [],
   "source": [
    "df_cffs=df_scaled[categorical_features_income].astype(object).copy()\n",
    "df_cffs"
   ]
  },
  {
   "cell_type": "code",
   "execution_count": null,
   "metadata": {},
   "outputs": [],
   "source": [
    "chi2_check = []\n",
    "for feature in categorical_features:\n",
    "    if chi2_contingency(pd.crosstab(df_cffs['Income'], df_cffs[feature]))[1] < 0.05:\n",
    "        chi2_check.append('Important Feature')\n",
    "    else:\n",
    "        chi2_check.append('Not an Important Feature')\n",
    "res = pd.DataFrame(data = [categorical_features, chi2_check] \n",
    "             ).T \n",
    "res.columns = ['Column', 'Feature Importance']\n",
    "res"
   ]
  },
  {
   "cell_type": "markdown",
   "metadata": {},
   "source": [
    "Checking which categories are important:"
   ]
  },
  {
   "cell_type": "code",
   "execution_count": null,
   "metadata": {},
   "outputs": [],
   "source": [
    "check = {}\n",
    "for i in res[res['Feature Importance'] == 'Important Feature']['Column']:\n",
    "    dummies = pd.get_dummies(df_cffs[i])\n",
    "    bon_p_value = 0.05/df_cffs[i].nunique()\n",
    "    for series in dummies:\n",
    "        if chi2_contingency(pd.crosstab(df_cffs['Income'], dummies[series]))[1] < bon_p_value:\n",
    "            check['{}-{}'.format(i, series)] = 'Keep Feature'\n",
    "        else:\n",
    "            check['{}-{}'.format(i, series)] = 'Fail to Reject Null Hypothesis - Not Important'\n",
    "res_chi_ph = pd.DataFrame(data = [check.keys(), check.values()]).T\n",
    "res_chi_ph.columns = ['Pair', 'Hypothesis']\n",
    "res_chi_ph"
   ]
  },
  {
   "cell_type": "markdown",
   "metadata": {},
   "source": [
    "### 9.3. Feature Selection - All features (one-hot encoded categorical features) <a class=\"anchor\" id=\"9.3\"></a>"
   ]
  },
  {
   "cell_type": "code",
   "execution_count": null,
   "metadata": {},
   "outputs": [],
   "source": [
    "X_train = df_ohc.iloc[:,:-1].copy()\n",
    "y_train = df_ohc.iloc[:,-1].copy()"
   ]
  },
  {
   "cell_type": "code",
   "execution_count": null,
   "metadata": {},
   "outputs": [],
   "source": [
    "sel1 = SelectFromModel(RandomForestClassifier(n_estimators = 300),threshold = 0.01)\n",
    "sel2 = SelectFromModel(GradientBoostingClassifier(n_estimators=300), threshold = 0.01)\n",
    "sel1.fit(X_train,y_train)\n",
    "sel2.fit(X_train,y_train)"
   ]
  },
  {
   "cell_type": "code",
   "execution_count": null,
   "metadata": {},
   "outputs": [],
   "source": [
    "selected_feat_RFC= X_train.columns[(sel1.get_support())]\n",
    "selected_feat_GBC= X_train.columns[(sel2.get_support())]"
   ]
  },
  {
   "cell_type": "code",
   "execution_count": null,
   "metadata": {},
   "outputs": [],
   "source": [
    "print(\"Selected features with RFC and threshold = 0.01: \\n\")\n",
    "for i in selected_feat_RFC: print(i,\";\",sep='', end=' ')"
   ]
  },
  {
   "cell_type": "code",
   "execution_count": null,
   "metadata": {},
   "outputs": [],
   "source": [
    "print(\"Selected features with GBC and threshold = 0.01: \\n\")\n",
    "for i in selected_feat_GBC: print(i,\";\",sep='', end=' ')"
   ]
  },
  {
   "cell_type": "code",
   "execution_count": null,
   "metadata": {},
   "outputs": [],
   "source": [
    "def plot_importance(coef,name):\n",
    "    imp_coef = coef.sort_values()\n",
    "    plt.figure(figsize=(8,10))\n",
    "    imp_coef.plot(kind = \"barh\")\n",
    "    plt.title(\"Feature importance using \" + name + \" Model\")\n",
    "    plt.show()"
   ]
  },
  {
   "cell_type": "code",
   "execution_count": null,
   "metadata": {},
   "outputs": [],
   "source": [
    "selected_features = [\"Age\",\"Years of Education\",\"Working Hours per week\",\"Money Received\",\"Ticket Price\",\"Gender\",\n",
    "                     \"Native Continent\",\"x0_Married_B\",\"x0_Married_C\",\"x1_Husband\",\"x1_Wife\",\"x1_Other Family\",\n",
    "                     \"x2_Private Sector\",\"x2_Self-Employed (Individual)\",\"x3_Professor\",\"x3_Management\",\"x3_Other services\",\"x4_A\"]"
   ]
  },
  {
   "cell_type": "code",
   "execution_count": null,
   "metadata": {},
   "outputs": [],
   "source": [
    "X_train[selected_features]"
   ]
  },
  {
   "cell_type": "code",
   "execution_count": null,
   "metadata": {
    "scrolled": false
   },
   "outputs": [],
   "source": [
    "clf = RandomForestClassifier(n_estimators = 300)\n",
    "\n",
    "clf.fit(X_train, y_train)\n",
    "\n",
    "# Checking the attribute gini importance\n",
    "gini_importance = clf.feature_importances_\n",
    "zippy = pd.DataFrame(gini_importance, columns =['gini'])\n",
    "zippy['col'] = X_train.columns\n",
    "tidy = zippy.melt(id_vars='col').rename(columns=str.title)\n",
    "tidy.sort_values(['Value'], ascending = False, inplace = True)\n",
    "\n",
    "\n",
    "# Plotting\n",
    "sns.set(style=\"whitegrid\", color_codes=True)\n",
    "pal = sns.color_palette(\"Greens_d\", len(data))\n",
    "plt.figure(figsize=(15,10))\n",
    "sns.barplot(y='Col', x='Value', hue='Variable', data=tidy, palette=np.array(pal[::-10]))\n",
    "plt.axvline(x=0.01, color='green', linestyle=(0,(5,5)))"
   ]
  },
  {
   "cell_type": "code",
   "execution_count": null,
   "metadata": {
    "scrolled": false
   },
   "outputs": [],
   "source": [
    "clf = GradientBoostingClassifier(n_estimators = 300)\n",
    "\n",
    "clf.fit(X_train, y_train)\n",
    "\n",
    "# Checking the attribute gini importance\n",
    "gini_importance = clf.feature_importances_\n",
    "zippy = pd.DataFrame(gini_importance, columns =['gini'])\n",
    "zippy['col'] = X_train.columns\n",
    "tidy = zippy.melt(id_vars='col').rename(columns=str.title)\n",
    "tidy.sort_values(['Value'], ascending = False, inplace = True)\n",
    "\n",
    "# Plotting\n",
    "plt.figure(figsize=(15,10))\n",
    "sns.barplot(y='Col', x='Value', hue='Variable', data=tidy, palette=np.array(pal[::-10]))\n",
    "plt.axvline(x=0.01, color='green', linestyle=(0,(5,5)))"
   ]
  },
  {
   "cell_type": "markdown",
   "metadata": {},
   "source": [
    "# 10. Adjustment of the Validation and Test data sets <a class=\"anchor\" id=\"10\"></a>\n",
    "Applying the changes made on the train data set to the validation and test data sets"
   ]
  },
  {
   "cell_type": "markdown",
   "metadata": {},
   "source": [
    "#### Variables that our train data set contains:"
   ]
  },
  {
   "cell_type": "code",
   "execution_count": null,
   "metadata": {},
   "outputs": [],
   "source": [
    "X_train.columns"
   ]
  },
  {
   "cell_type": "markdown",
   "metadata": {},
   "source": [
    "#### Some functions to adjust our dataframes:"
   ]
  },
  {
   "cell_type": "code",
   "execution_count": null,
   "metadata": {},
   "outputs": [],
   "source": [
    "def change_df(dff):\n",
    "    \n",
    "    dataframe=dff.copy()\n",
    "    \n",
    "    dataframe.replace('?', np.nan, inplace=True)\n",
    "    \n",
    "    #Gender:\n",
    "    gender = dataframe[\"Name\"].str.split(' ',expand=True, n=1)[0]\n",
    "    gender = gender.map(lambda x: 1 if x=='Mr.' else 0) #1 for Male, 0 for Female\n",
    "    dataframe.insert(2, \"Gender\", gender)\n",
    "    \n",
    "    #Age:\n",
    "    Age = 2048 - dataframe[\"Birthday\"].str.split(\",\",expand=True)[1].astype(int)\n",
    "    dataframe.insert(3, \"Age\", Age)\n",
    "    \n",
    "    #Marital Binary\n",
    "    dataframe[\"Marital Status\"] = dataframe[\"Marital Status\"].map(lambda x: \"Married_A\" if (x=='Married') |(x=='Married - Spouse Missing') else \n",
    "                                               \"Married_B\" if (x=='Single') else 'Married_C')\n",
    "    \n",
    "    #Native Continent\n",
    "    dataframe[\"Native Continent\"] = dataframe[\"Native Continent\"].map(lambda x: \"1\" if x=='Europe' or x=='Asia' else \"0\")\n",
    "    \n",
    "    #Base Area\n",
    "    dataframe = dataframe.drop('Base Area',axis=1)\n",
    "    \n",
    "    #Education Level\n",
    "    dataframe = dataframe.drop(\"Education Level\",axis=1)\n",
    "   \n",
    "    #Role and Education Level\n",
    "    dataframe[\"Role\"] = dataframe.apply(lambda x: \"Never Worked\" if x[\"Employment Sector\"]==\"Never Worked\" else x[\"Role\"], axis=1)\n",
    "    dataframe[\"Employment Sector\"] = dataframe['Employment Sector'].map(lambda x: \"No work\" if (x==\"Never Worked\") | (x==\"Unemployed\") else \"Private Sector\" if (x==\"Private Sector - Others\") | (x==\"Private Sector - Services \") else x).rename(\"Employment_Sector\")\n",
    "    dataframe[\"Role\"] = dataframe[\"Role\"].map(lambda x: \"HS&NW\" if (x==\"Household Services\") | (x==\"Never Worked\") else x)\n",
    "    \n",
    "    #Working hours per week\n",
    "    dataframe['Working Hours per week'] = dataframe['Working Hours per week'].map(lambda x: 70 if x > 70 else x)\n",
    "    \n",
    "    #Money received and Ticket Price\n",
    "    money_category = pd.Series(dataframe[\"Money Received\"].map(lambda x: '0' if x==0 else \"C\" if 0<x<=4196 \n",
    "                                                          else \"B\" if 4196 < x <= 8977 else \"A\"), name='money_category')\n",
    "    dataframe[\"Money_category\"]=money_category\n",
    "    \n",
    "    ticketprice_category = pd.Series(dataframe[\"Ticket Price\"].map(lambda x: '0' if x==0 else \"D\" if 0<x<=2114 else \"C\" if 2114<x<=2321\n",
    "                                                            else \"B\" if 2321<x<=2432 else \"A\"), name = \"tp_category\" )\n",
    "    dataframe[\"Ticket_category\"]=ticketprice_category\n",
    "    \n",
    "    dataframe = dataframe.drop([\"Name\",\"Birthday\"],axis=1)\n",
    "    \n",
    "    return dataframe"
   ]
  },
  {
   "cell_type": "code",
   "execution_count": null,
   "metadata": {},
   "outputs": [],
   "source": [
    "def scale(df):\n",
    "    \n",
    "    df_scaled = df.copy()\n",
    "    metric_features = [\"Age\",\"Years of Education\", \"Working Hours per week\",\"Money Received\",\"Ticket Price\"]\n",
    "    scaled_feat = scaler.transform(df_scaled[metric_features])\n",
    "    df_scaled[metric_features] = scaled_feat\n",
    "    \n",
    "    return df_scaled"
   ]
  },
  {
   "cell_type": "code",
   "execution_count": null,
   "metadata": {},
   "outputs": [],
   "source": [
    "def CategoricalKNNImputer(dataframe):\n",
    "    \n",
    "    df_imputed = dataframe.copy()\n",
    "    \n",
    "    metric_features = [\"Age\",\"Years of Education\", \"Working Hours per week\",\"Money Received\",\"Ticket Price\"]\n",
    "    distance_matrix = pd.DataFrame(squareform(pdist(df_imputed[metric_features])), columns=df_imputed.index, index=df_imputed.index)\n",
    "    idxnan = df_imputed[df_imputed[[\"Role\",\"Employment Sector\"]].isna().any(axis=1)].index\n",
    "    dmatrix_mvalues = distance_matrix[idxnan].T\n",
    "    notnanid = [i for i in dmatrix_mvalues.columns.to_list() if i not in dmatrix_mvalues.index.to_list()]\n",
    "    dmatrix_mvalues = dmatrix_mvalues[notnanid]\n",
    "    NN = pd.Series( data = [dmatrix_mvalues.iloc[i,:].sort_values().head(5).index.to_list() for i in range(len(dmatrix_mvalues))], index=dmatrix_mvalues.index)\n",
    "    \n",
    "    df_imputed_T = df_imputed.T.copy()\n",
    "    imputed_employment = pd.Series([df_imputed_T[NN[i]].T[\"Employment Sector\"].mode()[0] for i in NN.index], index=NN.index)\n",
    "    imputed_role = pd.Series([df_imputed_T[NN[i]].T[\"Role\"].mode()[0] for i in NN.index], index=NN.index)\n",
    "    \n",
    "    df_imputed.replace(np.nan, '?', inplace=True)\n",
    "    \n",
    "    df_imputed[\"Employment Sector\"] = df_imputed.apply(lambda x: imputed_employment[x.name] if x[\"Employment Sector\"]==\"?\" else x[\"Employment Sector\"], axis=1)\n",
    "    df_imputed[\"Role\"] = df_imputed.apply(lambda x: imputed_role[x.name] if x[\"Role\"]==\"?\" else x[\"Role\"], axis=1)\n",
    "    \n",
    "    return df_imputed"
   ]
  },
  {
   "cell_type": "code",
   "execution_count": null,
   "metadata": {},
   "outputs": [],
   "source": [
    "# OHE\n",
    "def ohe(df):\n",
    "    df_ohc = df.copy()\n",
    "    non_metric_features = [\"Marital Status\",\"Lives with\", \"Employment Sector\", \"Role\", \"Money_category\",\"Ticket_category\"]\n",
    "    ohc = OneHotEncoder(sparse=False, drop=\"first\")\n",
    "    ohc_feat = ohc.fit_transform(df_ohc[non_metric_features])\n",
    "    ohc_feat_names = ohc.get_feature_names()\n",
    "    ohc_df = pd.DataFrame(ohc_feat, index=df_ohc.index, columns=ohc_feat_names)\n",
    "    df_ohc = pd.concat([df_ohc.drop(columns=non_metric_features), ohc_df], axis=1)\n",
    "    return df_ohc"
   ]
  },
  {
   "cell_type": "markdown",
   "metadata": {},
   "source": [
    "Performing the changes on X_val:"
   ]
  },
  {
   "cell_type": "code",
   "execution_count": null,
   "metadata": {},
   "outputs": [],
   "source": [
    "X_val_backup = X_val.copy()"
   ]
  },
  {
   "cell_type": "code",
   "execution_count": null,
   "metadata": {},
   "outputs": [],
   "source": [
    "X_val = change_df(X_val)\n",
    "X_val = scale(X_val)\n",
    "X_val = CategoricalKNNImputer(X_val)\n",
    "X_val = ohe(X_val)"
   ]
  },
  {
   "cell_type": "code",
   "execution_count": null,
   "metadata": {},
   "outputs": [],
   "source": [
    "X_val = X_val.drop(\"x3_Army\",axis=1)"
   ]
  },
  {
   "cell_type": "code",
   "execution_count": null,
   "metadata": {
    "scrolled": true
   },
   "outputs": [],
   "source": [
    "X_val"
   ]
  },
  {
   "cell_type": "markdown",
   "metadata": {},
   "source": [
    "Performing the changes on X_test"
   ]
  },
  {
   "cell_type": "code",
   "execution_count": null,
   "metadata": {},
   "outputs": [],
   "source": [
    "X_test=change_df(X_test)\n",
    "X_test=scale(X_test)\n",
    "X_test=CategoricalKNNImputer(X_test)\n",
    "X_test=ohe(X_test)\n",
    "X_test.drop(columns=['x3_Army'], inplace=True)\n",
    "X_test.head()"
   ]
  },
  {
   "cell_type": "markdown",
   "metadata": {},
   "source": [
    "# 11. Models <a class=\"anchor\" id=\"11\"></a>"
   ]
  },
  {
   "cell_type": "markdown",
   "metadata": {},
   "source": [
    "Scoring Function"
   ]
  },
  {
   "cell_type": "code",
   "execution_count": null,
   "metadata": {},
   "outputs": [],
   "source": [
    "def score(y_val,y_pred):\n",
    "    print('Micro f1 score:', f1_score(y_val, y_pred, average='micro'))\n",
    "    print('\\nResults on the data set:')\n",
    "    print(classification_report(y_true = y_val, y_pred = y_pred))"
   ]
  },
  {
   "cell_type": "markdown",
   "metadata": {},
   "source": [
    "## <font color='red'> 11.1. Final Model <a class=\"anchor\" id=\"11.1\"></a>\n",
    "\n",
    "#### StackingClassifier \n",
    "\n",
    "Score on Kaggle: 0.86963"
   ]
  },
  {
   "cell_type": "code",
   "execution_count": null,
   "metadata": {},
   "outputs": [],
   "source": [
    "# Classifiers used as estimators:\n",
    "clf1 = GradientBoostingClassifier(max_depth=3,min_samples_leaf=10,n_estimators=300,subsample=0.8,random_state=10)\n",
    "clf2 = GradientBoostingClassifier(random_state = 0, n_estimators = 310)\n",
    "clf3 = HistGradientBoostingClassifier(random_state=0)\n",
    "\n",
    "estimators = [('clf1', clf1),('clf2', clf2),('clf3', clf3)]\n",
    "clf = StackingClassifier(estimators=estimators, final_estimator=LogisticRegression(),n_jobs=-1)\n",
    "\n",
    "print('-----Performance on the Train and Validation data sets-------')\n",
    "print('3-fold cross validation:\\n')\n",
    "for cl, label in zip([clf1, clf2, clf3, clf], \n",
    "                      ['clf1 - GradientBoostingClassifier', \n",
    "                       'clf2 - GradientBoostingClassifier', \n",
    "                       'clf3 - HistGradientBoostingClassifier',\n",
    "                       'StackingClassifier with the classifiers above']):\n",
    "\n",
    "    scores = model_selection.cross_val_score(cl, X_train, y_train, \n",
    "                                              cv=3, scoring='f1_micro')\n",
    "    print(\"Score on train: %0.5f (+/- %0.2f) [%s]\" \n",
    "          % (scores.mean(), scores.std(), label))\n",
    "\n",
    "#score on the validation\n",
    "clf.fit(X_train, y_train)\n",
    "y_pred = clf.predict(X_val)\n",
    "score(y_val,y_pred)\n",
    "\n",
    "y_pred = clf.predict(X_test)\n",
    "print('\\n\\n-----Performance on the Test data set-------')\n",
    "score(y_test,y_pred)"
   ]
  },
  {
   "cell_type": "markdown",
   "metadata": {},
   "source": [
    "##  11.2. Testing other Models <a class=\"anchor\" id=\"11.2\"></a>"
   ]
  },
  {
   "cell_type": "code",
   "execution_count": null,
   "metadata": {},
   "outputs": [],
   "source": [
    "# # Randomized Search on GradientBoostingClassifier\n",
    "# param_dist = {'n_estimators':sp_randint(200,350),'min_samples_leaf':sp_randint(1,13),'max_depth':range(2,8,1),\n",
    "#  'learning_rate' : [0.5,0.6,0.7,0.8,0.9,1,1.1,1.2,1.3,1.4,1.5],'min_samples_split':sp_randint(2,20),'subsample':[0.7,0.8,0.9,1]}\n",
    "# pre_gs_inst = RandomizedSearchCV(GradientBoostingClassifier(),param_distributions = param_dist,cv=3,n_iter = 200, n_jobs=-1,\n",
    "#                                  scoring='f1_micro')\n",
    "\n",
    "# pre_gs_inst.fit(X_train, y_train)\n",
    "\n",
    "# pre_gs_inst.best_params_\n",
    "\n",
    "# # Grid search on GradientBoostingClassifier\n",
    "# param_test1 = {'n_estimators':range(100,310,10),'max_depth':range(2,8,1),'min_samples_split':range(2,20,2), \n",
    "#                'max_features':['sqrt', 'log2'],'min_samples_leaf':range(1,10,1), 'subsample':[0.5,0.6,0.7,0.8,0.9]}\n",
    "# gsearch1 = GridSearchCV(estimator = GradientBoostingClassifier(random_state=10), param_grid = param_test1, \n",
    "#                         scoring='f1_micro',n_jobs=4,iid=False, cv=5)\n",
    "# gsearch1.fit(X_train, y_train)\n",
    "\n",
    "# # RandomizedSearchCV on AdaBoostClassifier\n",
    "# param_dist = {\n",
    "#  'n_estimators': sp_randint(175, 240),'learning_rate' : [0.01,0.05,0.1,0.3,0.5,0.7,1,1.1,1.2,1.3,1.4,1.5,1.6]}\n",
    "\n",
    "# pre_gs_inst = RandomizedSearchCV(AdaBoostClassifier(),param_distributions = param_dist,cv=5,n_iter = 200,n_jobs=-1,\n",
    "#                                  scoring='f1_micro')\n",
    "# pre_gs_inst.fit(X_train, y_train)\n",
    "# pre_gs_inst.best_params_\n",
    "\n",
    "# # Grid search on AdaBoostClassifier\n",
    "# param_test2 = {'n_estimators':range(100,310,10),  'learning_rate' : [1.1,1.2,1.3,1.4,1.5,1.6]}\n",
    "# gsearch2 = GridSearchCV(estimator = AdaBoostClassifier(), param_grid = param_test2, scoring='f1_micro',n_jobs=4,iid=False, cv=5)\n",
    "# gsearch2.fit(X_train, y_train)\n",
    "\n",
    "# # RandomizedSearchCV on HistGradientBoostingClassifier\n",
    "# param_dist = {'min_samples_leaf':sp_randint(1,6),'max_depth':range(2,8,1),\n",
    "#               'learning_rate' : [0.5,0.6,0.7,0.8,0.9,1,1.1,1.2,1.3,1.4,1.5],'max_iter':sp_randint(80,120)}\n",
    "\n",
    "# pre_gs_inst = RandomizedSearchCV(HistGradientBoostingClassifier(),param_distributions = param_dist,cv=5,\n",
    "#  n_iter = 200,n_jobs=-1,scoring='f1_micro')\n",
    "# pre_gs_inst.fit(X_train, y_train)\n",
    "# pre_gs_inst.best_params_"
   ]
  },
  {
   "cell_type": "markdown",
   "metadata": {},
   "source": [
    "### 11.2.1. Models using only the selected Features <a class=\"anchor\" id=\"11.2.1\"></a>"
   ]
  },
  {
   "cell_type": "markdown",
   "metadata": {},
   "source": [
    "#### Model 1"
   ]
  },
  {
   "cell_type": "code",
   "execution_count": null,
   "metadata": {},
   "outputs": [],
   "source": [
    "clf = GradientBoostingClassifier(max_depth=3,min_samples_leaf=10,n_estimators=300,subsample=0.8,random_state=10)\n",
    "\n",
    "print('-------MODEL WITH THE SELECTED FEATURES-------')\n",
    "scores = model_selection.cross_val_score(clf, X_train[selected_features], y_train, cv=3, scoring='f1_micro')\n",
    "print(\"Score on train: %0.5f (+/- %0.2f)\" % (scores.mean(), scores.std()))\n",
    "clf.fit(X_train[selected_features], y_train)\n",
    "y_pred = clf.predict(X_val[selected_features])\n",
    "score(y_val,y_pred)"
   ]
  },
  {
   "cell_type": "markdown",
   "metadata": {},
   "source": [
    "#### Model 2"
   ]
  },
  {
   "cell_type": "code",
   "execution_count": null,
   "metadata": {},
   "outputs": [],
   "source": [
    "clf =HistGradientBoostingClassifier(random_state=0)\n",
    "\n",
    "print('-------MODEL WITH THE SELECTED FEATURES-------')\n",
    "scores = model_selection.cross_val_score(clf, X_train[selected_features], y_train, cv=3, scoring='f1_micro')\n",
    "print(\"Score on train: %0.5f (+/- %0.2f)\" % (scores.mean(), scores.std()))\n",
    "clf.fit(X_train[selected_features], y_train)\n",
    "y_pred = clf.predict(X_val[selected_features])\n",
    "score(y_val,y_pred)\n"
   ]
  },
  {
   "cell_type": "markdown",
   "metadata": {},
   "source": [
    "#### Model 3"
   ]
  },
  {
   "cell_type": "code",
   "execution_count": null,
   "metadata": {
    "scrolled": true
   },
   "outputs": [],
   "source": [
    "clf = AdaBoostClassifier(learning_rate= 1.5, n_estimators= 210, random_state=0)\n",
    "\n",
    "print('-------MODEL WITH THE SELECTED FEATURES-------')\n",
    "scores = model_selection.cross_val_score(clf, X_train[selected_features], y_train, cv=3, scoring='f1_micro')\n",
    "print(\"Score on train: %0.5f (+/- %0.2f)\" % (scores.mean(), scores.std()))\n",
    "clf.fit(X_train[selected_features], y_train)\n",
    "y_pred = clf.predict(X_val[selected_features])\n",
    "score(y_val,y_pred)"
   ]
  },
  {
   "cell_type": "markdown",
   "metadata": {},
   "source": [
    "#### Model 4"
   ]
  },
  {
   "cell_type": "code",
   "execution_count": null,
   "metadata": {
    "scrolled": true
   },
   "outputs": [],
   "source": [
    "clf = SVC(C=3)\n",
    "\n",
    "print('-------MODEL WITH THE SELECTED FEATURES-------')\n",
    "scores = model_selection.cross_val_score(clf, X_train[selected_features], y_train, cv=3, scoring='f1_micro')\n",
    "print(\"Score on train: %0.5f (+/- %0.2f)\" % (scores.mean(), scores.std()))\n",
    "clf.fit(X_train[selected_features], y_train)\n",
    "y_pred = clf.predict(X_val[selected_features])\n",
    "score(y_val,y_pred)"
   ]
  },
  {
   "cell_type": "markdown",
   "metadata": {},
   "source": [
    "#### Model 5"
   ]
  },
  {
   "cell_type": "code",
   "execution_count": null,
   "metadata": {
    "scrolled": true
   },
   "outputs": [],
   "source": [
    "clf = MLPClassifier(hidden_layer_sizes=(20,10), activation='logistic',learning_rate='adaptive', random_state=3, max_iter=600)\n",
    "\n",
    "print('-------MODEL WITH THE SELECTED FEATURES-------')\n",
    "scores = model_selection.cross_val_score(clf, X_train[selected_features], y_train, cv=3, scoring='f1_micro')\n",
    "print(\"Score on train: %0.5f (+/- %0.2f)\" % (scores.mean(), scores.std()))\n",
    "clf.fit(X_train[selected_features], y_train)\n",
    "y_pred = clf.predict(X_val[selected_features])\n",
    "score(y_val,y_pred)"
   ]
  },
  {
   "cell_type": "markdown",
   "metadata": {},
   "source": [
    "#### Model 6"
   ]
  },
  {
   "cell_type": "code",
   "execution_count": null,
   "metadata": {
    "scrolled": true
   },
   "outputs": [],
   "source": [
    "clf = LogisticRegression()\n",
    "\n",
    "print('-------MODEL WITH THE SELECTED FEATURES-------')\n",
    "scores = model_selection.cross_val_score(clf, X_train[selected_features], y_train, cv=3, scoring='f1_micro')\n",
    "print(\"Score on train: %0.5f (+/- %0.2f)\" % (scores.mean(), scores.std()))\n",
    "clf.fit(X_train[selected_features], y_train)\n",
    "y_pred = clf.predict(X_val[selected_features])\n",
    "score(y_val,y_pred)"
   ]
  },
  {
   "cell_type": "markdown",
   "metadata": {},
   "source": [
    "#### Model 7"
   ]
  },
  {
   "cell_type": "code",
   "execution_count": null,
   "metadata": {
    "scrolled": true
   },
   "outputs": [],
   "source": [
    "clf = GaussianNB()\n",
    "\n",
    "print('-------MODEL WITH THE SELECTED FEATURES-------')\n",
    "scores = model_selection.cross_val_score(clf, X_train[selected_features], y_train, cv=3, scoring='f1_micro')\n",
    "print(\"Score on train: %0.5f (+/- %0.2f)\" % (scores.mean(), scores.std()))\n",
    "clf.fit(X_train[selected_features], y_train)\n",
    "y_pred = clf.predict(X_val[selected_features])\n",
    "score(y_val,y_pred)"
   ]
  },
  {
   "cell_type": "markdown",
   "metadata": {},
   "source": [
    "### 11.2.2. Models using all the Features <a class=\"anchor\" id=\"11.2.2\"></a>"
   ]
  },
  {
   "cell_type": "markdown",
   "metadata": {
    "id": "hMHLEr9y_wTb"
   },
   "source": [
    "#### Model 1"
   ]
  },
  {
   "cell_type": "code",
   "execution_count": null,
   "metadata": {},
   "outputs": [],
   "source": [
    "clf = GradientBoostingClassifier(max_depth=3,min_samples_leaf=10,n_estimators=300,subsample=0.8,random_state=10)\n",
    "\n",
    "print('-------MODEL WITH ALL THE FEATURES-------')\n",
    "scores = model_selection.cross_val_score(clf, X_train, y_train, cv=3, scoring='f1_micro')\n",
    "print(\"Score on train: %0.5f (+/- %0.2f)\" % (scores.mean(), scores.std()))\n",
    "clf.fit(X_train, y_train)\n",
    "y_pred = clf.predict(X_val)\n",
    "score(y_val,y_pred)"
   ]
  },
  {
   "cell_type": "markdown",
   "metadata": {},
   "source": [
    "#### Model 2"
   ]
  },
  {
   "cell_type": "code",
   "execution_count": null,
   "metadata": {},
   "outputs": [],
   "source": [
    "clf =HistGradientBoostingClassifier(random_state=0)\n",
    "\n",
    "print('-------MODEL WITH ALL THE FEATURES-------')\n",
    "scores = model_selection.cross_val_score(clf, X_train, y_train, cv=3, scoring='f1_micro')\n",
    "print(\"Score on train: %0.5f (+/- %0.2f)\" % (scores.mean(), scores.std()))\n",
    "clf.fit(X_train, y_train)\n",
    "y_pred = clf.predict(X_val)\n",
    "score(y_val,y_pred)"
   ]
  },
  {
   "cell_type": "markdown",
   "metadata": {},
   "source": [
    "#### Model 3"
   ]
  },
  {
   "cell_type": "code",
   "execution_count": null,
   "metadata": {
    "scrolled": true
   },
   "outputs": [],
   "source": [
    "clf = AdaBoostClassifier(learning_rate= 1.5, n_estimators= 210, random_state=0)\n",
    "\n",
    "print('-------MODEL WITH ALL THE FEATURES-------')\n",
    "scores = model_selection.cross_val_score(clf, X_train, y_train, cv=3, scoring='f1_micro')\n",
    "print(\"Score on train: %0.5f (+/- %0.2f)\" % (scores.mean(), scores.std()))\n",
    "clf.fit(X_train, y_train)\n",
    "y_pred = clf.predict(X_val)\n",
    "score(y_val,y_pred)"
   ]
  },
  {
   "cell_type": "markdown",
   "metadata": {},
   "source": [
    "#### Model 4"
   ]
  },
  {
   "cell_type": "code",
   "execution_count": null,
   "metadata": {
    "scrolled": true
   },
   "outputs": [],
   "source": [
    "clf = SVC(C=3)\n",
    "\n",
    "print('-------MODEL WITH ALL THE FEATURES-------')\n",
    "scores = model_selection.cross_val_score(clf, X_train, y_train, cv=3, scoring='f1_micro')\n",
    "print(\"Score on train: %0.5f (+/- %0.2f)\" % (scores.mean(), scores.std()))\n",
    "clf.fit(X_train, y_train)\n",
    "y_pred = clf.predict(X_val)\n",
    "score(y_val,y_pred)"
   ]
  },
  {
   "cell_type": "markdown",
   "metadata": {},
   "source": [
    "#### Model 5"
   ]
  },
  {
   "cell_type": "code",
   "execution_count": null,
   "metadata": {
    "scrolled": true
   },
   "outputs": [],
   "source": [
    "clf = MLPClassifier(hidden_layer_sizes=(20,10), activation='logistic',learning_rate='adaptive', random_state=3, max_iter=600)\n",
    "\n",
    "print('-------MODEL WITH ALL THE FEATURES-------')\n",
    "scores = model_selection.cross_val_score(clf, X_train, y_train, cv=3, scoring='f1_micro')\n",
    "print(\"Score on train: %0.5f (+/- %0.2f)\" % (scores.mean(), scores.std()))\n",
    "clf.fit(X_train, y_train)\n",
    "y_pred = clf.predict(X_val)\n",
    "score(y_val,y_pred)"
   ]
  },
  {
   "cell_type": "markdown",
   "metadata": {},
   "source": [
    "#### Model 6"
   ]
  },
  {
   "cell_type": "code",
   "execution_count": null,
   "metadata": {
    "scrolled": true
   },
   "outputs": [],
   "source": [
    "clf = LogisticRegression()\n",
    "\n",
    "print('-------MODEL WITH ALL THE FEATURES-------')\n",
    "scores = model_selection.cross_val_score(clf, X_train, y_train, cv=3, scoring='f1_micro')\n",
    "print(\"Score on train: %0.5f (+/- %0.2f)\" % (scores.mean(), scores.std()))\n",
    "clf.fit(X_train, y_train)\n",
    "y_pred = clf.predict(X_val)\n",
    "score(y_val,y_pred)"
   ]
  },
  {
   "cell_type": "markdown",
   "metadata": {},
   "source": [
    "#### Model 7"
   ]
  },
  {
   "cell_type": "code",
   "execution_count": null,
   "metadata": {
    "scrolled": true
   },
   "outputs": [],
   "source": [
    "clf = GaussianNB()\n",
    "\n",
    "print('-------MODEL WITH ALL THE FEATURES-------')\n",
    "scores = model_selection.cross_val_score(clf, X_train, y_train, cv=3, scoring='f1_micro')\n",
    "print(\"Score on train: %0.5f (+/- %0.2f)\" % (scores.mean(), scores.std()))\n",
    "clf.fit(X_train, y_train)\n",
    "y_pred = clf.predict(X_val)\n",
    "score(y_val,y_pred)"
   ]
  },
  {
   "cell_type": "markdown",
   "metadata": {},
   "source": [
    "### 11.2.3. Model with Balanced Data <a class=\"anchor\" id=\"11.2.3\"></a>"
   ]
  },
  {
   "cell_type": "code",
   "execution_count": null,
   "metadata": {},
   "outputs": [],
   "source": [
    "clf=GradientBoostingClassifier(random_state = 0, n_estimators = 1200)\n",
    "clf.fit(X_train_balanced,y_train_balanced)\n",
    "y_pred = clf.predict(X_val)\n",
    "score(y_val,y_pred)"
   ]
  },
  {
   "cell_type": "markdown",
   "metadata": {},
   "source": [
    "### 11.2.4. Classifiers Combination <a class=\"anchor\" id=\"11.2.4\"></a>\n",
    "##### Method that takes our best Classifiers so far and combines them in order to find the best Stacking Classifier and Voting Classifier Models \n",
    "\n",
    "The classifiers used are the following:"
   ]
  },
  {
   "cell_type": "code",
   "execution_count": null,
   "metadata": {},
   "outputs": [],
   "source": [
    "clf1 = GradientBoostingClassifier(max_depth=3,min_samples_leaf=10,n_estimators=300,subsample=0.8,random_state=10)\n",
    "clf2 = GradientBoostingClassifier(random_state = 0, n_estimators = 310)\n",
    "clf3 = HistGradientBoostingClassifier(random_state=0)\n",
    "clf4 = AdaBoostClassifier( learning_rate= 1.5, n_estimators= 210,random_state=0)\n",
    "clf5 = HistGradientBoostingClassifier(random_state=0,l2_regularization= 0, learning_rate= 0.3, max_depth=7 , \n",
    "                                    max_iter= 40,min_samples_leaf=20,max_leaf_nodes=31,validation_fraction=0.1,warm_start=True)\n",
    "clf6 = GradientBoostingClassifier(min_samples_split=10,max_depth=3,min_samples_leaf=1,n_estimators=300,subsample=0.8,random_state=10)\n",
    "clf7 = HistGradientBoostingClassifier(learning_rate=0.6,random_state=0,max_depth=3,max_iter=81,min_samples_leaf=5)\n",
    "clf8 = AdaBoostClassifier(n_estimators=250,learning_rate= 1.4)"
   ]
  },
  {
   "cell_type": "markdown",
   "metadata": {},
   "source": [
    "#### 11.2.4.1. Stacking Classifier Combinations <a class=\"anchor\" id=\"11.2.4.1\"></a>"
   ]
  },
  {
   "cell_type": "code",
   "execution_count": null,
   "metadata": {},
   "outputs": [],
   "source": [
    "# f1_scorer = make_scorer(f1_score, average='micro')\n",
    "lr = LogisticRegression()\n",
    "\n",
    "# Classifiers to combine:\n",
    "classifiers=[('clf1', clf1),('clf2', clf2),('clf3', clf3),('clf4', clf4),('clf5', clf5),('clf6', clf6),('clf7', clf7),\n",
    "             ('clf8', clf8)]\n",
    "\n",
    "# Function that combines our classifiers:\n",
    "def combine(arr, s): \n",
    "    return list(combinations(arr, s))\n",
    "\n",
    "stacked_clf_list=[]\n",
    "\n",
    "for i in range(2,len(classifiers)+1):\n",
    "    stacked_clf_list.append(combine(classifiers, i))\n",
    "\n",
    "best_combination = [0.00, \"\"]\n",
    "\n",
    "for j in range(len(stacked_clf_list)):\n",
    "    for i in range(len(stacked_clf_list[j])):\n",
    "        \n",
    "        estimators=stacked_clf_list[j][i]\n",
    "        clf_stack = StackingClassifier(estimators=estimators, final_estimator=LogisticRegression(),n_jobs=-1)\n",
    "\n",
    "        clf_stack.fit(X_train, y_train)\n",
    "        preds = clf_stack.predict(X_val)\n",
    "\n",
    "        val_score=f1_score(preds, y_val, average='micro')\n",
    "        if val_score > best_combination[0]:\n",
    "            best_combination[0] = val_score\n",
    "            best_combination[1] = stacked_clf_list[j][i]\n",
    "\n",
    "        print(\"SCORE on validation:\",(val_score, estimators),'\\n')"
   ]
  },
  {
   "cell_type": "code",
   "execution_count": null,
   "metadata": {},
   "outputs": [],
   "source": [
    "print(\"Best stacking Classifier model found is\" ,best_combination[1],\" with a score of: \", best_combination[0])"
   ]
  },
  {
   "cell_type": "markdown",
   "metadata": {},
   "source": [
    "#### 11.2.4.2. Voting Classifier Combinations <a class=\"anchor\" id=\"11.2.4.2\"></a>"
   ]
  },
  {
   "cell_type": "code",
   "execution_count": null,
   "metadata": {},
   "outputs": [],
   "source": [
    "# VotingClassifier combinations\n",
    "stacked_clf_list=[]\n",
    "classifiers=[('clf1', clf1),('clf2', clf2),('clf3', clf3),('clf4', clf4),('clf5', clf5),('clf6', clf6),('clf7', clf7),\n",
    "             ('clf8', clf8)]\n",
    "\n",
    "# Combining our classifiers between them (combinations between 2 and 8 elements):\n",
    "for i in range(2,len(classifiers)+1):\n",
    "    stacked_clf_list.append(combine(classifiers, i))\n",
    "\n",
    "best_combination = [0.00, \"\"]\n",
    "\n",
    "for j in range(len(stacked_clf_list)):\n",
    "    for i in range(len(stacked_clf_list[j])):\n",
    "        estimators=stacked_clf_list[j][i]\n",
    "\n",
    "        clf_stack = VotingClassifier(estimators=estimators, voting='hard',n_jobs=-1)\n",
    "\n",
    "        clf_stack.fit(X_train, y_train)\n",
    "        preds = clf_stack.predict(X_val)\n",
    "\n",
    "        val_score=f1_score(preds, y_val, average='micro')\n",
    "        if val_score > best_combination[0]:\n",
    "            best_combination[0] = val_score\n",
    "            best_combination[1] = stacked_clf_list[j][i]\n",
    "\n",
    "        print(\"SCORE on validation:\",(val_score, estimators),'\\n')"
   ]
  },
  {
   "cell_type": "code",
   "execution_count": null,
   "metadata": {},
   "outputs": [],
   "source": [
    "print(\"Best Voting Classifier model found is\" ,best_combination[1],\" with a score of: \", best_combination[0])"
   ]
  },
  {
   "cell_type": "markdown",
   "metadata": {},
   "source": [
    "### 11.2.5. Testing the best Combinations found before <a class=\"anchor\" id=\"11.2.5\"></a>"
   ]
  },
  {
   "cell_type": "markdown",
   "metadata": {},
   "source": [
    "#### 11.2.5.1. Model a) <a class=\"anchor\" id=\"11.2.5.1\"></a>\n",
    "##### VotingClassifier\n",
    "\n",
    "Score on kaggle: 0.86468"
   ]
  },
  {
   "cell_type": "code",
   "execution_count": null,
   "metadata": {},
   "outputs": [],
   "source": [
    "estimators = [('clf1', clf1),('clf2', clf2),('clf3', clf3),('clf4', clf4),('clf6', clf6),('clf8', clf8)]\n",
    "clf = VotingClassifier(estimators=estimators, voting='hard',n_jobs=-1)\n",
    "\n",
    "print('-----Performance on the Train and Validation data sets-------')\n",
    "print('3-fold cross validation:\\n')\n",
    "for cl, label in zip([clf1, clf2,clf3,clf4,clf6,clf8, clf], \n",
    "                      [ \n",
    "                       'clf1 - GradientBoostingClassifier ', 'clf2 - GradientBoostingClassifier',\n",
    "                       'clf3 - HistGradientBoostingClassifier','clf4 - AdaboostClassifier',\n",
    "                          'clf6 - GradientBoostingClassifier','clf8 - AdaboostClassifier',\n",
    "                       'Voting Classifier with the above as estimators']):\n",
    "\n",
    "    scores = model_selection.cross_val_score(cl, X_train, y_train, \n",
    "                                              cv=3, scoring='f1_micro')\n",
    "    print(\"Score on train: %0.5f (+/- %0.2f) [%s]\" \n",
    "          % (scores.mean(), scores.std(), label))\n",
    "clf.fit(X_train, y_train)\n",
    "y_pred = clf.predict(X_val)\n",
    "print('-----Performance on the Validation data set-------')\n",
    "score(y_val,y_pred)\n",
    "\n",
    "y_pred = clf.predict(X_test)\n",
    "print('\\n\\n-----Performance on the Test data set-------')\n",
    "score(y_test,y_pred)"
   ]
  },
  {
   "cell_type": "markdown",
   "metadata": {},
   "source": [
    "#### 11.2.5.2. Model b) <a class=\"anchor\" id=\"11.2.5.2\"></a>\n",
    "##### VotingClassifier\n",
    "\n",
    "Score on kaggle: 0.86369"
   ]
  },
  {
   "cell_type": "code",
   "execution_count": null,
   "metadata": {},
   "outputs": [],
   "source": [
    "estimators = [('clf1', clf1),('clf4', clf4)]\n",
    "clf = VotingClassifier(estimators=estimators, voting='hard',n_jobs=-1)\n",
    "\n",
    "print('-----Performance on the Train and Validation data sets-------')\n",
    "print('3-fold cross validation:\\n')\n",
    "for cl, label in zip([clf1, clf4, clf], \n",
    "                      [ \n",
    "                       'clf1 - GradientBoostingClassifier ','clf4 - AdaboostClassifier',\n",
    "                          'Voting Classifier with the above as estimators']):\n",
    "\n",
    "    scores = model_selection.cross_val_score(cl, X_train, y_train, \n",
    "                                              cv=3, scoring='f1_micro')\n",
    "    print(\"Score on train: %0.5f (+/- %0.2f) [%s]\" \n",
    "          % (scores.mean(), scores.std(), label))\n",
    "    \n",
    "clf.fit(X_train, y_train)\n",
    "y_pred = clf.predict(X_val)\n",
    "score(y_val,y_pred)\n",
    "\n",
    "y_pred = clf.predict(X_test)\n",
    "print('\\n\\n-----Performance on the Test data set-------')\n",
    "score(y_test,y_pred)"
   ]
  },
  {
   "cell_type": "markdown",
   "metadata": {},
   "source": [
    "#### 11.2.5.3. Model c)  <a class=\"anchor\" id=\"11.2.5.3\"></a>\n",
    "##### Stacking Classifier\n",
    "\n",
    "Score on kaggle: 0.86897"
   ]
  },
  {
   "cell_type": "code",
   "execution_count": null,
   "metadata": {},
   "outputs": [],
   "source": [
    "estimators=[('clf2', clf2),('clf3', clf3),('clf5', clf5),('clf7', clf7)]\n",
    "\n",
    "clf = StackingClassifier(estimators=estimators, final_estimator=LogisticRegression(),n_jobs=-1)\n",
    "\n",
    "print('-----Performance on the Train and Validation data sets-------')\n",
    "print('3-fold cross validation:\\n')\n",
    "for cl, label in zip([clf2, clf3,clf5,clf7, clf], \n",
    "                      [ \n",
    "                       'clf2 - GradientBoostingClassifier ', \n",
    "                       'clf3 - HistGradientBoostingClassifier','clf5 - HistGradientBoostingClassifier',\n",
    "                          'clf7 - HistGradientBoostingClassifier',\n",
    "                       'StackingClassifier with the above as estimators']):\n",
    "\n",
    "    scores = model_selection.cross_val_score(cl, X_train, y_train, \n",
    "                                              cv=3, scoring='f1_micro')\n",
    "    print(\"Score on train: %0.5f (+/- %0.2f) [%s]\" \n",
    "          % (scores.mean(), scores.std(), label))\n",
    "# score on the validation\n",
    "clf.fit(X_train, y_train)\n",
    "y_pred = clf.predict(X_val)\n",
    "score(y_val,y_pred)\n",
    "\n",
    "y_pred = clf.predict(X_test)\n",
    "print('\\n\\n-----Performance on the Test data set-------')\n",
    "score(y_test,y_pred)"
   ]
  },
  {
   "cell_type": "markdown",
   "metadata": {},
   "source": [
    "#### 11.2.5.4. Model d) <a class=\"anchor\" id=\"11.2.5.4\"></a>\n",
    "##### Stacking Classifier\n",
    "\n",
    "Score on kaggle: 0.86402"
   ]
  },
  {
   "cell_type": "code",
   "execution_count": null,
   "metadata": {},
   "outputs": [],
   "source": [
    "estimators=[('clf1', clf1),('clf5', clf5),('clf6', clf6),('clf8', clf8)]\n",
    "clf = StackingClassifier(estimators=estimators, final_estimator=LogisticRegression(),n_jobs=-1)\n",
    "\n",
    "print('-----Performance on the Train and Validation data sets-------')\n",
    "print('3-fold cross validation:\\n')\n",
    "for cl, label in zip([clf1, clf5,clf6,clf8, clf], \n",
    "                      [ \n",
    "                       'clf1 - GradientBoostingClassifier ', \n",
    "                       'clf5 - HistGradientBoostingClassifier','clf6 - GradientBoostingClassifier','clf8 - AdaboostClassifier',\n",
    "                       'StackingClassifier with the above as estimators']):\n",
    "\n",
    "    scores = model_selection.cross_val_score(cl, X_train, y_train, \n",
    "                                              cv=3, scoring='f1_micro')\n",
    "    print(\"Score on train: %0.5f (+/- %0.2f) [%s]\" \n",
    "          % (scores.mean(), scores.std(), label))\n",
    "clf.fit(X_train, y_train)\n",
    "y_pred = clf.predict(X_val)\n",
    "score(y_val,y_pred)\n",
    "\n",
    "y_pred = clf.predict(X_test)\n",
    "print('\\n\\n-----Performance on the Test data set-------')\n",
    "score(y_test,y_pred)"
   ]
  },
  {
   "cell_type": "markdown",
   "metadata": {},
   "source": [
    "#### 11.2.5.5. Model e) <a class=\"anchor\" id=\"11.2.5.5\"></a>\n",
    "##### Stacking Classifier\n",
    "\n",
    "Score on kaggle: 0.86930"
   ]
  },
  {
   "cell_type": "code",
   "execution_count": null,
   "metadata": {},
   "outputs": [],
   "source": [
    "estimators = [('clf2', clf2),('clf3', clf3),('clf5', clf5)]\n",
    "clf = StackingClassifier(estimators=estimators, final_estimator=LogisticRegression(),n_jobs=-1)\n",
    "\n",
    "print('-----Performance on the Train and Validation data sets-------')\n",
    "print('3-fold cross validation:\\n')\n",
    "\n",
    "for cl, label in zip([clf2, clf3,clf5, clf], \n",
    "                      [ \n",
    "                       'clf2 - GradientBoostingClassifier', \n",
    "                       'clf3 - HistGradientBoostingClassifier','clf5 - HistGradientBoostingClassifier',\n",
    "                       'StackingClassifier with the above as estimators']):\n",
    "\n",
    "    scores = model_selection.cross_val_score(cl, X_train, y_train, \n",
    "                                              cv=3, scoring='f1_micro')\n",
    "    print(\"Score on train: %0.5f (+/- %0.2f) [%s]\" \n",
    "          % (scores.mean(), scores.std(), label))\n",
    "# score on the validation\n",
    "clf.fit(X_train, y_train)\n",
    "y_pred = clf.predict(X_val)\n",
    "score(y_val,y_pred)\n",
    "\n",
    "y_pred = clf.predict(X_test)\n",
    "print('\\n\\n-----Performance on the Test data set-------')\n",
    "score(y_test,y_pred)"
   ]
  },
  {
   "cell_type": "markdown",
   "metadata": {},
   "source": [
    "# 12. Submission <a class=\"anchor\" id=\"12\"></a>"
   ]
  },
  {
   "cell_type": "code",
   "execution_count": null,
   "metadata": {},
   "outputs": [],
   "source": [
    "teste_final = pd.read_excel(\"Test.xlsx\").set_index(\"CITIZEN_ID\")\n",
    "teste_final=change_df(teste_final)\n",
    "teste_final=scale(teste_final)\n",
    "teste_final=CategoricalKNNImputer(teste_final)\n",
    "teste_final=ohe(teste_final)\n",
    "teste_final.head()"
   ]
  },
  {
   "cell_type": "code",
   "execution_count": null,
   "metadata": {},
   "outputs": [],
   "source": [
    "# teste_final=teste_final[X_train.columns]\n",
    "# y_final =  clf.predict(teste_final)\n",
    "# teste_final['Income']=y_final.copy()\n",
    "# teste_final[['Income']].to_csv('Group13_Test41.csv')"
   ]
  }
 ],
 "metadata": {
  "kernelspec": {
   "display_name": "Python 3",
   "language": "python",
   "name": "python3"
  },
  "language_info": {
   "codemirror_mode": {
    "name": "ipython",
    "version": 3
   },
   "file_extension": ".py",
   "mimetype": "text/x-python",
   "name": "python",
   "nbconvert_exporter": "python",
   "pygments_lexer": "ipython3",
   "version": "3.8.5"
  }
 },
 "nbformat": 4,
 "nbformat_minor": 4
}
